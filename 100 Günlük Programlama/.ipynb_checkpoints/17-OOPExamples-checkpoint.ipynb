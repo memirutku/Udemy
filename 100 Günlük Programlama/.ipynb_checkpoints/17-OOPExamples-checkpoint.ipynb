{
 "cells": [
  {
   "cell_type": "markdown",
   "id": "ce63e866-ac61-440a-9e19-dbe2ac0f9662",
   "metadata": {},
   "source": [
    "# INHERITANCE"
   ]
  },
  {
   "cell_type": "code",
   "execution_count": 3,
   "id": "8d97e408-bb6d-4dce-a0dc-32e0e0d5e550",
   "metadata": {},
   "outputs": [],
   "source": [
    "# Kalitim almak demek \n",
    "# yani miras\n",
    "#bir sınıfın başka sınıfı kalıtım alıp kalıtım aldığı sınıfın özelliklerini kullanmasıyla olur."
   ]
  },
  {
   "cell_type": "code",
   "execution_count": 5,
   "id": "a27938ff-e42f-4ab6-b62e-e72feae7aa73",
   "metadata": {},
   "outputs": [],
   "source": [
    "class Musician():\n",
    "    def __init__(self,name):\n",
    "        self.name = name\n",
    "        print(\"Musician class\")\n",
    "    def test1(self):\n",
    "        print(\"test1\")\n",
    "    def test2(self):\n",
    "        print(\"test2\")"
   ]
  },
  {
   "cell_type": "code",
   "execution_count": 7,
   "id": "eea42ce1-86fd-4c98-8773-1df7187ab824",
   "metadata": {},
   "outputs": [
    {
     "name": "stdout",
     "output_type": "stream",
     "text": [
      "Musician class\n"
     ]
    }
   ],
   "source": [
    "mustafa = Musician(\"mustafa\")"
   ]
  },
  {
   "cell_type": "code",
   "execution_count": 9,
   "id": "c9b303b5-f475-48bd-b20f-9cebc38c8268",
   "metadata": {},
   "outputs": [
    {
     "data": {
      "text/plain": [
       "'mustafa'"
      ]
     },
     "execution_count": 9,
     "metadata": {},
     "output_type": "execute_result"
    }
   ],
   "source": [
    "mustafa.name"
   ]
  },
  {
   "cell_type": "code",
   "execution_count": 13,
   "id": "9f76fcdb-e865-42ad-a76d-9b125e873e5b",
   "metadata": {},
   "outputs": [
    {
     "name": "stdout",
     "output_type": "stream",
     "text": [
      "test1\n"
     ]
    }
   ],
   "source": [
    "mustafa.test1()"
   ]
  },
  {
   "cell_type": "code",
   "execution_count": 15,
   "id": "a9e6ca35-761d-495a-990b-c249ac147a15",
   "metadata": {},
   "outputs": [
    {
     "name": "stdout",
     "output_type": "stream",
     "text": [
      "test2\n"
     ]
    }
   ],
   "source": [
    "mustafa.test2()"
   ]
  },
  {
   "cell_type": "code",
   "execution_count": 55,
   "id": "e84398c9-2e47-46da-b009-90b4a98f5812",
   "metadata": {},
   "outputs": [],
   "source": [
    "#ilk oluşturduğumuz sınıf ile hemen hemen aynı işi yapan ama ekstra özellikli bir sınıf oluşturmak istiyoruz\n",
    "# direkt içine ilk sınıfımızın özelliklerini de yapıştırabiliriz ama öyle hem ekstra düzensiz ve yük olur \n",
    "\n",
    "class MusicianPlus(Musician): #Construct alanına inherit etmek istediğimiz classın adını yazıyoruz\n",
    "    def __init__(self,name):\n",
    "        Musician.__init__(self,name)#Musician ın init ini çalıştırır.(Büyük harf küçük harf e dikkat et))\n",
    "        print(\"Musician plus\")\n",
    "    \n",
    "    def test3 (self):\n",
    "        print(\"test3\")\n",
    "\n",
    "    #override(üstüne yazmak)\n",
    "    def test1(self):\n",
    "        print(\"test11\")"
   ]
  },
  {
   "cell_type": "code",
   "execution_count": 57,
   "id": "ce2d991c-de63-4dc7-95c3-ce10ede6a212",
   "metadata": {},
   "outputs": [
    {
     "name": "stdout",
     "output_type": "stream",
     "text": [
      "Musician class\n",
      "Musician plus\n"
     ]
    }
   ],
   "source": [
    "# emir = MusicianPlus() #hata verir çünkü Musician plus da olmasa da Musician da name vardır (inherit ettiğimiz için özellik MusicianPlus a de geçti) ve o name i girmez isek hata alırız.\n",
    "emir= MusicianPlus(\"Emir\")\n",
    "\n",
    "# Hem class ı hem de plus clasını çalıştırmış oldu inherit ettiğimiz için"
   ]
  },
  {
   "cell_type": "code",
   "execution_count": 59,
   "id": "bbbdae46-d2bd-4e3d-8e49-4f7d1e0f04b8",
   "metadata": {},
   "outputs": [
    {
     "name": "stdout",
     "output_type": "stream",
     "text": [
      "test3\n"
     ]
    }
   ],
   "source": [
    "emir.test3()"
   ]
  },
  {
   "cell_type": "code",
   "execution_count": 61,
   "id": "78810d29-fb18-4779-a4f2-4411e57e5c5c",
   "metadata": {},
   "outputs": [
    {
     "name": "stdout",
     "output_type": "stream",
     "text": [
      "test2\n"
     ]
    }
   ],
   "source": [
    "#emir de test3 varken mustafa da yoktur bu da inheritancenın tek yönlü olduğunu gösterir.\n",
    "#inharitance yapan da tüm değerler var iken\n",
    "#inheritance olan class da sadece kendi class değerleri vardır.\n",
    "mustafa.test2()"
   ]
  },
  {
   "cell_type": "code",
   "execution_count": 63,
   "id": "a2227758-f972-4390-8faa-4b5eb376f844",
   "metadata": {},
   "outputs": [
    {
     "name": "stdout",
     "output_type": "stream",
     "text": [
      "test1\n"
     ]
    }
   ],
   "source": [
    "mustafa.test1()"
   ]
  },
  {
   "cell_type": "code",
   "execution_count": 65,
   "id": "f7a3111b-b21e-4212-a35f-44b2db005723",
   "metadata": {},
   "outputs": [
    {
     "name": "stdout",
     "output_type": "stream",
     "text": [
      "test11\n"
     ]
    }
   ],
   "source": [
    "emir.test1()"
   ]
  },
  {
   "cell_type": "code",
   "execution_count": null,
   "id": "857eb60a-f520-4c0e-8405-c0ecfb28a6bd",
   "metadata": {},
   "outputs": [],
   "source": [
    "#eğer inheritance olan üst class da bir değer var ise ve biz o değeri inheritance yapan da değiştirmek istiyor isek(inheritance olan da değer aynı kalır.)\n",
    "# aynı adda yazarız. Buna override(üstüne yazmak) denir."
   ]
  }
 ],
 "metadata": {
  "kernelspec": {
   "display_name": "Python [conda env:base] *",
   "language": "python",
   "name": "conda-base-py"
  },
  "language_info": {
   "codemirror_mode": {
    "name": "ipython",
    "version": 3
   },
   "file_extension": ".py",
   "mimetype": "text/x-python",
   "name": "python",
   "nbconvert_exporter": "python",
   "pygments_lexer": "ipython3",
   "version": "3.12.7"
  }
 },
 "nbformat": 4,
 "nbformat_minor": 5
}
