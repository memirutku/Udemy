{
 "cells": [
  {
   "cell_type": "markdown",
   "id": "ce63e866-ac61-440a-9e19-dbe2ac0f9662",
   "metadata": {},
   "source": [
    "# INHERITANCE"
   ]
  },
  {
   "cell_type": "code",
   "execution_count": 3,
   "id": "8d97e408-bb6d-4dce-a0dc-32e0e0d5e550",
   "metadata": {},
   "outputs": [],
   "source": [
    "# Kalitim almak demek \n",
    "# yani miras\n",
    "#bir sınıfın başka sınıfı kalıtım alıp kalıtım aldığı sınıfın özelliklerini kullanmasıyla olur."
   ]
  },
  {
   "cell_type": "code",
   "execution_count": 5,
   "id": "a27938ff-e42f-4ab6-b62e-e72feae7aa73",
   "metadata": {},
   "outputs": [],
   "source": [
    "class Musician():\n",
    "    def __init__(self,name):\n",
    "        self.name = name\n",
    "        print(\"Musician class\")\n",
    "    def test1(self):\n",
    "        print(\"test1\")\n",
    "    def test2(self):\n",
    "        print(\"test2\")"
   ]
  },
  {
   "cell_type": "code",
   "execution_count": 7,
   "id": "eea42ce1-86fd-4c98-8773-1df7187ab824",
   "metadata": {},
   "outputs": [
    {
     "name": "stdout",
     "output_type": "stream",
     "text": [
      "Musician class\n"
     ]
    }
   ],
   "source": [
    "mustafa = Musician(\"mustafa\")"
   ]
  },
  {
   "cell_type": "code",
   "execution_count": 9,
   "id": "c9b303b5-f475-48bd-b20f-9cebc38c8268",
   "metadata": {},
   "outputs": [
    {
     "data": {
      "text/plain": [
       "'mustafa'"
      ]
     },
     "execution_count": 9,
     "metadata": {},
     "output_type": "execute_result"
    }
   ],
   "source": [
    "mustafa.name"
   ]
  },
  {
   "cell_type": "code",
   "execution_count": 13,
   "id": "9f76fcdb-e865-42ad-a76d-9b125e873e5b",
   "metadata": {},
   "outputs": [
    {
     "name": "stdout",
     "output_type": "stream",
     "text": [
      "test1\n"
     ]
    }
   ],
   "source": [
    "mustafa.test1()"
   ]
  },
  {
   "cell_type": "code",
   "execution_count": 15,
   "id": "a9e6ca35-761d-495a-990b-c249ac147a15",
   "metadata": {},
   "outputs": [
    {
     "name": "stdout",
     "output_type": "stream",
     "text": [
      "test2\n"
     ]
    }
   ],
   "source": [
    "mustafa.test2()"
   ]
  },
  {
   "cell_type": "code",
   "execution_count": 55,
   "id": "e84398c9-2e47-46da-b009-90b4a98f5812",
   "metadata": {},
   "outputs": [],
   "source": [
    "#ilk oluşturduğumuz sınıf ile hemen hemen aynı işi yapan ama ekstra özellikli bir sınıf oluşturmak istiyoruz\n",
    "# direkt içine ilk sınıfımızın özelliklerini de yapıştırabiliriz ama öyle hem ekstra düzensiz ve yük olur \n",
    "\n",
    "class MusicianPlus(Musician): #Construct alanına inherit etmek istediğimiz classın adını yazıyoruz\n",
    "    def __init__(self,name):\n",
    "        Musician.__init__(self,name)#Musician ın init ini çalıştırır.(Büyük harf küçük harf e dikkat et))\n",
    "        print(\"Musician plus\")\n",
    "    \n",
    "    def test3 (self):\n",
    "        print(\"test3\")\n",
    "\n",
    "    #override(üstüne yazmak)\n",
    "    def test1(self):\n",
    "        print(\"test11\")"
   ]
  },
  {
   "cell_type": "code",
   "execution_count": 57,
   "id": "ce2d991c-de63-4dc7-95c3-ce10ede6a212",
   "metadata": {},
   "outputs": [
    {
     "name": "stdout",
     "output_type": "stream",
     "text": [
      "Musician class\n",
      "Musician plus\n"
     ]
    }
   ],
   "source": [
    "# emir = MusicianPlus() #hata verir çünkü Musician plus da olmasa da Musician da name vardır (inherit ettiğimiz için özellik MusicianPlus a de geçti) ve o name i girmez isek hata alırız.\n",
    "emir= MusicianPlus(\"Emir\")\n",
    "\n",
    "# Hem class ı hem de plus clasını çalıştırmış oldu inherit ettiğimiz için"
   ]
  },
  {
   "cell_type": "code",
   "execution_count": 59,
   "id": "bbbdae46-d2bd-4e3d-8e49-4f7d1e0f04b8",
   "metadata": {},
   "outputs": [
    {
     "name": "stdout",
     "output_type": "stream",
     "text": [
      "test3\n"
     ]
    }
   ],
   "source": [
    "emir.test3()"
   ]
  },
  {
   "cell_type": "code",
   "execution_count": 61,
   "id": "78810d29-fb18-4779-a4f2-4411e57e5c5c",
   "metadata": {},
   "outputs": [
    {
     "name": "stdout",
     "output_type": "stream",
     "text": [
      "test2\n"
     ]
    }
   ],
   "source": [
    "#emir de test3 varken mustafa da yoktur bu da inheritancenın tek yönlü olduğunu gösterir.\n",
    "#inharitance yapan da tüm değerler var iken\n",
    "#inheritance olan class da sadece kendi class değerleri vardır.\n",
    "mustafa.test2()"
   ]
  },
  {
   "cell_type": "code",
   "execution_count": 63,
   "id": "a2227758-f972-4390-8faa-4b5eb376f844",
   "metadata": {},
   "outputs": [
    {
     "name": "stdout",
     "output_type": "stream",
     "text": [
      "test1\n"
     ]
    }
   ],
   "source": [
    "mustafa.test1()"
   ]
  },
  {
   "cell_type": "code",
   "execution_count": 65,
   "id": "f7a3111b-b21e-4212-a35f-44b2db005723",
   "metadata": {},
   "outputs": [
    {
     "name": "stdout",
     "output_type": "stream",
     "text": [
      "test11\n"
     ]
    }
   ],
   "source": [
    "emir.test1()"
   ]
  },
  {
   "cell_type": "code",
   "execution_count": 67,
   "id": "857eb60a-f520-4c0e-8405-c0ecfb28a6bd",
   "metadata": {},
   "outputs": [],
   "source": [
    "#eğer inheritance olan üst class da bir değer var ise ve biz o değeri inheritance yapan da değiştirmek istiyor isek(inheritance olan da değer aynı kalır.)\n",
    "# aynı adda yazarız. Buna override(üstüne yazmak) denir."
   ]
  },
  {
   "cell_type": "markdown",
   "id": "a9858002-dd43-4140-8e8b-c82886ef20ff",
   "metadata": {},
   "source": [
    "# Polymorphism"
   ]
  },
  {
   "cell_type": "code",
   "execution_count": 70,
   "id": "2ae558bf-c56b-400f-b396-35f2a63070fd",
   "metadata": {},
   "outputs": [],
   "source": [
    "# aynı isimle farklı işlemleri yapmak"
   ]
  },
  {
   "cell_type": "code",
   "execution_count": 4,
   "id": "e0368004-a30f-4d32-9bf9-59fb72a592f6",
   "metadata": {},
   "outputs": [],
   "source": [
    "class Banana():\n",
    "    def __init__(self,name):\n",
    "        self.name = name\n",
    "\n",
    "    def info(self):\n",
    "        return f\"100 calories {self.name}\"\n",
    "\n",
    "class Apple():\n",
    "    def __init__(self,name):\n",
    "        self.name = name\n",
    "    \n",
    "    def info(self):\n",
    "        return f\"150 calories {self.name}\""
   ]
  },
  {
   "cell_type": "code",
   "execution_count": 6,
   "id": "e22b182f-5801-422e-8d39-e00ae3c91597",
   "metadata": {},
   "outputs": [],
   "source": [
    "banana = Banana(\"Banana\")"
   ]
  },
  {
   "cell_type": "code",
   "execution_count": 8,
   "id": "0d296e10-2326-427b-87a9-dbbd3a5fc1f0",
   "metadata": {},
   "outputs": [
    {
     "data": {
      "text/plain": [
       "'100 calories Banana'"
      ]
     },
     "execution_count": 8,
     "metadata": {},
     "output_type": "execute_result"
    }
   ],
   "source": [
    "banana.info()"
   ]
  },
  {
   "cell_type": "code",
   "execution_count": 10,
   "id": "bde6182f-94c3-45f0-8c16-a2fa1b001ba5",
   "metadata": {},
   "outputs": [],
   "source": [
    "apple = Apple(\"Apple\")"
   ]
  },
  {
   "cell_type": "code",
   "execution_count": 12,
   "id": "dfa43c4a-c972-44d3-ab5f-43a5ad2c7852",
   "metadata": {},
   "outputs": [
    {
     "data": {
      "text/plain": [
       "'150 calories Apple'"
      ]
     },
     "execution_count": 12,
     "metadata": {},
     "output_type": "execute_result"
    }
   ],
   "source": [
    "apple.info()"
   ]
  },
  {
   "cell_type": "code",
   "execution_count": 14,
   "id": "4ec8c7a5-e1e0-4fc4-9a78-1c592d903737",
   "metadata": {},
   "outputs": [],
   "source": [
    "fruitList=[banana,apple]"
   ]
  },
  {
   "cell_type": "code",
   "execution_count": 16,
   "id": "80e5b8c1-3650-4130-98a2-cc82f4082446",
   "metadata": {},
   "outputs": [
    {
     "name": "stdout",
     "output_type": "stream",
     "text": [
      "100 calories Banana\n",
      "150 calories Apple\n"
     ]
    }
   ],
   "source": [
    "#birbirine benzeyen bir ya da birden fazla fonksiyon ya da method var ise.\n",
    "#Bu fonksiyon ya da methodları listeye atadığımızda o listede benzer özellikleri kullanabiliyoruz\n",
    "for fruit in fruitList:\n",
    "    print(fruit.info())"
   ]
  },
  {
   "cell_type": "markdown",
   "id": "37aafdf7-e5fc-42b2-84ec-370a39e2236a",
   "metadata": {},
   "source": [
    "# Encapsulation"
   ]
  },
  {
   "cell_type": "code",
   "execution_count": 19,
   "id": "61bbb6ac-1208-4617-86cf-3a5f5de81bf5",
   "metadata": {},
   "outputs": [],
   "source": [
    "#encapsulation hapsetmek demek \n",
    "#oluşturduğumuz değişkenlerin nereden nasıl görüntülenebildiği, erişilebilirliği ile ilgili konu"
   ]
  },
  {
   "cell_type": "code",
   "execution_count": 43,
   "id": "b2d3600a-f7b7-47fb-9ec1-6a90b8e01c76",
   "metadata": {},
   "outputs": [],
   "source": [
    "class Phone():\n",
    "    def __init__(self,name,price):\n",
    "        self.name = name\n",
    "        self.__price = price #self.price = price\n",
    "\n",
    "    def info(self):\n",
    "        print(f\"{self.name} price is: {self.__price}\")\n",
    "    def changePrice(self,price):\n",
    "        self.__price= price"
   ]
  },
  {
   "cell_type": "code",
   "execution_count": 45,
   "id": "243f2f63-22cc-40dd-9aaf-20ce212077cc",
   "metadata": {},
   "outputs": [],
   "source": [
    "iPhone = Phone(\"iPhone 14\",1000)"
   ]
  },
  {
   "cell_type": "code",
   "execution_count": 47,
   "id": "b932fef3-f33a-4b2b-ad69-9500d403050f",
   "metadata": {},
   "outputs": [
    {
     "name": "stdout",
     "output_type": "stream",
     "text": [
      "iPhone 14 price is: 1000\n"
     ]
    }
   ],
   "source": [
    "iPhone.info()"
   ]
  },
  {
   "cell_type": "code",
   "execution_count": 49,
   "id": "6d621835-a4f9-4e1a-b617-7a9373d0f335",
   "metadata": {},
   "outputs": [],
   "source": [
    "# Bu yaptığımız class başka daha büyük bir yerde kullanılıyor\n",
    "# ve buz bunun değiştirilmesini istemiyorsak\n",
    "# değerlerin adlarının önüne iki tane alt çizgi koyarsak sadece bu sınıftan erişilebilir hale getiririz.\n",
    "# self.__price = price (sadece bu sınıftan erişilebilir)\n",
    "# self.price = price (heryerden erişilebilir)"
   ]
  },
  {
   "cell_type": "code",
   "execution_count": 51,
   "id": "b63242e1-6039-45a3-8d17-a3d99aeb635f",
   "metadata": {},
   "outputs": [],
   "source": [
    "iPhone.price = 500 "
   ]
  },
  {
   "cell_type": "code",
   "execution_count": 53,
   "id": "f93b156d-745d-4c83-8340-05a4989728b8",
   "metadata": {},
   "outputs": [
    {
     "name": "stdout",
     "output_type": "stream",
     "text": [
      "iPhone 14 price is: 1000\n"
     ]
    }
   ],
   "source": [
    "iPhone.info() # üste değiştirmemize rağmen değişmedi çünkü __init__ in içinden değiştirilir sadece oraya da ılaşamadığımıza göre değiştirilemiyor\n",
    "# eğer deiğiştirmek istiyorsak ayrı bir method yazıp change price diye oradan ulaşmamız lazım."
   ]
  },
  {
   "cell_type": "code",
   "execution_count": 59,
   "id": "fb1f5c82-170c-4209-823f-b9fc4fed22fe",
   "metadata": {},
   "outputs": [],
   "source": [
    "iPhone.changePrice(500)\n",
    "# bu şekilde değişti çünkü __price ye bu şekilde direkt ulaşabiliyoruz."
   ]
  },
  {
   "cell_type": "code",
   "execution_count": 57,
   "id": "7427ab84-8137-48ca-aac7-b375bc6efe4a",
   "metadata": {},
   "outputs": [
    {
     "name": "stdout",
     "output_type": "stream",
     "text": [
      "iPhone 14 price is: 500\n"
     ]
    }
   ],
   "source": [
    "iPhone.info()"
   ]
  },
  {
   "cell_type": "markdown",
   "id": "9db219e4-af81-40ad-868c-2b9bd90ddadd",
   "metadata": {},
   "source": [
    "# Abstraction"
   ]
  },
  {
   "cell_type": "code",
   "execution_count": 68,
   "id": "017f13c9-0d3a-49ad-8a32-f63dd4057ee9",
   "metadata": {},
   "outputs": [],
   "source": [
    "# Abstraction soyutlama demektir\n",
    "# Soyut bir sınıf oluşturuyoruz o sınıfın kendisini kullanmıyoruz ama yapısını kullanıyoruz\n",
    "# Python da direkt Abstraction oluşturan bir keyword yok o yüzden bunun için bir sınıf oluşturmuşlar.\n",
    "# from abc import ABC, abstractmethod şeklinde çağırılır\n",
    "# Pythonda yüklü olrak geliyor "
   ]
  },
  {
   "cell_type": "code",
   "execution_count": 72,
   "id": "12aee7a6-8e32-4a13-8141-f34e06d577e7",
   "metadata": {},
   "outputs": [],
   "source": [
    "from abc import ABC, abstractmethod"
   ]
  },
  {
   "cell_type": "code",
   "execution_count": 126,
   "id": "5b9ea21e-5279-4efb-8b89-e1495ba410b5",
   "metadata": {},
   "outputs": [],
   "source": [
    "class Car(ABC): #() abstraction olarak kullanacağımız sınıfın içine inheritance alır gibi ABC yazıyoruz \n",
    "                #  import ettiğimiz için Abstractionu\n",
    "\n",
    "    @abstractmethod # bunu yazıyoruz bu method kullanılmaya zorunlu olması için yoksa anlamı kalmaz abstarc yapmanın\n",
    "    def maxSpeedself(self):\n",
    "        pass\n",
    "\n",
    "# bunun gibi sınıfları kullanmaya çalışırsan hata alırsın"
   ]
  },
  {
   "cell_type": "code",
   "execution_count": 110,
   "id": "a4725c07-57fd-468e-aff7-656236779522",
   "metadata": {},
   "outputs": [],
   "source": [
    "#myCar = Car() # bunun gibi sınıfları kullanmaya çalışırsan hata alırsın\n",
    "# çünkü Soyut bir sınıftır"
   ]
  },
  {
   "cell_type": "code",
   "execution_count": 112,
   "id": "c56112eb-6ca7-4535-b236-f0877c130f20",
   "metadata": {},
   "outputs": [],
   "source": [
    "class Tesla (Car):\n",
    "    def maxSpeed(self):\n",
    "        print(\"200km\")"
   ]
  },
  {
   "cell_type": "code",
   "execution_count": 120,
   "id": "0f4fd5fc-71e2-464d-adaa-070103ea6b3a",
   "metadata": {},
   "outputs": [],
   "source": [
    "#kod maxSpeed methodu yazılmadan önce çalıştırıldı\n",
    "#tesla = Tesla() # maxSpeed methodu yoktu diye hata alıyoruz çünkü iskelet olarak Car iskeletini kullandık.\n",
    "#o yüzden ona benzemek zorunda yapacağımız yeni class\n",
    "# maxSpeed yerine başka method yazsak da olmuyor maxSpeed olmak zorunda iskeletin dışına çıkamazsın."
   ]
  },
  {
   "cell_type": "code",
   "execution_count": 122,
   "id": "a2df05ed-f145-484e-98a8-2330f8851230",
   "metadata": {},
   "outputs": [],
   "source": [
    "tesla = Tesla() # maxSpeed yazdıktan sonra Car a benzediği içinde çalıştı"
   ]
  },
  {
   "cell_type": "code",
   "execution_count": 124,
   "id": "39d3a1df-7475-4ab4-ade2-aa642b0fac2d",
   "metadata": {},
   "outputs": [
    {
     "name": "stdout",
     "output_type": "stream",
     "text": [
      "200km\n"
     ]
    }
   ],
   "source": [
    "tesla.maxSpeed()"
   ]
  },
  {
   "cell_type": "markdown",
   "id": "3f0db9c9-2b08-4396-89e4-e391e23d6399",
   "metadata": {},
   "source": [
    "# Special Methods"
   ]
  },
  {
   "cell_type": "code",
   "execution_count": 186,
   "id": "a8ed8dc5-187e-41f8-aa74-e5a3f7fe0bef",
   "metadata": {},
   "outputs": [],
   "source": [
    "class Fruit():\n",
    "    def __init__(self,name,calories):\n",
    "        self.name = name\n",
    "        self.calories = calories\n",
    "\n",
    "    def __str__(self): # bu method ile classın kendi default/standart str methodunu değiştirip bu yapmış oluyoruz\n",
    "        return f\"{self.name}: {self.calories}\"\n",
    "\n",
    "    def __len__(self): #len() methodunu modifiye edebiliriz bu şekilde\n",
    "        return self.calories\n",
    "\n",
    "# aslında ikisinde de ovverride ediyoruz"
   ]
  },
  {
   "cell_type": "code",
   "execution_count": 188,
   "id": "8a682b57-1021-4b12-999c-68df835d5111",
   "metadata": {},
   "outputs": [],
   "source": [
    "myFruit = Fruit(\"banana\",150)"
   ]
  },
  {
   "cell_type": "code",
   "execution_count": 190,
   "id": "fcbffe7f-615e-4bfc-af32-ade8e488064e",
   "metadata": {},
   "outputs": [
    {
     "data": {
      "text/plain": [
       "150"
      ]
     },
     "execution_count": 190,
     "metadata": {},
     "output_type": "execute_result"
    }
   ],
   "source": [
    "myFruit.calories"
   ]
  },
  {
   "cell_type": "code",
   "execution_count": 192,
   "id": "79144b3f-577e-4136-9956-88a6e2ad40a3",
   "metadata": {},
   "outputs": [
    {
     "data": {
      "text/plain": [
       "'banana'"
      ]
     },
     "execution_count": 192,
     "metadata": {},
     "output_type": "execute_result"
    }
   ],
   "source": [
    "myFruit.name"
   ]
  },
  {
   "cell_type": "code",
   "execution_count": 194,
   "id": "472f4d88-69e4-4d28-89e1-2f9a4a71dcf0",
   "metadata": {},
   "outputs": [
    {
     "name": "stdout",
     "output_type": "stream",
     "text": [
      "banana: 150\n"
     ]
    }
   ],
   "source": [
    "print(myFruit)\n",
    "#<__main__.Fruit object at 0x127cbfcb0>\n",
    "# böyle bilgi vermek yerine nasıl fruit yazdıracağımızı göreceğiz\n",
    "# def __str__(self): methodu ile altına yazdıracağımız stringi yazarsak pythona özel bir method\n",
    "#print i kullandığımızda o stringi yazar."
   ]
  },
  {
   "cell_type": "code",
   "execution_count": 196,
   "id": "1186f919-2b91-4b34-88a9-06699738e96c",
   "metadata": {},
   "outputs": [],
   "source": [
    "#len(myFruit)#Hata verir biz leni değişiştirip bize hata vermek yerine myFruitin len ini vermesini istiyoruz\n"
   ]
  },
  {
   "cell_type": "code",
   "execution_count": 198,
   "id": "63dda68c-2838-41ff-9019-d461ab73c18b",
   "metadata": {},
   "outputs": [],
   "source": [
    "myList=[10,20,30]"
   ]
  },
  {
   "cell_type": "code",
   "execution_count": 200,
   "id": "36557769-672d-4aba-9baf-1ab2326772c6",
   "metadata": {},
   "outputs": [
    {
     "data": {
      "text/plain": [
       "3"
      ]
     },
     "execution_count": 200,
     "metadata": {},
     "output_type": "execute_result"
    }
   ],
   "source": [
    "len(myList) #len(myFruit) de böyle çalışmasını istiyoruz"
   ]
  },
  {
   "cell_type": "code",
   "execution_count": 202,
   "id": "6e9075e0-4fbc-4153-ac1d-98eabf2061a2",
   "metadata": {},
   "outputs": [
    {
     "data": {
      "text/plain": [
       "150"
      ]
     },
     "execution_count": 202,
     "metadata": {},
     "output_type": "execute_result"
    }
   ],
   "source": [
    "len(myFruit)\n",
    "#def __len__(self): \n",
    "#       return self.calories\n"
   ]
  },
  {
   "cell_type": "code",
   "execution_count": 205,
   "id": "e6dd300a-004c-49c7-9328-1fd40db64a64",
   "metadata": {},
   "outputs": [],
   "source": [
    "# Bunun gibi special methodslar \n",
    "# google de special methods list diye aratınca çıkıyor"
   ]
  },
  {
   "cell_type": "code",
   "execution_count": 213,
   "id": "b050c266-9106-4cdc-ba7a-53a454df5415",
   "metadata": {},
   "outputs": [],
   "source": [
    "class Train():\n",
    "    def __init__(self,name):\n",
    "        self.name =name\n",
    "    def __getitem__(self,key):\n",
    "        if key == \"a\":\n",
    "            return self.name\n",
    "        else:\n",
    "            return \"Not found\""
   ]
  },
  {
   "cell_type": "code",
   "execution_count": 215,
   "id": "38a5fb20-51a8-4e04-9d9f-0462f3f19e1b",
   "metadata": {},
   "outputs": [],
   "source": [
    "myTrain = Train(\"myTrain\")"
   ]
  },
  {
   "cell_type": "code",
   "execution_count": 217,
   "id": "2ac24445-59f9-432c-821c-77612dcf6b46",
   "metadata": {},
   "outputs": [
    {
     "data": {
      "text/plain": [
       "'myTrain'"
      ]
     },
     "execution_count": 217,
     "metadata": {},
     "output_type": "execute_result"
    }
   ],
   "source": [
    "myTrain[\"a\"]"
   ]
  },
  {
   "cell_type": "code",
   "execution_count": 219,
   "id": "e3bf2a02-bf11-412d-a94a-f892f521cd50",
   "metadata": {},
   "outputs": [
    {
     "data": {
      "text/plain": [
       "'Not found'"
      ]
     },
     "execution_count": 219,
     "metadata": {},
     "output_type": "execute_result"
    }
   ],
   "source": [
    "myTrain[\"b\"]"
   ]
  },
  {
   "cell_type": "code",
   "execution_count": 221,
   "id": "6eb3ffc4-e896-4a0a-a4be-6b344daeb604",
   "metadata": {},
   "outputs": [
    {
     "data": {
      "text/plain": [
       "'myTrain'"
      ]
     },
     "execution_count": 221,
     "metadata": {},
     "output_type": "execute_result"
    }
   ],
   "source": [
    "myTrain[\"a\"]"
   ]
  },
  {
   "cell_type": "code",
   "execution_count": 227,
   "id": "9d07fc4c-f79e-42e9-8886-7344a474db56",
   "metadata": {},
   "outputs": [],
   "source": [
    "#myFruit[\"a\"]\n",
    "#my fruit de def __getitem__(self,key): olmadığı için hata verir"
   ]
  },
  {
   "cell_type": "code",
   "execution_count": null,
   "id": "c3b1b584-f47f-4061-9457-908c8750f54c",
   "metadata": {},
   "outputs": [],
   "source": []
  }
 ],
 "metadata": {
  "kernelspec": {
   "display_name": "Python [conda env:base] *",
   "language": "python",
   "name": "conda-base-py"
  },
  "language_info": {
   "codemirror_mode": {
    "name": "ipython",
    "version": 3
   },
   "file_extension": ".py",
   "mimetype": "text/x-python",
   "name": "python",
   "nbconvert_exporter": "python",
   "pygments_lexer": "ipython3",
   "version": "3.12.7"
  }
 },
 "nbformat": 4,
 "nbformat_minor": 5
}
