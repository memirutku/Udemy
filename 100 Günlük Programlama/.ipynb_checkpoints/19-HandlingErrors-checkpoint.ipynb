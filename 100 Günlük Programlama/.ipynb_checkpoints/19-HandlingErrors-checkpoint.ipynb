{
 "cells": [
  {
   "cell_type": "code",
   "execution_count": 2,
   "id": "a597c582-c8c4-496e-9070-807f03768814",
   "metadata": {},
   "outputs": [],
   "source": [
    "#Kulanıcıdan bir bilgi aldığımızda doğru girmeyebilir bunu duzenlememizdir.\n",
    "# Ya da internetten de veri çekiyor olabiliriz."
   ]
  },
  {
   "cell_type": "code",
   "execution_count": 20,
   "id": "173be476-db5c-418e-8615-f967319ec1c7",
   "metadata": {},
   "outputs": [
    {
     "name": "stdin",
     "output_type": "stream",
     "text": [
      "enter age:  45\n"
     ]
    }
   ],
   "source": [
    "age = input (\"enter age: \")"
   ]
  },
  {
   "cell_type": "code",
   "execution_count": 22,
   "id": "13b99983-9f5d-416b-91eb-baa4edd2c3c9",
   "metadata": {},
   "outputs": [
    {
     "data": {
      "text/plain": [
       "'45'"
      ]
     },
     "execution_count": 22,
     "metadata": {},
     "output_type": "execute_result"
    }
   ],
   "source": [
    "age"
   ]
  },
  {
   "cell_type": "code",
   "execution_count": 24,
   "id": "ee5979b1-35fc-4f1b-b042-3ec892effc73",
   "metadata": {},
   "outputs": [
    {
     "data": {
      "text/plain": [
       "90"
      ]
     },
     "execution_count": 24,
     "metadata": {},
     "output_type": "execute_result"
    }
   ],
   "source": [
    "int(age)*2"
   ]
  },
  {
   "cell_type": "code",
   "execution_count": 12,
   "id": "6f719d8e-e5fa-406b-a56f-6eff16060573",
   "metadata": {},
   "outputs": [],
   "source": [
    "# try - except \n",
    "\n",
    "#dene - eğer bir istisna olursa mesajını ya da göstermek istediğin şeyi yaz"
   ]
  },
  {
   "cell_type": "code",
   "execution_count": 34,
   "id": "6d79423c-e6d0-4edc-b1cc-ed177b7bedba",
   "metadata": {},
   "outputs": [
    {
     "name": "stdin",
     "output_type": "stream",
     "text": [
      "enter age:  emir\n"
     ]
    },
    {
     "name": "stdout",
     "output_type": "stream",
     "text": [
      "Enter your age\n",
      "finnaly\n"
     ]
    },
    {
     "name": "stdin",
     "output_type": "stream",
     "text": [
      "enter age:  mustafa\n"
     ]
    },
    {
     "name": "stdout",
     "output_type": "stream",
     "text": [
      "Enter your age\n",
      "finnaly\n"
     ]
    },
    {
     "name": "stdin",
     "output_type": "stream",
     "text": [
      "enter age:  13\n"
     ]
    },
    {
     "name": "stdout",
     "output_type": "stream",
     "text": [
      "26\n",
      "else executed\n",
      "finnaly\n"
     ]
    }
   ],
   "source": [
    "#tab olayı vardır\n",
    "#try ın içine hata alabileceğimiz kodu yazıyoruz\n",
    "\n",
    "while True: # Her zaman çalışır. # while false olsaydı en baş true olduğu için kod çalışmazdı\n",
    "    try:\n",
    "        myAge=int(input(\"enter age: \"))\n",
    "        print(myAge * 2 )\n",
    "        #break # düzgün girildiğinde çıksın diye yapıyoruz.\n",
    "    #except: # try da hata çıkar ise except kısmı ne gösterecek ya da yapacak onu yazıyoruz.\n",
    "    \n",
    "    except ValueError: # bu şekilde yazar isek Value Error döndüğü zaman bu kodu yazar (Başka hatalar olduğunda başka hata adı da yazabiliriz.)\n",
    "        print(\"Enter your age\")\n",
    "        \n",
    "    #except errror: # Birden fazla except ile errorler handling edilebilir.\n",
    "    \n",
    "    else: # try ile beraber çalışıyor breakı koymak için kullanabiliriz\n",
    "        print(\"else executed\") \n",
    "        break\n",
    "    finally:\n",
    "        print(\"finnaly\") #finally her zaman çalışır. O yüzden çok kullanmayız\n",
    "\n",
    "# genellikle try ve except kullanırız."
   ]
  },
  {
   "cell_type": "code",
   "execution_count": null,
   "id": "39424c39-503b-4a6e-b430-739ee64d9f47",
   "metadata": {},
   "outputs": [],
   "source": []
  }
 ],
 "metadata": {
  "kernelspec": {
   "display_name": "Python [conda env:base] *",
   "language": "python",
   "name": "conda-base-py"
  },
  "language_info": {
   "codemirror_mode": {
    "name": "ipython",
    "version": 3
   },
   "file_extension": ".py",
   "mimetype": "text/x-python",
   "name": "python",
   "nbconvert_exporter": "python",
   "pygments_lexer": "ipython3",
   "version": "3.12.7"
  }
 },
 "nbformat": 4,
 "nbformat_minor": 5
}
