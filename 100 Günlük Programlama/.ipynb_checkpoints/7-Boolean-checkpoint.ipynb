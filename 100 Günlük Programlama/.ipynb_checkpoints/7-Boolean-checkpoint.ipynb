{
 "cells": [
  {
   "cell_type": "code",
   "execution_count": 2,
   "id": "cf3d78cf-b396-4f62-b148-ecca887f1bce",
   "metadata": {},
   "outputs": [],
   "source": [
    "# Boolean True ya da False dir  \"0\",\"1\" \n",
    "# Yazımı önemli yoksa hata veriyor"
   ]
  },
  {
   "cell_type": "code",
   "execution_count": 4,
   "id": "2f98d54f-3a81-48fc-80e0-35213059e88c",
   "metadata": {},
   "outputs": [
    {
     "data": {
      "text/plain": [
       "False"
      ]
     },
     "execution_count": 4,
     "metadata": {},
     "output_type": "execute_result"
    }
   ],
   "source": [
    "False"
   ]
  },
  {
   "cell_type": "code",
   "execution_count": 16,
   "id": "8682a9f5-8e46-4753-a576-4f00b485e8e8",
   "metadata": {},
   "outputs": [],
   "source": [
    "myBoolean = True"
   ]
  },
  {
   "cell_type": "code",
   "execution_count": 8,
   "id": "f0f525fd-7f9e-440a-aba8-6bdbbd12f72a",
   "metadata": {},
   "outputs": [
    {
     "data": {
      "text/plain": [
       "bool"
      ]
     },
     "execution_count": 8,
     "metadata": {},
     "output_type": "execute_result"
    }
   ],
   "source": [
    "type(myBoolean)"
   ]
  },
  {
   "cell_type": "code",
   "execution_count": 12,
   "id": "fb2452e7-7218-42a3-8319-a6d34d7f75c8",
   "metadata": {},
   "outputs": [],
   "source": [
    "myBoolean = False"
   ]
  },
  {
   "cell_type": "code",
   "execution_count": 18,
   "id": "d2232e23-5042-4ecf-9b0a-d8d35719f418",
   "metadata": {},
   "outputs": [
    {
     "data": {
      "text/plain": [
       "False"
      ]
     },
     "execution_count": 18,
     "metadata": {},
     "output_type": "execute_result"
    }
   ],
   "source": [
    "5 <3"
   ]
  },
  {
   "cell_type": "code",
   "execution_count": 20,
   "id": "cdd97820-235f-47cf-9cea-721f5fbad05b",
   "metadata": {},
   "outputs": [
    {
     "data": {
      "text/plain": [
       "True"
      ]
     },
     "execution_count": 20,
     "metadata": {},
     "output_type": "execute_result"
    }
   ],
   "source": [
    "5>3"
   ]
  },
  {
   "cell_type": "code",
   "execution_count": 26,
   "id": "adbe0fa2-7189-4ff7-b2bb-fa7230381833",
   "metadata": {},
   "outputs": [
    {
     "name": "stdin",
     "output_type": "stream",
     "text": [
      "yaşınızı giriniz:  30\n"
     ]
    },
    {
     "data": {
      "text/plain": [
       "True"
      ]
     },
     "execution_count": 26,
     "metadata": {},
     "output_type": "execute_result"
    }
   ],
   "source": [
    "x = input (\"yaşınızı giriniz: \")\n",
    "#inputlar str olarak alır kulllanacak isen onu int e çevirmen lazım\n",
    "int(x) > 18 "
   ]
  },
  {
   "cell_type": "code",
   "execution_count": null,
   "id": "a726787b-cb21-4b2a-93c0-58f8294b377e",
   "metadata": {},
   "outputs": [],
   "source": []
  }
 ],
 "metadata": {
  "kernelspec": {
   "display_name": "Python [conda env:base] *",
   "language": "python",
   "name": "conda-base-py"
  },
  "language_info": {
   "codemirror_mode": {
    "name": "ipython",
    "version": 3
   },
   "file_extension": ".py",
   "mimetype": "text/x-python",
   "name": "python",
   "nbconvert_exporter": "python",
   "pygments_lexer": "ipython3",
   "version": "3.12.7"
  }
 },
 "nbformat": 4,
 "nbformat_minor": 5
}
