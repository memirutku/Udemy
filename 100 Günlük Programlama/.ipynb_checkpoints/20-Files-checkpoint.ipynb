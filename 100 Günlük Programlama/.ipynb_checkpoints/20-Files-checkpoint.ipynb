{
 "cells": [
  {
   "cell_type": "code",
   "execution_count": 4,
   "id": "dcbca306-84d0-4dfb-89b4-faf00f5eb7e0",
   "metadata": {},
   "outputs": [
    {
     "name": "stdout",
     "output_type": "stream",
     "text": [
      "Writing myfile.txt\n"
     ]
    }
   ],
   "source": [
    "%%writefile myfile.txt\n",
    "test 1 \n",
    "test 2\n",
    "test 3 "
   ]
  },
  {
   "cell_type": "code",
   "execution_count": 10,
   "id": "a54751ba-2ba9-4a63-9b26-6594c3f4ac17",
   "metadata": {},
   "outputs": [],
   "source": [
    "#bu sadece jupyter notebook da geçerli myfile.txt oluşturup içine test 1 test 2 test 3 yazıyor\n",
    "#çalıştırılan python dosyasının olduğu yerde oluşur"
   ]
  },
  {
   "cell_type": "code",
   "execution_count": 3,
   "id": "32e0a3b2-18cb-4056-8ef7-381937abb8b0",
   "metadata": {},
   "outputs": [],
   "source": [
    "#zor yol\n",
    "#aynı klasörün içinde olduğu için böyle yazabiliyoruz\n",
    "# aynı klasörde olmasaydı tek tek yolunu yazmak gerekiyordu /Users/documents/myfile.txt gibi\n",
    "myFile = open(\"myfile.txt\")"
   ]
  },
  {
   "cell_type": "code",
   "execution_count": 5,
   "id": "78a24ac1-e278-4cde-982b-5045cef17139",
   "metadata": {},
   "outputs": [
    {
     "data": {
      "text/plain": [
       "_io.TextIOWrapper"
      ]
     },
     "execution_count": 5,
     "metadata": {},
     "output_type": "execute_result"
    }
   ],
   "source": [
    "type(myFile)\n",
    "#io input outpu işlemleri için kullanılan genel bir isim"
   ]
  },
  {
   "cell_type": "code",
   "execution_count": null,
   "id": "84b0f11f-678a-4ea1-b55c-99b184fbc7fe",
   "metadata": {},
   "outputs": [],
   "source": []
  }
 ],
 "metadata": {
  "kernelspec": {
   "display_name": "Python [conda env:base] *",
   "language": "python",
   "name": "conda-base-py"
  },
  "language_info": {
   "codemirror_mode": {
    "name": "ipython",
    "version": 3
   },
   "file_extension": ".py",
   "mimetype": "text/x-python",
   "name": "python",
   "nbconvert_exporter": "python",
   "pygments_lexer": "ipython3",
   "version": "3.12.7"
  }
 },
 "nbformat": 4,
 "nbformat_minor": 5
}
