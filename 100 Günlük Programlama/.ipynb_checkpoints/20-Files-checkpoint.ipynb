{
 "cells": [
  {
   "cell_type": "code",
   "execution_count": 4,
   "id": "dcbca306-84d0-4dfb-89b4-faf00f5eb7e0",
   "metadata": {},
   "outputs": [
    {
     "name": "stdout",
     "output_type": "stream",
     "text": [
      "Writing myfile.txt\n"
     ]
    }
   ],
   "source": [
    "%%writefile myfile.txt\n",
    "test 1 \n",
    "test 2\n",
    "test 3 "
   ]
  },
  {
   "cell_type": "code",
   "execution_count": 10,
   "id": "a54751ba-2ba9-4a63-9b26-6594c3f4ac17",
   "metadata": {},
   "outputs": [],
   "source": [
    "#bu sadece jupyter notebook da geçerli myfile.txt oluşturup içine test 1 test 2 test 3 yazıyor\n",
    "#çalıştırılan python dosyasının olduğu yerde oluşur"
   ]
  },
  {
   "cell_type": "code",
   "execution_count": 3,
   "id": "32e0a3b2-18cb-4056-8ef7-381937abb8b0",
   "metadata": {},
   "outputs": [],
   "source": [
    "#zor yol\n",
    "#aynı klasörün içinde olduğu için böyle yazabiliyoruz\n",
    "# aynı klasörde olmasaydı tek tek yolunu yazmak gerekiyordu /Users/documents/myfile.txt gibi\n",
    "myFile = open(\"myfile.txt\")"
   ]
  },
  {
   "cell_type": "code",
   "execution_count": 5,
   "id": "78a24ac1-e278-4cde-982b-5045cef17139",
   "metadata": {},
   "outputs": [
    {
     "data": {
      "text/plain": [
       "_io.TextIOWrapper"
      ]
     },
     "execution_count": 5,
     "metadata": {},
     "output_type": "execute_result"
    }
   ],
   "source": [
    "type(myFile)\n",
    "#io input outpu işlemleri için kullanılan genel bir isim"
   ]
  },
  {
   "cell_type": "code",
   "execution_count": 9,
   "id": "84b0f11f-678a-4ea1-b55c-99b184fbc7fe",
   "metadata": {},
   "outputs": [
    {
     "data": {
      "text/plain": [
       "'test 1 \\ntest 2\\ntest 3 \\n'"
      ]
     },
     "execution_count": 9,
     "metadata": {},
     "output_type": "execute_result"
    }
   ],
   "source": [
    "#myFile. dan sonra TAB a basarsak methodlar çıkar\n",
    "myFile.read()\n",
    "# \"/n\" yeni satır demek Bir aşağı satıra geçer"
   ]
  },
  {
   "cell_type": "code",
   "execution_count": 11,
   "id": "9088c491-c5a9-4f21-a08f-7cf44a4f34c1",
   "metadata": {},
   "outputs": [
    {
     "data": {
      "text/plain": [
       "''"
      ]
     },
     "execution_count": 11,
     "metadata": {},
     "output_type": "execute_result"
    }
   ],
   "source": [
    "myFile.read()\n",
    "#tekrar yazdığımızda boş gösteriyor \n",
    "#olay şöyle yazıyor read yazdığımız zaman okuma biz kapatmadan kapanmıyor\n",
    "# biz bir kere yazdığımızda okuma kısmı okuduktan sonra son kısımda kalıyor kapanmadığı için\n",
    "# son kısımdan sonra da bir şey yazmadığı için bize boş dönüyor"
   ]
  },
  {
   "cell_type": "code",
   "execution_count": 21,
   "id": "8b999032-4bec-41e7-be59-027af8e14aab",
   "metadata": {},
   "outputs": [
    {
     "data": {
      "text/plain": [
       "0"
      ]
     },
     "execution_count": 21,
     "metadata": {},
     "output_type": "execute_result"
    }
   ],
   "source": [
    "myFile.seek(0)\n",
    "#.seek(0) ile okuma kısmı(cursor) en başına alıyoruz böylece boş dönmüyor\n",
    "# burada ki 0 bağayı listedeki 0 değeri gibi en baştan başlıyor 1 dersek \"t\" yi almıyor mesela"
   ]
  },
  {
   "cell_type": "code",
   "execution_count": 23,
   "id": "4474e2bd-53a4-4483-9923-26bcf36cb447",
   "metadata": {},
   "outputs": [
    {
     "data": {
      "text/plain": [
       "'test 1 \\ntest 2\\ntest 3 \\n'"
      ]
     },
     "execution_count": 23,
     "metadata": {},
     "output_type": "execute_result"
    }
   ],
   "source": [
    "myFile.read()"
   ]
  },
  {
   "cell_type": "code",
   "execution_count": 25,
   "id": "5a20215e-f01a-4ee3-ab8f-30db0634df71",
   "metadata": {},
   "outputs": [],
   "source": [
    "myFile.close()\n",
    "#.close() ile kaptamamız lazım işimiz bittikten sonra"
   ]
  },
  {
   "cell_type": "code",
   "execution_count": 27,
   "id": "bb2ce2fe-99a2-4d9a-a48d-6ada8ff46eca",
   "metadata": {},
   "outputs": [],
   "source": [
    "#tab olayı vardır\n",
    "# altında yapılan tüm işlemler with keywordu sayesinde otomatik yapılacak\n",
    "# açılma kapanma cursor 0 a geri al gibi işlemler kendisi yapıyor\n",
    "with open(\"myFile.txt\") as myFile: # myFile.txt dosyasını kod da myFile adıyla tanıtıyor.\n",
    "    myContent = myFile.read()"
   ]
  },
  {
   "cell_type": "code",
   "execution_count": 31,
   "id": "310dc4f1-a1d1-4330-81ac-348fa973e639",
   "metadata": {},
   "outputs": [
    {
     "data": {
      "text/plain": [
       "'test 1 \\ntest 2\\ntest 3 \\n'"
      ]
     },
     "execution_count": 31,
     "metadata": {},
     "output_type": "execute_result"
    }
   ],
   "source": [
    "myContent"
   ]
  },
  {
   "cell_type": "code",
   "execution_count": 33,
   "id": "b3185a5d-a257-4818-88e5-45bf8ad4cf85",
   "metadata": {},
   "outputs": [
    {
     "data": {
      "text/plain": [
       "'test 1 \\ntest 2\\ntest 3 \\n'"
      ]
     },
     "execution_count": 33,
     "metadata": {},
     "output_type": "execute_result"
    }
   ],
   "source": [
    "myContent"
   ]
  },
  {
   "cell_type": "code",
   "execution_count": 51,
   "id": "72ed37ef-0f42-42f6-a213-a1b77d402065",
   "metadata": {},
   "outputs": [],
   "source": [
    "# bu modeler dosyayı ne için açtığımızı belirler\n",
    "#dosyayı açılma işlemini kısıtlamak için w ile açtığında okuyamazsın ya da r ile açtığında yazamazsın(burada yazmak dediğimiz dosyanın içeriğini değiştirmek)\n",
    "# w write, r read, a append \n",
    "# w write -> yazmak için\n",
    "# r read -> okumak için\n",
    "# a append -> ekleme yapmak için\n",
    "with open(\"myfile.txt\", mode=\"w\") as myNewFile:\n",
    "    myNewFile.write(\"test4\") # modu W olduğunda .write() parantez içine ne yazdıysak dosyanın içini o yapar. Eğer içinde veri var ise o silinir. Write ile yazılan olur.\n"
   ]
  },
  {
   "cell_type": "code",
   "execution_count": 43,
   "id": "cd4599f6-1825-4d35-ad4c-66e13359efc2",
   "metadata": {},
   "outputs": [
    {
     "data": {
      "text/plain": [
       "<_io.TextIOWrapper name='myfile.txt' mode='w' encoding='UTF-8'>"
      ]
     },
     "execution_count": 43,
     "metadata": {},
     "output_type": "execute_result"
    }
   ],
   "source": [
    "myNewFile "
   ]
  },
  {
   "cell_type": "code",
   "execution_count": 53,
   "id": "293664ca-c85b-4d3b-b125-7715678d0e59",
   "metadata": {},
   "outputs": [],
   "source": [
    "with open(\"myfile.txt\", mode=\"r\") as myFile2:\n",
    "    myContent = myFile2.read()"
   ]
  },
  {
   "cell_type": "code",
   "execution_count": 55,
   "id": "affe09d7-45c6-439d-b16b-53a557febbc2",
   "metadata": {},
   "outputs": [
    {
     "data": {
      "text/plain": [
       "'test4'"
      ]
     },
     "execution_count": 55,
     "metadata": {},
     "output_type": "execute_result"
    }
   ],
   "source": [
    "myContent"
   ]
  },
  {
   "cell_type": "code",
   "execution_count": 59,
   "id": "c3a51384-673f-48ff-888d-1db37721b2cf",
   "metadata": {},
   "outputs": [],
   "source": [
    "with open(\"myfile.txt\", mode=\"a\") as myFile3:\n",
    "    myContent = myFile3.write(\"test 44\") # modu a olduğunda ise .write() içine yazılanlar direkt aynı satırdan devam ederek ekler\n",
    "#alt satıra inmesine istiyorsan \"\\n\" kullanırız"
   ]
  },
  {
   "cell_type": "code",
   "execution_count": 65,
   "id": "9cb91ca0-415c-4048-bd93-7b618789ba64",
   "metadata": {},
   "outputs": [],
   "source": [
    "with open(\"myfile.txt\", mode=\"r\") as myFile4:\n",
    "    myContent = myFile4.read()"
   ]
  },
  {
   "cell_type": "code",
   "execution_count": 67,
   "id": "a83ff91b-e1e7-417b-ac65-8df2576ffe3d",
   "metadata": {},
   "outputs": [
    {
     "data": {
      "text/plain": [
       "'test4test 44'"
      ]
     },
     "execution_count": 67,
     "metadata": {},
     "output_type": "execute_result"
    }
   ],
   "source": [
    "myContent"
   ]
  },
  {
   "cell_type": "code",
   "execution_count": null,
   "id": "cd16b5c2-9e8a-4ee3-9558-fe83213fc93f",
   "metadata": {},
   "outputs": [],
   "source": []
  }
 ],
 "metadata": {
  "kernelspec": {
   "display_name": "Python [conda env:base] *",
   "language": "python",
   "name": "conda-base-py"
  },
  "language_info": {
   "codemirror_mode": {
    "name": "ipython",
    "version": 3
   },
   "file_extension": ".py",
   "mimetype": "text/x-python",
   "name": "python",
   "nbconvert_exporter": "python",
   "pygments_lexer": "ipython3",
   "version": "3.12.7"
  }
 },
 "nbformat": 4,
 "nbformat_minor": 5
}
