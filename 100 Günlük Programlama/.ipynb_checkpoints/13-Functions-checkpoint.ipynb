{
 "cells": [
  {
   "cell_type": "code",
   "execution_count": 2,
   "id": "6554064b-e0be-40c0-aaca-560ad2faf862",
   "metadata": {},
   "outputs": [],
   "source": [
    "#method vs functions\n",
    "#sınıfların içindekilere fonksiyonlara method deriz genelde.\n",
    "#kendi başına sınıf olmadan da fonksiyon olabilir."
   ]
  },
  {
   "cell_type": "code",
   "execution_count": 4,
   "id": "ec3f21d4-0fca-4b22-98fc-a7814d596c92",
   "metadata": {},
   "outputs": [],
   "source": [
    "my_name=\"mustafa emir utku\""
   ]
  },
  {
   "cell_type": "code",
   "execution_count": 8,
   "id": "51ff8bae-e541-499d-b3af-2614f99d5ad2",
   "metadata": {},
   "outputs": [],
   "source": [
    "my_name.upper()\n",
    "#bunu böyle yaptığımızda değişiyor ama sürekli olarak kalmıyor \n",
    "#kalması için değişkene atamamız gerekiyor\n",
    "my_name_upper = my_name.upper()"
   ]
  },
  {
   "cell_type": "code",
   "execution_count": 14,
   "id": "d43fc8d8-5baa-476e-93a8-6e15dccf02ea",
   "metadata": {},
   "outputs": [
    {
     "name": "stdout",
     "output_type": "stream",
     "text": [
      "Help on built-in function upper:\n",
      "\n",
      "upper() method of builtins.str instance\n",
      "    Return a copy of the string converted to uppercase.\n",
      "\n"
     ]
    }
   ],
   "source": [
    "help(my_name.upper)"
   ]
  },
  {
   "cell_type": "code",
   "execution_count": 24,
   "id": "40c47c9e-1fee-4025-8223-1d46b0c94cf8",
   "metadata": {},
   "outputs": [],
   "source": [
    "#fonksiyonlar"
   ]
  },
  {
   "cell_type": "code",
   "execution_count": 28,
   "id": "66361fb1-a0b8-410f-bdaf-3e7f28151751",
   "metadata": {},
   "outputs": [],
   "source": [
    "#kod bloklarıdır\n",
    "#kodumuzu düzenli yazmamıza olanak tanır\n",
    "#sonradan tekrar kullanılabilir \n",
    "#girdi alabilir \n",
    "#çıktı verebilir"
   ]
  },
  {
   "cell_type": "code",
   "execution_count": 18,
   "id": "fe29a3af-dc3f-405d-9a84-270619b582a5",
   "metadata": {},
   "outputs": [],
   "source": [
    "#define den gelir fonksiyon tanımlamamız için yazılır\n",
    "#sonra fonksiyon adını yazarız\n",
    "#parantez ise fonksiyonun çalışması için gereken parametreler/değerler için konur\n",
    "#en son iki nokta \n",
    "#tab kuralı vardır.\n",
    "#fonksiyonun altında ki herşey fonksiyonçağrıldığında çalışır.\n",
    "#birden fazla aynı işlemi yaptığımız yerde kullanmamız mantıklı olur.\n",
    "def hello_python():\n",
    "    print(\"hello\")\n",
    "    print(\"python\")"
   ]
  },
  {
   "cell_type": "code",
   "execution_count": 20,
   "id": "d9ab293d-5a34-4a45-9f63-cbd1730b5851",
   "metadata": {},
   "outputs": [
    {
     "data": {
      "text/plain": [
       "<function __main__.hello_python()>"
      ]
     },
     "execution_count": 20,
     "metadata": {},
     "output_type": "execute_result"
    }
   ],
   "source": [
    "hello_python"
   ]
  },
  {
   "cell_type": "code",
   "execution_count": 22,
   "id": "f863f1b3-742c-49e4-ad5c-cf91f5861de3",
   "metadata": {},
   "outputs": [
    {
     "name": "stdout",
     "output_type": "stream",
     "text": [
      "hello\n",
      "python\n"
     ]
    }
   ],
   "source": [
    "hello_python()"
   ]
  },
  {
   "cell_type": "code",
   "execution_count": 30,
   "id": "6f929d1b-a235-4439-bbde-e6439c13d347",
   "metadata": {},
   "outputs": [],
   "source": [
    "#input"
   ]
  },
  {
   "cell_type": "code",
   "execution_count": 32,
   "id": "94dc5c3b-ee4a-468d-ae42-17bc8a2fb200",
   "metadata": {},
   "outputs": [],
   "source": [
    "def hello_name (name):\n",
    "    print(\"Hello\")\n",
    "    print(name)"
   ]
  },
  {
   "cell_type": "code",
   "execution_count": 42,
   "id": "b59a2542-40bd-4659-b24d-8c351b014ae0",
   "metadata": {},
   "outputs": [
    {
     "name": "stdout",
     "output_type": "stream",
     "text": [
      "Hello\n",
      "mustafa\n"
     ]
    }
   ],
   "source": [
    "# hello_name() bu şekilde yaparsak hata verir çünkü parametresi yok\n",
    "hello_name(\"mustafa\")"
   ]
  },
  {
   "cell_type": "code",
   "execution_count": 44,
   "id": "07ca07fe-1b16-4e30-acb7-a84efddb85fd",
   "metadata": {},
   "outputs": [
    {
     "name": "stdout",
     "output_type": "stream",
     "text": [
      "Hello\n",
      "1\n"
     ]
    }
   ],
   "source": [
    "# string olmak zorunda değil\n",
    "hello_name(1)"
   ]
  },
  {
   "cell_type": "code",
   "execution_count": 48,
   "id": "96d64958-4ec9-4db0-9acd-826ed48d775a",
   "metadata": {},
   "outputs": [],
   "source": [
    "#python da sum() vardır\n",
    "#birden fazla parametre girmesini istiyorsak \",\" ile ayırırız\n",
    "def sum_example(num1, num2):\n",
    "    print(num1+num2)"
   ]
  },
  {
   "cell_type": "code",
   "execution_count": 50,
   "id": "5de715d7-baa0-413d-945d-07e02dc6ba84",
   "metadata": {},
   "outputs": [
    {
     "name": "stdout",
     "output_type": "stream",
     "text": [
      "15\n"
     ]
    }
   ],
   "source": [
    "sum_example(5,10)"
   ]
  },
  {
   "cell_type": "code",
   "execution_count": 52,
   "id": "922cb549-d53e-47cf-b35a-afbbbcab433e",
   "metadata": {},
   "outputs": [],
   "source": [
    "#fonksiyon içinde de değişken oluşturabiliriz\n",
    "def sum_example(num1, num2):\n",
    "    num3 = num1+num2\n",
    "    print(num3)"
   ]
  },
  {
   "cell_type": "code",
   "execution_count": 54,
   "id": "dea8827e-c80f-4264-a946-5ffe45a56082",
   "metadata": {},
   "outputs": [
    {
     "name": "stdout",
     "output_type": "stream",
     "text": [
      "15\n"
     ]
    }
   ],
   "source": [
    "sum_example(5,10)"
   ]
  },
  {
   "cell_type": "code",
   "execution_count": 60,
   "id": "2e2ffdcf-77fb-4669-b557-acc0d232994f",
   "metadata": {},
   "outputs": [],
   "source": [
    "# bu şekilde yazdığımızda default değeri olmuş olur ve kullanıcı parametre girmez.\n",
    "# ya da istemediğimiz bir değer girer ise default değeri kullanır.\n",
    "def hello_name (name=\"mustafa\"):\n",
    "    print(\"Hello\")\n",
    "    print(name)"
   ]
  },
  {
   "cell_type": "code",
   "execution_count": 62,
   "id": "9712dbe4-01c1-41a1-a358-223d4ac9a0be",
   "metadata": {},
   "outputs": [
    {
     "name": "stdout",
     "output_type": "stream",
     "text": [
      "Hello\n",
      "emir\n"
     ]
    }
   ],
   "source": [
    "hello_name(\"emir\")"
   ]
  },
  {
   "cell_type": "code",
   "execution_count": 64,
   "id": "cc4305a8-150c-43f6-a60d-c4df00ac9045",
   "metadata": {},
   "outputs": [
    {
     "name": "stdout",
     "output_type": "stream",
     "text": [
      "Hello\n",
      "mustafa\n"
     ]
    }
   ],
   "source": [
    "hello_name()"
   ]
  },
  {
   "cell_type": "code",
   "execution_count": 66,
   "id": "fbfebc37-0971-459e-ba5a-60a5798b5702",
   "metadata": {},
   "outputs": [],
   "source": [
    "#return"
   ]
  },
  {
   "cell_type": "code",
   "execution_count": 68,
   "id": "62a075e9-b1cf-483d-bc16-b986de89e93d",
   "metadata": {},
   "outputs": [],
   "source": [
    "def summation(num1, num2,num3):\n",
    "    print(num1+num2+num3)"
   ]
  },
  {
   "cell_type": "code",
   "execution_count": 70,
   "id": "2495000f-3d31-4c32-9767-80ac1c406207",
   "metadata": {},
   "outputs": [
    {
     "name": "stdout",
     "output_type": "stream",
     "text": [
      "20\n"
     ]
    }
   ],
   "source": [
    "#biz bu işlemi yapıyoruz ama bu bize bir şey döndürmüyor\n",
    "summation(10,2,8)"
   ]
  },
  {
   "cell_type": "code",
   "execution_count": 72,
   "id": "e7ec9aac-d7c4-4e71-a7a9-99e22e4586cf",
   "metadata": {},
   "outputs": [
    {
     "name": "stdout",
     "output_type": "stream",
     "text": [
      "20\n"
     ]
    }
   ],
   "source": [
    "x = summation(10,2,8)"
   ]
  },
  {
   "cell_type": "code",
   "execution_count": 76,
   "id": "2d619e09-5b1f-4c01-afd8-80d2e2a9c708",
   "metadata": {},
   "outputs": [],
   "source": [
    "#bu da bize bir şey döndürmediğinin ispatı\n",
    "x"
   ]
  },
  {
   "cell_type": "code",
   "execution_count": 80,
   "id": "9e1fbd0e-1f3d-422f-83d1-6c8559e12c60",
   "metadata": {},
   "outputs": [
    {
     "data": {
      "text/plain": [
       "NoneType"
      ]
     },
     "execution_count": 80,
     "metadata": {},
     "output_type": "execute_result"
    }
   ],
   "source": [
    "type(x)\n",
    "#x in bir değeri yok\n",
    "#çünkü bu fonksiyonun işlevi yazdırmak."
   ]
  },
  {
   "cell_type": "code",
   "execution_count": 82,
   "id": "1f888748-b078-47dd-8130-b5146d335064",
   "metadata": {},
   "outputs": [],
   "source": [
    "#return de parantez kullanmaya gerek yoktur.\n",
    "#return veri döndürür.\n",
    "#fonksiyonda return yazdıktan sonra işlem yapmayı bırakır.\n",
    "#şu ana kadar öğrendiğimiz her şeyi fonksiyonun içinde kullanabiliriz.\n",
    "def return_summation(num1, num2,num3):\n",
    "    return num1+num2+num3\n",
    "    print(num1+num2+num3) # print etmez returnden sonra kullanıldığı için"
   ]
  },
  {
   "cell_type": "code",
   "execution_count": 94,
   "id": "2e8574a5-2410-4dcc-9681-c4a3e867a2ab",
   "metadata": {},
   "outputs": [],
   "source": [
    "x =return_summation(10,2,8)\n",
    "#return olup print olmadığı için \n",
    "#yazdırmayıp sadece değer atadı"
   ]
  },
  {
   "cell_type": "code",
   "execution_count": 88,
   "id": "20e08797-ddf7-4556-9a67-7cfa55364913",
   "metadata": {},
   "outputs": [
    {
     "data": {
      "text/plain": [
       "20"
      ]
     },
     "execution_count": 88,
     "metadata": {},
     "output_type": "execute_result"
    }
   ],
   "source": [
    "x"
   ]
  },
  {
   "cell_type": "code",
   "execution_count": 90,
   "id": "d5a30694-213d-4125-8036-b4db2bc73664",
   "metadata": {},
   "outputs": [
    {
     "data": {
      "text/plain": [
       "int"
      ]
     },
     "execution_count": 90,
     "metadata": {},
     "output_type": "execute_result"
    }
   ],
   "source": [
    "type(x)"
   ]
  },
  {
   "cell_type": "code",
   "execution_count": 96,
   "id": "959b31b1-b6cb-4211-899d-c421d2ca52f6",
   "metadata": {},
   "outputs": [],
   "source": [
    "#önceden tanımlanmış kelimeleri kullanmamak en iyisi (str) gibi\n",
    "def control_string(s):\n",
    "    if s[0]==\"a\":\n",
    "        print(\"a\")"
   ]
  },
  {
   "cell_type": "code",
   "execution_count": 98,
   "id": "e5bfbd71-32da-4518-a3db-9e2d85be9b45",
   "metadata": {},
   "outputs": [
    {
     "name": "stdout",
     "output_type": "stream",
     "text": [
      "a\n"
     ]
    }
   ],
   "source": [
    "control_string(\"atlas\")"
   ]
  },
  {
   "cell_type": "code",
   "execution_count": 100,
   "id": "37008825-ae51-43d9-b900-16bb958f469c",
   "metadata": {},
   "outputs": [],
   "source": [
    "control_string(\"james\")"
   ]
  },
  {
   "cell_type": "code",
   "execution_count": 102,
   "id": "b8f23a2a-1051-4f8e-9039-804c72a6f895",
   "metadata": {},
   "outputs": [],
   "source": [
    "#args , #kwargs (arguments, key word arguments)"
   ]
  },
  {
   "cell_type": "code",
   "execution_count": 104,
   "id": "c6b6049c-cee1-43b5-9b21-69ba72d377f1",
   "metadata": {},
   "outputs": [],
   "source": [
    "#birden fazla ya da sayısı belli olmayan arguman alacaksam ARGS ı kullanabilirim"
   ]
  },
  {
   "cell_type": "code",
   "execution_count": 106,
   "id": "0f7d62bc-5b15-4f6c-a26e-a5b1d47aea90",
   "metadata": {},
   "outputs": [],
   "source": [
    "def args_sum(*args): #sadece yıldız koysak olur ama *args yazmak belirtili yazmak için daha verimli\n",
    "    return sum(args) # pythonun kendinin toplama fonksiyonu"
   ]
  },
  {
   "cell_type": "code",
   "execution_count": 108,
   "id": "c523b97c-88cc-40f9-b73c-f7d9dc8bb44a",
   "metadata": {},
   "outputs": [
    {
     "data": {
      "text/plain": [
       "273"
      ]
     },
     "execution_count": 108,
     "metadata": {},
     "output_type": "execute_result"
    }
   ],
   "source": [
    "args_sum(10,213,50)"
   ]
  },
  {
   "cell_type": "code",
   "execution_count": 110,
   "id": "c0fd6f8c-f85e-4541-9955-7b0df63fcfd6",
   "metadata": {},
   "outputs": [
    {
     "data": {
      "text/plain": [
       "323"
      ]
     },
     "execution_count": 110,
     "metadata": {},
     "output_type": "execute_result"
    }
   ],
   "source": [
    "args_sum(10,213,50,50)"
   ]
  },
  {
   "cell_type": "code",
   "execution_count": 112,
   "id": "b4e2d15a-c523-4ba9-8d85-2a1d4135f8f9",
   "metadata": {},
   "outputs": [],
   "source": [
    "#hepsini tuple içinde döner\n",
    "#birden fazla arguman alabilmemiz için kullanıdığımız yöntem\n",
    "#sayısı belli olmayan input durumlarında kullanılır\n",
    "def args_example(*args):\n",
    "    print(args)"
   ]
  },
  {
   "cell_type": "code",
   "execution_count": 114,
   "id": "4abbee42-27c2-42fb-b45d-bcb131514c52",
   "metadata": {},
   "outputs": [
    {
     "name": "stdout",
     "output_type": "stream",
     "text": [
      "(10, 213, 50, 50)\n"
     ]
    }
   ],
   "source": [
    "args_example(10,213,50,50)"
   ]
  },
  {
   "cell_type": "code",
   "execution_count": 116,
   "id": "0370785b-3092-4bea-ae06-3322ad225284",
   "metadata": {},
   "outputs": [],
   "source": [
    "#wargsın keyword hali\n",
    "# buraya da keyword verebiliyoruz\n",
    "#bizim için bir dict oluşturuyor aslında \n",
    "def kwargs_example(**kwargs): #sadece iki yıldız koysak olur ama **kwargs yazmak belirtili yazmak için daha verimli\n",
    "    print(kwargs)"
   ]
  },
  {
   "cell_type": "code",
   "execution_count": 118,
   "id": "d017d6e3-c3b2-4319-b856-c903fa8c0d81",
   "metadata": {},
   "outputs": [
    {
     "name": "stdout",
     "output_type": "stream",
     "text": [
      "{'apple': 100, 'banana': 150, 'melon': 200}\n"
     ]
    }
   ],
   "source": [
    "kwargs_example(apple =100, banana=150, melon = 200)"
   ]
  },
  {
   "cell_type": "code",
   "execution_count": 124,
   "id": "032eac8f-0637-470e-bfae-c66cc8db71fb",
   "metadata": {},
   "outputs": [],
   "source": [
    "#kullanıcıdan aldığımız dict verilerini yönetmek incelemek için kullanılabilir.\n",
    "def kwargs_example_2(**kwargs):\n",
    "    if \"apple\" in kwargs:\n",
    "        print(\"appleeeee\")\n",
    "    else:\n",
    "        print(\":(\")"
   ]
  },
  {
   "cell_type": "code",
   "execution_count": 126,
   "id": "96711269-a1ac-4b8f-b439-a7c61a86de33",
   "metadata": {},
   "outputs": [
    {
     "name": "stdout",
     "output_type": "stream",
     "text": [
      "appleeeee\n"
     ]
    }
   ],
   "source": [
    " kwargs_example_2(apple =100, banana=150)"
   ]
  },
  {
   "cell_type": "code",
   "execution_count": 128,
   "id": "36ffb600-5c77-484d-b82f-fa414ea62ee3",
   "metadata": {},
   "outputs": [
    {
     "name": "stdout",
     "output_type": "stream",
     "text": [
      ":(\n"
     ]
    }
   ],
   "source": [
    " kwargs_example_2(banana=150)"
   ]
  },
  {
   "cell_type": "code",
   "execution_count": null,
   "id": "ff01abbb-9ac6-4436-b543-0b6178381d7d",
   "metadata": {},
   "outputs": [],
   "source": []
  }
 ],
 "metadata": {
  "kernelspec": {
   "display_name": "Python [conda env:base] *",
   "language": "python",
   "name": "conda-base-py"
  },
  "language_info": {
   "codemirror_mode": {
    "name": "ipython",
    "version": 3
   },
   "file_extension": ".py",
   "mimetype": "text/x-python",
   "name": "python",
   "nbconvert_exporter": "python",
   "pygments_lexer": "ipython3",
   "version": "3.12.7"
  }
 },
 "nbformat": 4,
 "nbformat_minor": 5
}
