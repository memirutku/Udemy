{
 "cells": [
  {
   "cell_type": "code",
   "execution_count": 2,
   "id": "6554064b-e0be-40c0-aaca-560ad2faf862",
   "metadata": {},
   "outputs": [],
   "source": [
    "#method vs functions\n",
    "#sınıfların içindekilere fonksiyonlara method deriz genelde.\n",
    "#kendi başına sınıf olmadan da fonksiyon olabilir."
   ]
  },
  {
   "cell_type": "code",
   "execution_count": 4,
   "id": "ec3f21d4-0fca-4b22-98fc-a7814d596c92",
   "metadata": {},
   "outputs": [],
   "source": [
    "my_name=\"mustafa emir utku\""
   ]
  },
  {
   "cell_type": "code",
   "execution_count": 8,
   "id": "51ff8bae-e541-499d-b3af-2614f99d5ad2",
   "metadata": {},
   "outputs": [],
   "source": [
    "my_name.upper()\n",
    "#bunu böyle yaptığımızda değişiyor ama sürekli olarak kalmıyor \n",
    "#kalması için değişkene atamamız gerekiyor\n",
    "my_name_upper = my_name.upper()"
   ]
  },
  {
   "cell_type": "code",
   "execution_count": 14,
   "id": "d43fc8d8-5baa-476e-93a8-6e15dccf02ea",
   "metadata": {},
   "outputs": [
    {
     "name": "stdout",
     "output_type": "stream",
     "text": [
      "Help on built-in function upper:\n",
      "\n",
      "upper() method of builtins.str instance\n",
      "    Return a copy of the string converted to uppercase.\n",
      "\n"
     ]
    }
   ],
   "source": [
    "help(my_name.upper)"
   ]
  },
  {
   "cell_type": "code",
   "execution_count": 24,
   "id": "40c47c9e-1fee-4025-8223-1d46b0c94cf8",
   "metadata": {},
   "outputs": [],
   "source": [
    "#fonksiyonlar"
   ]
  },
  {
   "cell_type": "code",
   "execution_count": 28,
   "id": "66361fb1-a0b8-410f-bdaf-3e7f28151751",
   "metadata": {},
   "outputs": [],
   "source": [
    "#kod bloklarıdır\n",
    "#kodumuzu düzenli yazmamıza olanak tanır\n",
    "#sonradan tekrar kullanılabilir \n",
    "#girdi alabilir \n",
    "#çıktı verebilir"
   ]
  },
  {
   "cell_type": "code",
   "execution_count": 18,
   "id": "fe29a3af-dc3f-405d-9a84-270619b582a5",
   "metadata": {},
   "outputs": [],
   "source": [
    "#define den gelir fonksiyon tanımlamamız için yazılır\n",
    "#sonra fonksiyon adını yazarız\n",
    "#parantez ise fonksiyonun çalışması için gereken parametreler/değerler için konur\n",
    "#en son iki nokta \n",
    "#tab kuralı vardır.\n",
    "#fonksiyonun altında ki herşey fonksiyonçağrıldığında çalışır.\n",
    "#birden fazla aynı işlemi yaptığımız yerde kullanmamız mantıklı olur.\n",
    "def hello_python():\n",
    "    print(\"hello\")\n",
    "    print(\"python\")"
   ]
  },
  {
   "cell_type": "code",
   "execution_count": 20,
   "id": "d9ab293d-5a34-4a45-9f63-cbd1730b5851",
   "metadata": {},
   "outputs": [
    {
     "data": {
      "text/plain": [
       "<function __main__.hello_python()>"
      ]
     },
     "execution_count": 20,
     "metadata": {},
     "output_type": "execute_result"
    }
   ],
   "source": [
    "hello_python"
   ]
  },
  {
   "cell_type": "code",
   "execution_count": 22,
   "id": "f863f1b3-742c-49e4-ad5c-cf91f5861de3",
   "metadata": {},
   "outputs": [
    {
     "name": "stdout",
     "output_type": "stream",
     "text": [
      "hello\n",
      "python\n"
     ]
    }
   ],
   "source": [
    "hello_python()"
   ]
  },
  {
   "cell_type": "code",
   "execution_count": 30,
   "id": "6f929d1b-a235-4439-bbde-e6439c13d347",
   "metadata": {},
   "outputs": [],
   "source": [
    "#input"
   ]
  },
  {
   "cell_type": "code",
   "execution_count": 32,
   "id": "94dc5c3b-ee4a-468d-ae42-17bc8a2fb200",
   "metadata": {},
   "outputs": [],
   "source": [
    "def hello_name (name):\n",
    "    print(\"Hello\")\n",
    "    print(name)"
   ]
  },
  {
   "cell_type": "code",
   "execution_count": 42,
   "id": "b59a2542-40bd-4659-b24d-8c351b014ae0",
   "metadata": {},
   "outputs": [
    {
     "name": "stdout",
     "output_type": "stream",
     "text": [
      "Hello\n",
      "mustafa\n"
     ]
    }
   ],
   "source": [
    "# hello_name() bu şekilde yaparsak hata verir çünkü parametresi yok\n",
    "hello_name(\"mustafa\")"
   ]
  },
  {
   "cell_type": "code",
   "execution_count": 44,
   "id": "07ca07fe-1b16-4e30-acb7-a84efddb85fd",
   "metadata": {},
   "outputs": [
    {
     "name": "stdout",
     "output_type": "stream",
     "text": [
      "Hello\n",
      "1\n"
     ]
    }
   ],
   "source": [
    "# string olmak zorunda değil\n",
    "hello_name(1)"
   ]
  },
  {
   "cell_type": "code",
   "execution_count": 48,
   "id": "96d64958-4ec9-4db0-9acd-826ed48d775a",
   "metadata": {},
   "outputs": [],
   "source": [
    "#python da sum() vardır\n",
    "#birden fazla parametre girmesini istiyorsak \",\" ile ayırırız\n",
    "def sum_example(num1, num2):\n",
    "    print(num1+num2)"
   ]
  },
  {
   "cell_type": "code",
   "execution_count": 50,
   "id": "5de715d7-baa0-413d-945d-07e02dc6ba84",
   "metadata": {},
   "outputs": [
    {
     "name": "stdout",
     "output_type": "stream",
     "text": [
      "15\n"
     ]
    }
   ],
   "source": [
    "sum_example(5,10)"
   ]
  },
  {
   "cell_type": "code",
   "execution_count": 52,
   "id": "922cb549-d53e-47cf-b35a-afbbbcab433e",
   "metadata": {},
   "outputs": [],
   "source": [
    "#fonksiyon içinde de değişken oluşturabiliriz\n",
    "def sum_example(num1, num2):\n",
    "    num3 = num1+num2\n",
    "    print(num3)"
   ]
  },
  {
   "cell_type": "code",
   "execution_count": 54,
   "id": "dea8827e-c80f-4264-a946-5ffe45a56082",
   "metadata": {},
   "outputs": [
    {
     "name": "stdout",
     "output_type": "stream",
     "text": [
      "15\n"
     ]
    }
   ],
   "source": [
    "sum_example(5,10)"
   ]
  },
  {
   "cell_type": "code",
   "execution_count": 60,
   "id": "2e2ffdcf-77fb-4669-b557-acc0d232994f",
   "metadata": {},
   "outputs": [],
   "source": [
    "# bu şekilde yazdığımızda default değeri olmuş olur ve kullanıcı parametre girmez.\n",
    "# ya da istemediğimiz bir değer girer ise default değeri kullanır.\n",
    "def hello_name (name=\"mustafa\"):\n",
    "    print(\"Hello\")\n",
    "    print(name)"
   ]
  },
  {
   "cell_type": "code",
   "execution_count": 62,
   "id": "9712dbe4-01c1-41a1-a358-223d4ac9a0be",
   "metadata": {},
   "outputs": [
    {
     "name": "stdout",
     "output_type": "stream",
     "text": [
      "Hello\n",
      "emir\n"
     ]
    }
   ],
   "source": [
    "hello_name(\"emir\")"
   ]
  },
  {
   "cell_type": "code",
   "execution_count": 64,
   "id": "cc4305a8-150c-43f6-a60d-c4df00ac9045",
   "metadata": {},
   "outputs": [
    {
     "name": "stdout",
     "output_type": "stream",
     "text": [
      "Hello\n",
      "mustafa\n"
     ]
    }
   ],
   "source": [
    "hello_name()"
   ]
  },
  {
   "cell_type": "code",
   "execution_count": null,
   "id": "fbfebc37-0971-459e-ba5a-60a5798b5702",
   "metadata": {},
   "outputs": [],
   "source": []
  }
 ],
 "metadata": {
  "kernelspec": {
   "display_name": "Python [conda env:base] *",
   "language": "python",
   "name": "conda-base-py"
  },
  "language_info": {
   "codemirror_mode": {
    "name": "ipython",
    "version": 3
   },
   "file_extension": ".py",
   "mimetype": "text/x-python",
   "name": "python",
   "nbconvert_exporter": "python",
   "pygments_lexer": "ipython3",
   "version": "3.12.7"
  }
 },
 "nbformat": 4,
 "nbformat_minor": 5
}
