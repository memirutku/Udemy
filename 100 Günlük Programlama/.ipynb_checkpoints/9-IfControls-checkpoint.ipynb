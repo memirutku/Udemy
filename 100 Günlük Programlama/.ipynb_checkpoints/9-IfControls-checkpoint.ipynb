{
 "cells": [
  {
   "cell_type": "code",
   "execution_count": 1,
   "id": "e3216a71-9a67-46e9-8d0c-928cb4a0ce0c",
   "metadata": {},
   "outputs": [],
   "source": [
    "x=5 \n",
    "y=2"
   ]
  },
  {
   "cell_type": "code",
   "execution_count": 3,
   "id": "dd82c2a7-342f-4e21-94a0-fd3c7baee2ac",
   "metadata": {},
   "outputs": [
    {
     "data": {
      "text/plain": [
       "True"
      ]
     },
     "execution_count": 3,
     "metadata": {},
     "output_type": "execute_result"
    }
   ],
   "source": [
    "x>y"
   ]
  },
  {
   "cell_type": "code",
   "execution_count": 5,
   "id": "4992c828-76f5-4022-b5bb-1ab1cb6f3dac",
   "metadata": {},
   "outputs": [
    {
     "data": {
      "text/plain": [
       "True"
      ]
     },
     "execution_count": 5,
     "metadata": {},
     "output_type": "execute_result"
    }
   ],
   "source": [
    "y<x"
   ]
  },
  {
   "cell_type": "code",
   "execution_count": 11,
   "id": "28705ef2-3015-418e-b0d3-1b52ad6fcae9",
   "metadata": {},
   "outputs": [
    {
     "data": {
      "text/plain": [
       "True"
      ]
     },
     "execution_count": 11,
     "metadata": {},
     "output_type": "execute_result"
    }
   ],
   "source": [
    "y=5\n",
    "x>=y"
   ]
  },
  {
   "cell_type": "code",
   "execution_count": 13,
   "id": "2b0219af-ea53-4480-8d62-1fc14ee58536",
   "metadata": {},
   "outputs": [
    {
     "data": {
      "text/plain": [
       "False"
      ]
     },
     "execution_count": 13,
     "metadata": {},
     "output_type": "execute_result"
    }
   ],
   "source": [
    "x>= 5.0001"
   ]
  },
  {
   "cell_type": "code",
   "execution_count": 19,
   "id": "fb93c59b-795b-40e4-adc0-468a9fde2868",
   "metadata": {},
   "outputs": [
    {
     "data": {
      "text/plain": [
       "False"
      ]
     },
     "execution_count": 19,
     "metadata": {},
     "output_type": "execute_result"
    }
   ],
   "source": [
    "x == y #eşitse\n",
    "x != y #eşit değilse\n",
    "x >= y #büyük eşittir\n",
    "x <= y #küçük eşittir"
   ]
  },
  {
   "cell_type": "code",
   "execution_count": 25,
   "id": "69daba0f-eb85-43ce-94a9-2b57f2bffde3",
   "metadata": {},
   "outputs": [
    {
     "data": {
      "text/plain": [
       "True"
      ]
     },
     "execution_count": 25,
     "metadata": {},
     "output_type": "execute_result"
    }
   ],
   "source": [
    "#and #ve demektir \n",
    "#or #veya demektir\n",
    "#not # değildir demek\n",
    "# bunları eşitlikler ile beraber kullanırız.\n",
    "x == y or x != y "
   ]
  },
  {
   "cell_type": "code",
   "execution_count": 47,
   "id": "f8b75a7e-284c-4b6f-a410-d64e75e287ce",
   "metadata": {},
   "outputs": [
    {
     "data": {
      "text/plain": [
       "True"
      ]
     },
     "execution_count": 47,
     "metadata": {},
     "output_type": "execute_result"
    }
   ],
   "source": [
    "#in # içinde demek içinde olduğunu kontrol ediyor\n",
    "10 in [10,20,30]\n",
    "#not in # içinde demek içinde olmadığını kontrol ediyor\n",
    "10 not in [10,20,30]\n",
    "# setlerde de kullanılabiliyor.\n",
    "10 in {10,20,30}\n",
    "# tupleslerde de kullanılabiliyor.\n",
    "10 in (10,20,30)"
   ]
  },
  {
   "cell_type": "code",
   "execution_count": 45,
   "id": "e4012643-0b4a-4812-bfd1-4a54462e4a6d",
   "metadata": {},
   "outputs": [
    {
     "data": {
      "text/plain": [
       "True"
      ]
     },
     "execution_count": 45,
     "metadata": {},
     "output_type": "execute_result"
    }
   ],
   "source": [
    "#dictionary de şu şekilde kullanabiliriz.\n",
    "my_dictionary = {\"a\":10,\"b\":20,\"c\":30}\n",
    "\n",
    "10 in my_dictionary # böyle yaparsak false alırız çünkü 10 direkt olarak yok key-values olayından dolayı.\n",
    "# ama key i yazarsak true döner\n",
    "\"a\" in my_dictionary\n",
    "# yine de keys için doğru yazım\n",
    "\"a\" in my_dictionary.keys()\n",
    "# values için doğru yazım\n",
    "10 in my_dictionary.values()"
   ]
  },
  {
   "cell_type": "code",
   "execution_count": null,
   "id": "5eb7773d-843d-46cb-86a1-40f0def12c85",
   "metadata": {},
   "outputs": [],
   "source": []
  }
 ],
 "metadata": {
  "kernelspec": {
   "display_name": "Python [conda env:base] *",
   "language": "python",
   "name": "conda-base-py"
  },
  "language_info": {
   "codemirror_mode": {
    "name": "ipython",
    "version": 3
   },
   "file_extension": ".py",
   "mimetype": "text/x-python",
   "name": "python",
   "nbconvert_exporter": "python",
   "pygments_lexer": "ipython3",
   "version": "3.12.7"
  }
 },
 "nbformat": 4,
 "nbformat_minor": 5
}
