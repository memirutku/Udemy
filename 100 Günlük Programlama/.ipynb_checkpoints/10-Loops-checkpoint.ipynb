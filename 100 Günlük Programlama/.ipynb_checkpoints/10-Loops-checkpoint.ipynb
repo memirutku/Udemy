{
 "cells": [
  {
   "cell_type": "code",
   "execution_count": 2,
   "id": "fd4fb052-990e-47e4-b549-684605d51e54",
   "metadata": {},
   "outputs": [],
   "source": [
    "# for loop, while loop \"döngüler\"\n",
    "# belirli bir işleme kadar o işlemi sürekli yapma."
   ]
  },
  {
   "cell_type": "code",
   "execution_count": 4,
   "id": "e177a0d8-01e1-476b-b531-9a4519cc1af4",
   "metadata": {},
   "outputs": [],
   "source": [
    "# for loop"
   ]
  },
  {
   "cell_type": "code",
   "execution_count": 8,
   "id": "b16cfe16-b5ff-4c68-be53-28d92e11f03e",
   "metadata": {},
   "outputs": [],
   "source": [
    "my_list = [10,20,30,40,60,70]"
   ]
  },
  {
   "cell_type": "code",
   "execution_count": 14,
   "id": "32a3b7c6-1943-4ae4-a1e4-47e0983db4f7",
   "metadata": {},
   "outputs": [
    {
     "name": "stdout",
     "output_type": "stream",
     "text": [
      "10\n",
      "<class 'int'>\n",
      "20\n",
      "<class 'int'>\n",
      "30\n",
      "<class 'int'>\n",
      "40\n",
      "<class 'int'>\n",
      "60\n",
      "<class 'int'>\n",
      "70\n",
      "<class 'int'>\n"
     ]
    }
   ],
   "source": [
    "#Burada ki num herhangi bir değişken ismi istersek oraya x de diyebiliriz y de\n",
    "#burada num değişkeni my_list in içindeki değerlere sıra sıra gider\n",
    "# her döngüde bir değere gider\n",
    "for num in my_list:\n",
    "    print(num) #if de olduğu gibi burada da tab olayı vardır.\n",
    "    print(type(num))# typeleri ne ise onu olarak bastırır."
   ]
  },
  {
   "cell_type": "code",
   "execution_count": 18,
   "id": "2aebd8f5-2c58-45f9-9df9-0cb4280431d3",
   "metadata": {},
   "outputs": [
    {
     "name": "stdout",
     "output_type": "stream",
     "text": [
      "for loop started\n",
      "4.0\n",
      "8.0\n",
      "12.0\n",
      "16.0\n",
      "24.0\n",
      "28.0\n",
      "for loop ended\n"
     ]
    }
   ],
   "source": [
    "print(\"for loop started\")\n",
    "for x in my_list:\n",
    "    new_number = x/5*2\n",
    "    print(new_number)\n",
    "print(\"for loop ended\") # döngü bitene kadar alt satıra geçmez"
   ]
  },
  {
   "cell_type": "code",
   "execution_count": 30,
   "id": "cf3d4672-e7ca-4c06-903f-24cf11ee96c0",
   "metadata": {},
   "outputs": [
    {
     "name": "stdout",
     "output_type": "stream",
     "text": [
      "6 ya bölünemez 10\n",
      "6 ya bölünemez 20\n",
      "6 ya bölünebilir 30\n",
      "6 ya bölünemez 40\n",
      "6 ya bölünebilir 60\n",
      "6 ya bölünemez 70\n"
     ]
    }
   ],
   "source": [
    "# for döngüsünün içinde if kullanabiliriz.\n",
    "# if kullandığımızda ifin içinde yapmamız gereken işlemler içinde tab kuralını unutmamamız lazım.\n",
    "for y in my_list:\n",
    "    if y%6==0:\n",
    "        print(\"6 ya bölünebilir \" + str(y)) #int yazzdığında hata verdiği için str ye çevirdik.\n",
    "    else:\n",
    "        print(\"6 ya bölünemez \"+ str(y))"
   ]
  },
  {
   "cell_type": "code",
   "execution_count": 32,
   "id": "9afae966-6077-4000-b29f-c3128d664b5a",
   "metadata": {},
   "outputs": [
    {
     "name": "stdout",
     "output_type": "stream",
     "text": [
      "M\n",
      "u\n",
      "s\n",
      "t\n",
      "a\n",
      "f\n",
      "a\n",
      " \n",
      "E\n",
      "m\n",
      "i\n",
      "r\n",
      " \n",
      "U\n",
      "t\n",
      "k\n",
      "u\n"
     ]
    }
   ],
   "source": [
    "my_string = \"Mustafa Emir Utku\"\n",
    "for x in my_string:\n",
    "    print(x) # stringlerin içindeki harflere teker teker gider."
   ]
  },
  {
   "cell_type": "code",
   "execution_count": 36,
   "id": "4a06ec59-5406-4e06-af90-a8ed049fae71",
   "metadata": {},
   "outputs": [
    {
     "name": "stdout",
     "output_type": "stream",
     "text": [
      "10\n",
      "20\n",
      "30\n",
      "40\n",
      "50\n",
      "60\n",
      "70\n"
     ]
    }
   ],
   "source": [
    "my_tuple = (10,20,30,40,50,60,70)\n",
    "for num in my_tuple:\n",
    "    print(num)\n",
    "# tuple ile de çalışır"
   ]
  },
  {
   "cell_type": "code",
   "execution_count": 40,
   "id": "d045eac9-9588-471f-b9d2-8d2832987c59",
   "metadata": {},
   "outputs": [
    {
     "data": {
      "text/plain": [
       "3"
      ]
     },
     "execution_count": 40,
     "metadata": {},
     "output_type": "execute_result"
    }
   ],
   "source": [
    "my_new_list = [(\"a\",\"b\"),(\"c\",\"d\"),(\"e\",\"f\")]\n",
    "len(my_new_list)"
   ]
  },
  {
   "cell_type": "code",
   "execution_count": 42,
   "id": "95d85ad7-dc79-4e96-9c4d-b5c650184ef6",
   "metadata": {},
   "outputs": [
    {
     "data": {
      "text/plain": [
       "('a', 'b')"
      ]
     },
     "execution_count": 42,
     "metadata": {},
     "output_type": "execute_result"
    }
   ],
   "source": [
    "my_new_list[0]"
   ]
  },
  {
   "cell_type": "code",
   "execution_count": 48,
   "id": "b221a2d0-9007-4411-90a7-0e23ef59f4c0",
   "metadata": {},
   "outputs": [
    {
     "name": "stdout",
     "output_type": "stream",
     "text": [
      "('a', 'b')\n",
      "('c', 'd')\n",
      "('e', 'f')\n"
     ]
    }
   ],
   "source": [
    "for x in my_new_list:\n",
    "    print(x)"
   ]
  },
  {
   "cell_type": "code",
   "execution_count": 50,
   "id": "6f41d51b-9357-495d-a7f4-39751c816762",
   "metadata": {},
   "outputs": [],
   "source": [
    "#tuple unpacking"
   ]
  },
  {
   "cell_type": "code",
   "execution_count": 52,
   "id": "a581ec46-ec68-423a-b7df-f971a9d5f821",
   "metadata": {},
   "outputs": [
    {
     "data": {
      "text/plain": [
       "'b'"
      ]
     },
     "execution_count": 52,
     "metadata": {},
     "output_type": "execute_result"
    }
   ],
   "source": [
    "my_new_list[0][1]"
   ]
  },
  {
   "cell_type": "code",
   "execution_count": 58,
   "id": "acb465d5-9ed7-4d81-9bdc-80e2d539eb79",
   "metadata": {},
   "outputs": [
    {
     "name": "stdout",
     "output_type": "stream",
     "text": [
      "b\n",
      "d\n",
      "f\n"
     ]
    }
   ],
   "source": [
    "for (x,y) in my_new_list:# ikili olması önemli değil tuple listenin içndeki eleman sayısına göre artırabiliriz.\n",
    "    print(y)"
   ]
  },
  {
   "cell_type": "code",
   "execution_count": 60,
   "id": "8536e6be-1239-4db2-bf3f-6bd817f3c437",
   "metadata": {},
   "outputs": [],
   "source": [
    "my_tuple_list = ((0,1,2),(3,4,5),(6,7,8),(9,10,11)) #üsteki örnek listin içindeki tuple list iken bu tuple içinde ki tuple list\n",
    "# bir şey farketmiyor tuple unpacking yaparken."
   ]
  },
  {
   "cell_type": "code",
   "execution_count": 62,
   "id": "815775c4-c847-4375-9a1a-acf2d8187491",
   "metadata": {},
   "outputs": [
    {
     "name": "stdout",
     "output_type": "stream",
     "text": [
      "0\n",
      "3\n",
      "6\n",
      "9\n"
     ]
    }
   ],
   "source": [
    "for (x,y,z) in my_tuple_list: # x,y,z den başka değer adları da verebiliriz zorunlu değil onlar.\n",
    "    print(x)"
   ]
  },
  {
   "cell_type": "code",
   "execution_count": 64,
   "id": "5461520b-54ef-4b96-b151-41ff271e4ddb",
   "metadata": {},
   "outputs": [],
   "source": [
    "my_set = {1,2,3,4,5}"
   ]
  },
  {
   "cell_type": "code",
   "execution_count": 66,
   "id": "89bc66f7-0ffb-4b8d-8931-f7034039ff24",
   "metadata": {},
   "outputs": [
    {
     "name": "stdout",
     "output_type": "stream",
     "text": [
      "1\n",
      "2\n",
      "3\n",
      "4\n",
      "5\n"
     ]
    }
   ],
   "source": [
    "#setlerle normal bir şekilde çalışır.\n",
    "for num in my_set:\n",
    "    print(num)"
   ]
  },
  {
   "cell_type": "code",
   "execution_count": 68,
   "id": "d572b9d6-be9f-49f7-9027-558b747b4e08",
   "metadata": {},
   "outputs": [],
   "source": [
    "my_dictionary = {\"k1\":100,\"k2\":200,\"k3\":300}"
   ]
  },
  {
   "cell_type": "code",
   "execution_count": 70,
   "id": "e656ed97-311a-48c1-b2a5-08e5ae028590",
   "metadata": {},
   "outputs": [
    {
     "name": "stdout",
     "output_type": "stream",
     "text": [
      "k1\n",
      "k2\n",
      "k3\n"
     ]
    }
   ],
   "source": [
    "for element in my_dictionary:\n",
    "    print(element) # key-value den dolayı sadece keyleri çekti."
   ]
  },
  {
   "cell_type": "code",
   "execution_count": null,
   "id": "35a71340-5233-4ad6-9195-0b9cfb8803e2",
   "metadata": {},
   "outputs": [],
   "source": []
  }
 ],
 "metadata": {
  "kernelspec": {
   "display_name": "Python [conda env:base] *",
   "language": "python",
   "name": "conda-base-py"
  },
  "language_info": {
   "codemirror_mode": {
    "name": "ipython",
    "version": 3
   },
   "file_extension": ".py",
   "mimetype": "text/x-python",
   "name": "python",
   "nbconvert_exporter": "python",
   "pygments_lexer": "ipython3",
   "version": "3.12.7"
  }
 },
 "nbformat": 4,
 "nbformat_minor": 5
}
