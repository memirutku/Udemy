{
 "cells": [
  {
   "cell_type": "code",
   "execution_count": 2,
   "id": "fd4fb052-990e-47e4-b549-684605d51e54",
   "metadata": {},
   "outputs": [],
   "source": [
    "# for loop, while loop \"döngüler\"\n",
    "# belirli bir işleme kadar o işlemi sürekli yapma."
   ]
  },
  {
   "cell_type": "code",
   "execution_count": 4,
   "id": "e177a0d8-01e1-476b-b531-9a4519cc1af4",
   "metadata": {},
   "outputs": [],
   "source": [
    "# for loop"
   ]
  },
  {
   "cell_type": "code",
   "execution_count": 8,
   "id": "b16cfe16-b5ff-4c68-be53-28d92e11f03e",
   "metadata": {},
   "outputs": [],
   "source": [
    "my_list = [10,20,30,40,60,70]"
   ]
  },
  {
   "cell_type": "code",
   "execution_count": 14,
   "id": "32a3b7c6-1943-4ae4-a1e4-47e0983db4f7",
   "metadata": {},
   "outputs": [
    {
     "name": "stdout",
     "output_type": "stream",
     "text": [
      "10\n",
      "<class 'int'>\n",
      "20\n",
      "<class 'int'>\n",
      "30\n",
      "<class 'int'>\n",
      "40\n",
      "<class 'int'>\n",
      "60\n",
      "<class 'int'>\n",
      "70\n",
      "<class 'int'>\n"
     ]
    }
   ],
   "source": [
    "#Burada ki num herhangi bir değişken ismi istersek oraya x de diyebiliriz y de\n",
    "#burada num değişkeni my_list in içindeki değerlere sıra sıra gider\n",
    "# her döngüde bir değere gider\n",
    "for num in my_list:\n",
    "    print(num) #if de olduğu gibi burada da tab olayı vardır.\n",
    "    print(type(num))# typeleri ne ise onu olarak bastırır."
   ]
  },
  {
   "cell_type": "code",
   "execution_count": 18,
   "id": "2aebd8f5-2c58-45f9-9df9-0cb4280431d3",
   "metadata": {},
   "outputs": [
    {
     "name": "stdout",
     "output_type": "stream",
     "text": [
      "for loop started\n",
      "4.0\n",
      "8.0\n",
      "12.0\n",
      "16.0\n",
      "24.0\n",
      "28.0\n",
      "for loop ended\n"
     ]
    }
   ],
   "source": [
    "print(\"for loop started\")\n",
    "for x in my_list:\n",
    "    new_number = x/5*2\n",
    "    print(new_number)\n",
    "print(\"for loop ended\") # döngü bitene kadar alt satıra geçmez"
   ]
  },
  {
   "cell_type": "code",
   "execution_count": 30,
   "id": "cf3d4672-e7ca-4c06-903f-24cf11ee96c0",
   "metadata": {},
   "outputs": [
    {
     "name": "stdout",
     "output_type": "stream",
     "text": [
      "6 ya bölünemez 10\n",
      "6 ya bölünemez 20\n",
      "6 ya bölünebilir 30\n",
      "6 ya bölünemez 40\n",
      "6 ya bölünebilir 60\n",
      "6 ya bölünemez 70\n"
     ]
    }
   ],
   "source": [
    "# for döngüsünün içinde if kullanabiliriz.\n",
    "# if kullandığımızda ifin içinde yapmamız gereken işlemler içinde tab kuralını unutmamamız lazım.\n",
    "for y in my_list:\n",
    "    if y%6==0:\n",
    "        print(\"6 ya bölünebilir \" + str(y)) #int yazzdığında hata verdiği için str ye çevirdik.\n",
    "    else:\n",
    "        print(\"6 ya bölünemez \"+ str(y))"
   ]
  },
  {
   "cell_type": "code",
   "execution_count": 32,
   "id": "9afae966-6077-4000-b29f-c3128d664b5a",
   "metadata": {},
   "outputs": [
    {
     "name": "stdout",
     "output_type": "stream",
     "text": [
      "M\n",
      "u\n",
      "s\n",
      "t\n",
      "a\n",
      "f\n",
      "a\n",
      " \n",
      "E\n",
      "m\n",
      "i\n",
      "r\n",
      " \n",
      "U\n",
      "t\n",
      "k\n",
      "u\n"
     ]
    }
   ],
   "source": [
    "my_string = \"Mustafa Emir Utku\"\n",
    "for x in my_string:\n",
    "    print(x) # stringlerin içindeki harflere teker teker gider."
   ]
  },
  {
   "cell_type": "code",
   "execution_count": null,
   "id": "4a06ec59-5406-4e06-af90-a8ed049fae71",
   "metadata": {},
   "outputs": [],
   "source": []
  }
 ],
 "metadata": {
  "kernelspec": {
   "display_name": "Python [conda env:base] *",
   "language": "python",
   "name": "conda-base-py"
  },
  "language_info": {
   "codemirror_mode": {
    "name": "ipython",
    "version": 3
   },
   "file_extension": ".py",
   "mimetype": "text/x-python",
   "name": "python",
   "nbconvert_exporter": "python",
   "pygments_lexer": "ipython3",
   "version": "3.12.7"
  }
 },
 "nbformat": 4,
 "nbformat_minor": 5
}
