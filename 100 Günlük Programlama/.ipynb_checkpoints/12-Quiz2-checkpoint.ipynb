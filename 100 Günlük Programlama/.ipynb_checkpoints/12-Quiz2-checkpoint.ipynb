{
 "cells": [
  {
   "cell_type": "code",
   "execution_count": 1,
   "metadata": {},
   "outputs": [],
   "source": [
    "# 1) Aşağıdaki kodun çıktısı ne olacaktır?"
   ]
  },
  {
   "cell_type": "code",
   "execution_count": 6,
   "metadata": {},
   "outputs": [],
   "source": [
    "x = 5\n",
    "y = 3\n",
    "z = 6"
   ]
  },
  {
   "cell_type": "markdown",
   "metadata": {},
   "source": [
    "x > y and z > x"
   ]
  },
  {
   "cell_type": "code",
   "execution_count": 8,
   "metadata": {},
   "outputs": [
    {
     "data": {
      "text/plain": [
       "True"
      ]
     },
     "execution_count": 8,
     "metadata": {},
     "output_type": "execute_result"
    }
   ],
   "source": [
    "# true\n",
    "x > y and z > x"
   ]
  },
  {
   "cell_type": "code",
   "execution_count": 4,
   "metadata": {},
   "outputs": [],
   "source": [
    "# 2) Aynı değerlerle kod şu şekilde değiştilirse çıktı ne olacaktır?"
   ]
  },
  {
   "cell_type": "markdown",
   "metadata": {},
   "source": [
    "x < y or z > y"
   ]
  },
  {
   "cell_type": "code",
   "execution_count": 10,
   "metadata": {},
   "outputs": [
    {
     "data": {
      "text/plain": [
       "True"
      ]
     },
     "execution_count": 10,
     "metadata": {},
     "output_type": "execute_result"
    }
   ],
   "source": [
    "# cevap\n",
    "#true\n",
    "x < y or z > y"
   ]
  },
  {
   "cell_type": "code",
   "execution_count": 6,
   "metadata": {},
   "outputs": [],
   "source": [
    "# 3) Aşağıdaki kodun çıktısı ne olacaktır?"
   ]
  },
  {
   "cell_type": "code",
   "execution_count": 7,
   "metadata": {},
   "outputs": [
    {
     "data": {
      "text/plain": [
       "'\\nyas = 20\\n\\nif yas < 18:\\n    print(\"18 yaşından küçüksünüz\")\\nelif yas >= 18 and yas < 30:\\n    print(\"18 ile 30 yaş arasında bir gençsiniz\")\\nelif yas >= 30 and yas < 40:\\n    print(\"30 ve 40 arasına gelmişsiniz\")\\nelse:\\n    print(\"40 yaşından daha büyüksünüz\")\\n'"
      ]
     },
     "execution_count": 7,
     "metadata": {},
     "output_type": "execute_result"
    }
   ],
   "source": [
    "'''\n",
    "yas = 20\n",
    "\n",
    "if yas < 18:\n",
    "    print(\"18 yaşından küçüksünüz\")\n",
    "elif yas >= 18 and yas < 30:\n",
    "    print(\"18 ile 30 yaş arasında bir gençsiniz\")\n",
    "elif yas >= 30 and yas < 40:\n",
    "    print(\"30 ve 40 arasına gelmişsiniz\")\n",
    "else:\n",
    "    print(\"40 yaşından daha büyüksünüz\")\n",
    "'''"
   ]
  },
  {
   "cell_type": "code",
   "execution_count": 14,
   "metadata": {},
   "outputs": [
    {
     "name": "stdout",
     "output_type": "stream",
     "text": [
      "18 ile 30 yaş arasında bir gençsiniz\n"
     ]
    }
   ],
   "source": [
    "# cevap\n",
    "#18 ile 30 yaş arasında bir gençsiniz\n",
    "yas = 20\n",
    "\n",
    "if yas < 18:\n",
    "    print(\"18 yaşından küçüksünüz\")\n",
    "elif yas >= 18 and yas < 30:\n",
    "    print(\"18 ile 30 yaş arasında bir gençsiniz\")\n",
    "elif yas >= 30 and yas < 40:\n",
    "    print(\"30 ve 40 arasına gelmişsiniz\")\n",
    "else:\n",
    "    print(\"40 yaşından daha büyüksünüz\")"
   ]
  },
  {
   "cell_type": "code",
   "execution_count": 9,
   "metadata": {},
   "outputs": [],
   "source": [
    "#4) Aşağıdaki sözlükte, değerler içinde c harfinin geçip geçmediğini gösteren bir if koşulu yazınız"
   ]
  },
  {
   "cell_type": "code",
   "execution_count": 16,
   "metadata": {},
   "outputs": [],
   "source": [
    "my_dictionary = {\"k1\":10,\"k2k\":\"a\",\"k32\":30,\"k4\":\"c\"}"
   ]
  },
  {
   "cell_type": "code",
   "execution_count": 32,
   "metadata": {},
   "outputs": [
    {
     "name": "stdout",
     "output_type": "stream",
     "text": [
      "c harfi geçerlidir\n"
     ]
    }
   ],
   "source": [
    "for x in my_dictionary:\n",
    "    if my_dictionary[x] == \"c\":\n",
    "        print(\"c harfi geçerlidir\")\n",
    "        break"
   ]
  },
  {
   "cell_type": "code",
   "execution_count": 12,
   "metadata": {},
   "outputs": [],
   "source": [
    "# cevap"
   ]
  },
  {
   "cell_type": "code",
   "execution_count": 13,
   "metadata": {},
   "outputs": [],
   "source": [
    "#5) Aşağıdaki sözlükte, anahtarlar içinde a harfinin geçip geçmediğini gösteren bir if koşulu yazınız"
   ]
  },
  {
   "cell_type": "code",
   "execution_count": 34,
   "metadata": {},
   "outputs": [],
   "source": [
    "my_other_dictionary = {\"b\":203,\"c\":\"a\",\"a\":400,\"d\":\"f\"}"
   ]
  },
  {
   "cell_type": "code",
   "execution_count": 38,
   "metadata": {},
   "outputs": [
    {
     "name": "stdout",
     "output_type": "stream",
     "text": [
      "a harfi geçerlidir a\n"
     ]
    }
   ],
   "source": [
    "for x in my_other_dictionary.keys():\n",
    "    if x == \"a\":\n",
    "        print(\"a harfi geçerlidir\",x)\n",
    "        break"
   ]
  },
  {
   "cell_type": "code",
   "execution_count": 16,
   "metadata": {},
   "outputs": [],
   "source": [
    "# cevap"
   ]
  },
  {
   "cell_type": "code",
   "execution_count": 17,
   "metadata": {},
   "outputs": [],
   "source": [
    "#6) Aşağıdaki listedeki sayılardan sadece çift sayı olanları yazdıran bir kod yazınız."
   ]
  },
  {
   "cell_type": "code",
   "execution_count": 40,
   "metadata": {},
   "outputs": [],
   "source": [
    "my_numbers = [1,2,3,4,5,6,19,20,32,21,20,1111,23,24]"
   ]
  },
  {
   "cell_type": "code",
   "execution_count": 44,
   "metadata": {},
   "outputs": [
    {
     "name": "stdout",
     "output_type": "stream",
     "text": [
      "bu sayı çifttir: 2\n",
      "bu sayı çifttir: 4\n",
      "bu sayı çifttir: 6\n",
      "bu sayı çifttir: 20\n",
      "bu sayı çifttir: 32\n",
      "bu sayı çifttir: 20\n",
      "bu sayı çifttir: 24\n"
     ]
    }
   ],
   "source": [
    "for x in my_numbers:\n",
    "    if x%2==0:\n",
    "        print(f\"bu sayı çifttir: {x}\")"
   ]
  },
  {
   "cell_type": "code",
   "execution_count": 20,
   "metadata": {},
   "outputs": [],
   "source": [
    "# cevap"
   ]
  },
  {
   "cell_type": "code",
   "execution_count": 21,
   "metadata": {},
   "outputs": [],
   "source": [
    "# cevap"
   ]
  },
  {
   "cell_type": "code",
   "execution_count": 22,
   "metadata": {},
   "outputs": [],
   "source": [
    "#7) Aşağıdaki listedeki sayılar bir dairenin yarı çapını vermektedir. "
   ]
  },
  {
   "cell_type": "code",
   "execution_count": 23,
   "metadata": {},
   "outputs": [],
   "source": [
    "#Tüm dairelerin çevresini içeren başka yeni bir liste oluşturunuz. (İpucu: 2 * pi * r)  Pi 3.14 alınabilir."
   ]
  },
  {
   "cell_type": "code",
   "execution_count": 52,
   "metadata": {},
   "outputs": [],
   "source": [
    "r_list = [3,2,5,8,4,6,9,12]"
   ]
  },
  {
   "cell_type": "code",
   "execution_count": 64,
   "metadata": {},
   "outputs": [
    {
     "data": {
      "text/plain": [
       "[18.84, 12.56, 31.400000000000002, 50.24, 25.12, 37.68, 56.52, 75.36]"
      ]
     },
     "execution_count": 64,
     "metadata": {},
     "output_type": "execute_result"
    }
   ],
   "source": [
    "#cevap\n",
    "yeni_list =[]\n",
    "pi = 3.14\n",
    "for r in r_list:\n",
    "    yeni_list.append(2 * pi * r)\n",
    "yeni_list"
   ]
  },
  {
   "cell_type": "code",
   "execution_count": 66,
   "metadata": {},
   "outputs": [
    {
     "data": {
      "text/plain": [
       "[18.84, 12.56, 31.400000000000002, 50.24, 25.12, 37.68, 56.52, 75.36]"
      ]
     },
     "execution_count": 66,
     "metadata": {},
     "output_type": "execute_result"
    }
   ],
   "source": [
    "yeni_liste = [2*r*pi for r in r_list]\n",
    "yeni_liste"
   ]
  },
  {
   "cell_type": "code",
   "execution_count": 28,
   "metadata": {},
   "outputs": [],
   "source": [
    "#8) Aşağıdaki listede isim - yaş eşleşmelerinin bulunduğu yapılar mevcuttur."
   ]
  },
  {
   "cell_type": "code",
   "execution_count": 29,
   "metadata": {},
   "outputs": [],
   "source": [
    "# Sadece yaşların olduğu yeni ve ayrı bir liste oluşturunuz."
   ]
  },
  {
   "cell_type": "code",
   "execution_count": 72,
   "metadata": {},
   "outputs": [],
   "source": [
    "age_name_list = [(\"Ahmet\",30),(\"Ayse\",24),(\"Mehmet\",40),(\"Fatma\",29)]"
   ]
  },
  {
   "cell_type": "code",
   "execution_count": 84,
   "metadata": {},
   "outputs": [
    {
     "data": {
      "text/plain": [
       "[30, 24, 40, 29]"
      ]
     },
     "execution_count": 84,
     "metadata": {},
     "output_type": "execute_result"
    }
   ],
   "source": [
    "age =list()\n",
    "name = list()\n",
    "for (x,y) in age_name_list:\n",
    "    age.append(y)\n",
    "    name.append(x)\n",
    "age\n",
    "\n"
   ]
  },
  {
   "cell_type": "code",
   "execution_count": 88,
   "metadata": {},
   "outputs": [
    {
     "data": {
      "text/plain": [
       "[30, 24, 40, 29]"
      ]
     },
     "execution_count": 88,
     "metadata": {},
     "output_type": "execute_result"
    }
   ],
   "source": [
    "age2 = [y for (x,y) in age_name_list]\n",
    "age2"
   ]
  },
  {
   "cell_type": "code",
   "execution_count": 33,
   "metadata": {},
   "outputs": [],
   "source": [
    "# cevap"
   ]
  },
  {
   "cell_type": "code",
   "execution_count": 34,
   "metadata": {},
   "outputs": [],
   "source": [
    "#9) Aşağıdaki müzik gruplarından birini rastgele yazdıran bir kod yazınız"
   ]
  },
  {
   "cell_type": "code",
   "execution_count": 90,
   "metadata": {},
   "outputs": [],
   "source": [
    "metal_list = [\"Metallica\",\"Iron Maiden\",\"Dream Theater\",\"Megadeth\",\"AC/DC\"]"
   ]
  },
  {
   "cell_type": "code",
   "execution_count": 120,
   "metadata": {},
   "outputs": [],
   "source": [
    "from random import shuffle\n",
    "from random import randint"
   ]
  },
  {
   "cell_type": "code",
   "execution_count": 116,
   "metadata": {},
   "outputs": [
    {
     "data": {
      "text/plain": [
       "'Iron Maiden'"
      ]
     },
     "execution_count": 116,
     "metadata": {},
     "output_type": "execute_result"
    }
   ],
   "source": [
    "shuffle(metal_list)\n",
    "metal_list[0]"
   ]
  },
  {
   "cell_type": "code",
   "execution_count": 130,
   "metadata": {},
   "outputs": [
    {
     "data": {
      "text/plain": [
       "'Dream Theater'"
      ]
     },
     "execution_count": 130,
     "metadata": {},
     "output_type": "execute_result"
    }
   ],
   "source": [
    "metal_list[randint(0,len(metal_list)-1)]"
   ]
  },
  {
   "cell_type": "code",
   "execution_count": 39,
   "metadata": {},
   "outputs": [],
   "source": [
    "#10) Aşağıdaki kodun çıktısı ne olacaktır?"
   ]
  },
  {
   "cell_type": "code",
   "execution_count": 132,
   "metadata": {},
   "outputs": [],
   "source": [
    "number_list = [5,7,18,21,20,10,405,24]"
   ]
  },
  {
   "cell_type": "markdown",
   "metadata": {},
   "source": [
    "[num % 2 == 0 for num in number_list]"
   ]
  },
  {
   "cell_type": "code",
   "execution_count": 140,
   "metadata": {},
   "outputs": [
    {
     "data": {
      "text/plain": [
       "[False, False, True, False, True, True, False, True]"
      ]
     },
     "execution_count": 140,
     "metadata": {},
     "output_type": "execute_result"
    }
   ],
   "source": [
    "[False, False, True, False, True, True, False, True]"
   ]
  },
  {
   "cell_type": "code",
   "execution_count": 142,
   "metadata": {},
   "outputs": [
    {
     "data": {
      "text/plain": [
       "[False, False, True, False, True, True, False, True]"
      ]
     },
     "execution_count": 142,
     "metadata": {},
     "output_type": "execute_result"
    }
   ],
   "source": [
    "[num % 2 == 0 for num in number_list]"
   ]
  },
  {
   "cell_type": "code",
   "execution_count": null,
   "metadata": {},
   "outputs": [],
   "source": []
  }
 ],
 "metadata": {
  "kernelspec": {
   "display_name": "Python [conda env:base] *",
   "language": "python",
   "name": "conda-base-py"
  },
  "language_info": {
   "codemirror_mode": {
    "name": "ipython",
    "version": 3
   },
   "file_extension": ".py",
   "mimetype": "text/x-python",
   "name": "python",
   "nbconvert_exporter": "python",
   "pygments_lexer": "ipython3",
   "version": "3.12.7"
  }
 },
 "nbformat": 4,
 "nbformat_minor": 4
}
