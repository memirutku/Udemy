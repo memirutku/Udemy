{
 "cells": [
  {
   "cell_type": "code",
   "execution_count": 1,
   "id": "d4cdf7dd-6817-46fc-b73d-00be769f2f7f",
   "metadata": {},
   "outputs": [],
   "source": [
    "#Yapımız bir koleksiyondur içinde birden fazla değer tutabilir.\n",
    "# unique elements , unordered\n",
    "# her elemandan bir tane bulunur(özel yani) , index mantığı yok"
   ]
  },
  {
   "cell_type": "code",
   "execution_count": 13,
   "id": "159848b2-0836-4adb-93fb-3aebb99afd70",
   "metadata": {},
   "outputs": [],
   "source": [
    "myList = [10,20,20,40,10,20,40]"
   ]
  },
  {
   "cell_type": "code",
   "execution_count": 5,
   "id": "0f67aed3-1b5f-4dfe-9434-208f85feb40a",
   "metadata": {},
   "outputs": [
    {
     "data": {
      "text/plain": [
       "7"
      ]
     },
     "execution_count": 5,
     "metadata": {},
     "output_type": "execute_result"
    }
   ],
   "source": [
    "len(myList)"
   ]
  },
  {
   "cell_type": "code",
   "execution_count": 17,
   "id": "0a4894e6-ad04-4c04-b4ec-745bac518377",
   "metadata": {},
   "outputs": [
    {
     "data": {
      "text/plain": [
       "[10, 20, 20, 40, 10, 20, 40]"
      ]
     },
     "execution_count": 17,
     "metadata": {},
     "output_type": "execute_result"
    }
   ],
   "source": [
    "myList\n",
    "#listelerde tekrarlı olmazı önemsizdir önemli olan sırasıdır(index)."
   ]
  },
  {
   "cell_type": "code",
   "execution_count": 23,
   "id": "1f773bea-4bd9-4281-92d0-d43b632446e2",
   "metadata": {},
   "outputs": [],
   "source": [
    "mySet = set(myList)\n",
    "# set() içindeki değeri set e çevirir."
   ]
  },
  {
   "cell_type": "code",
   "execution_count": 21,
   "id": "3e61ca17-576e-4444-befc-91d35eb57698",
   "metadata": {},
   "outputs": [
    {
     "data": {
      "text/plain": [
       "{10, 20, 40}"
      ]
     },
     "execution_count": 21,
     "metadata": {},
     "output_type": "execute_result"
    }
   ],
   "source": [
    "mySet"
   ]
  },
  {
   "cell_type": "code",
   "execution_count": 25,
   "id": "d36f74f7-a6f5-45b1-85db-b2ff0e824c6c",
   "metadata": {},
   "outputs": [],
   "source": [
    "mySet = {10,20,30,40,10}\n",
    "#dictionaries deki gibi süslü paratnez ile oluşturulur tek varkı \":\" yoktur\n",
    "# içinde iki aynı değeri yazsan bile çıktı olarak tek birtanesini gösterir."
   ]
  },
  {
   "cell_type": "code",
   "execution_count": 27,
   "id": "9e3fd13a-cd4b-450c-af61-9fcb8441c73a",
   "metadata": {},
   "outputs": [
    {
     "data": {
      "text/plain": [
       "{10, 20, 30, 40}"
      ]
     },
     "execution_count": 27,
     "metadata": {},
     "output_type": "execute_result"
    }
   ],
   "source": [
    "mySet"
   ]
  },
  {
   "cell_type": "code",
   "execution_count": 29,
   "id": "bb7527c6-835a-46eb-b957-c39be0741b1a",
   "metadata": {},
   "outputs": [],
   "source": [
    "# mySet[0] hata veriri çünkü index mantığı yoktur."
   ]
  },
  {
   "cell_type": "code",
   "execution_count": 35,
   "id": "8b7af23e-0514-40f8-988d-252592230bae",
   "metadata": {},
   "outputs": [],
   "source": [
    "mySet2 = {40,30,50,25,15}"
   ]
  },
  {
   "cell_type": "code",
   "execution_count": 37,
   "id": "b1f1b86b-7782-43c8-8410-6f4cc5364caa",
   "metadata": {},
   "outputs": [
    {
     "data": {
      "text/plain": [
       "{10, 15, 20, 25, 30, 40, 50}"
      ]
     },
     "execution_count": 37,
     "metadata": {},
     "output_type": "execute_result"
    }
   ],
   "source": [
    "mySet.union(mySet2)\n",
    "# ikis set i birleştirdi "
   ]
  },
  {
   "cell_type": "code",
   "execution_count": 43,
   "id": "46979d05-7eda-4e8e-bf80-c95aa65803da",
   "metadata": {},
   "outputs": [
    {
     "data": {
      "text/plain": [
       "{30, 40}"
      ]
     },
     "execution_count": 43,
     "metadata": {},
     "output_type": "execute_result"
    }
   ],
   "source": [
    "mySet.intersection(mySet2)\n",
    "# iki setin ortaklarını gösterdi."
   ]
  },
  {
   "cell_type": "code",
   "execution_count": 45,
   "id": "9333334c-93e1-4ef2-9885-e70484b0deea",
   "metadata": {},
   "outputs": [],
   "source": [
    "countryList= [\"de\",\"fr\",\"tr\",\"usa\",\"tr\",\"de\",\"gbr\",\"fr\"]"
   ]
  },
  {
   "cell_type": "code",
   "execution_count": 49,
   "id": "cb101d2c-ddcf-4b6c-ba72-f2ec9d92f4e4",
   "metadata": {},
   "outputs": [
    {
     "data": {
      "text/plain": [
       "{'de', 'fr', 'gbr', 'tr', 'usa'}"
      ]
     },
     "execution_count": 49,
     "metadata": {},
     "output_type": "execute_result"
    }
   ],
   "source": [
    "set(countryList)\n",
    "#bu şekilde set kullanarak tekrarlanan verileri kaldırabiliriz."
   ]
  },
  {
   "cell_type": "code",
   "execution_count": 51,
   "id": "60cb2e22-e305-432b-8b3e-9647061ffdc3",
   "metadata": {},
   "outputs": [],
   "source": [
    "emptySet = {}\n",
    "#boş set oluşturmak istersen süslü parantezi dictionary olarak algılar ve dict oluşturur."
   ]
  },
  {
   "cell_type": "code",
   "execution_count": 53,
   "id": "81058b75-38d1-4d1c-85f2-92277e5f5819",
   "metadata": {},
   "outputs": [
    {
     "data": {
      "text/plain": [
       "dict"
      ]
     },
     "execution_count": 53,
     "metadata": {},
     "output_type": "execute_result"
    }
   ],
   "source": [
    "type(emptySet)"
   ]
  },
  {
   "cell_type": "code",
   "execution_count": 55,
   "id": "f9433b69-470c-4b5c-9e48-f43a47d449b9",
   "metadata": {},
   "outputs": [],
   "source": [
    "#boş set oluşturmak istiyor isek\n",
    "emptySet = set()"
   ]
  },
  {
   "cell_type": "code",
   "execution_count": 57,
   "id": "653fa681-a775-44c1-a2e1-c83f313cf244",
   "metadata": {},
   "outputs": [
    {
     "data": {
      "text/plain": [
       "set"
      ]
     },
     "execution_count": 57,
     "metadata": {},
     "output_type": "execute_result"
    }
   ],
   "source": [
    "type(emptySet)"
   ]
  },
  {
   "cell_type": "code",
   "execution_count": 65,
   "id": "d94c1bd7-eff2-4049-a7ca-ef12017fb6a0",
   "metadata": {},
   "outputs": [],
   "source": [
    "emptySet.add(10)\n",
    "emptySet.add(10)\n",
    "emptySet.add(10)\n",
    "emptySet.add(20)\n",
    "emptySet.add(30)\n",
    "# empty set e eklemek için .add() kullanıyoruz (bunun için \".\" dan sonra \"tab\" tuşuna basarsan çıkıyor ne kullanabileceğin)"
   ]
  },
  {
   "cell_type": "code",
   "execution_count": 63,
   "id": "ad1f51ee-2f7d-493e-88f5-155d19a06fd4",
   "metadata": {},
   "outputs": [
    {
     "data": {
      "text/plain": [
       "{10, 20, 30}"
      ]
     },
     "execution_count": 63,
     "metadata": {},
     "output_type": "execute_result"
    }
   ],
   "source": [
    "emptySet"
   ]
  },
  {
   "cell_type": "code",
   "execution_count": 67,
   "id": "41552b18-b091-4ea6-991d-01b8877967e6",
   "metadata": {},
   "outputs": [],
   "source": [
    "# bu oluşturma yöntemi sadece set e özel değil \n",
    "emptyList = list()\n",
    "emptyDict = dict()\n",
    "# şeklinde liste ve dictionary oluşturulabilir."
   ]
  },
  {
   "cell_type": "code",
   "execution_count": null,
   "id": "fb7451f9-8707-48c8-b73b-69d3c5c5fbc4",
   "metadata": {},
   "outputs": [],
   "source": []
  }
 ],
 "metadata": {
  "kernelspec": {
   "display_name": "Python [conda env:base] *",
   "language": "python",
   "name": "conda-base-py"
  },
  "language_info": {
   "codemirror_mode": {
    "name": "ipython",
    "version": 3
   },
   "file_extension": ".py",
   "mimetype": "text/x-python",
   "name": "python",
   "nbconvert_exporter": "python",
   "pygments_lexer": "ipython3",
   "version": "3.12.7"
  }
 },
 "nbformat": 4,
 "nbformat_minor": 5
}
