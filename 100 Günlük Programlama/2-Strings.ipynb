{
 "cells": [
  {
   "cell_type": "code",
   "execution_count": 2,
   "id": "3ef62f5c-fb43-47e3-a0e1-bb805460376e",
   "metadata": {},
   "outputs": [],
   "source": [
    "# String - Metinler, Yazılar"
   ]
  },
  {
   "cell_type": "code",
   "execution_count": 3,
   "id": "9e7c9de5-9732-473f-b3d6-18c859a3fe78",
   "metadata": {},
   "outputs": [
    {
     "data": {
      "text/plain": [
       "'hello world'"
      ]
     },
     "execution_count": 3,
     "metadata": {},
     "output_type": "execute_result"
    }
   ],
   "source": [
    "'hello world' # jupyter de böyle de yazabilirsin herşeyin çıktısını verdiği için"
   ]
  },
  {
   "cell_type": "code",
   "execution_count": 4,
   "id": "7ec585a7-9c85-459b-a886-56170f4e2272",
   "metadata": {},
   "outputs": [
    {
     "name": "stdout",
     "output_type": "stream",
     "text": [
      "Hello World\n"
     ]
    }
   ],
   "source": [
    "print ('Hello World') # farklı ortamlarda yazdığımızda çıktıları görmek için print komutunu yazmamız lazım."
   ]
  },
  {
   "cell_type": "code",
   "execution_count": 5,
   "id": "b8f972a4-a40d-482c-967c-e9a2797ef92b",
   "metadata": {},
   "outputs": [],
   "source": [
    "name = 'mustafa'"
   ]
  },
  {
   "cell_type": "code",
   "execution_count": 6,
   "id": "08ce8f8c-f904-4a08-8a50-ea6b7b6b8dcd",
   "metadata": {},
   "outputs": [
    {
     "data": {
      "text/plain": [
       "str"
      ]
     },
     "execution_count": 6,
     "metadata": {},
     "output_type": "execute_result"
    }
   ],
   "source": [
    "type (name)"
   ]
  },
  {
   "cell_type": "code",
   "execution_count": 7,
   "id": "5a3fa681-d07f-4e36-aaac-70856e2224dc",
   "metadata": {},
   "outputs": [],
   "source": [
    "# tek tırnakla da çift tırnakla da olabilir sıkıntı çıkmaz ama çift tırnak daha mantıklı "
   ]
  },
  {
   "cell_type": "code",
   "execution_count": 8,
   "id": "f596c5c0-1ef9-4eb3-acc0-82f8150c4978",
   "metadata": {},
   "outputs": [
    {
     "data": {
      "text/plain": [
       "\"Mustafa's World\""
      ]
     },
     "execution_count": 8,
     "metadata": {},
     "output_type": "execute_result"
    }
   ],
   "source": [
    "\"Mustafa's World\" # gibi yazabilmek için"
   ]
  },
  {
   "cell_type": "code",
   "execution_count": 9,
   "id": "17cd7304-3c8c-483a-b51b-81d2ef0a7f10",
   "metadata": {},
   "outputs": [
    {
     "data": {
      "text/plain": [
       "'Mustafa'"
      ]
     },
     "execution_count": 9,
     "metadata": {},
     "output_type": "execute_result"
    }
   ],
   "source": [
    "#değişkeni yazıp noktadan sonra tab'a basarsak methodları görebiliriz.\n",
    "name.capitalize()\n",
    "# sonuna parantez eklememizin nedeni bunu çalıştır anlamına geliyor."
   ]
  },
  {
   "cell_type": "code",
   "execution_count": 10,
   "id": "c800ade8-fbad-4191-a9cd-f150c3487224",
   "metadata": {},
   "outputs": [
    {
     "data": {
      "text/plain": [
       "<function str.capitalize()>"
      ]
     },
     "execution_count": 10,
     "metadata": {},
     "output_type": "execute_result"
    }
   ],
   "source": [
    "name.capitalize"
   ]
  },
  {
   "cell_type": "code",
   "execution_count": 11,
   "id": "71a980f8-4311-4b77-b7b7-730ee19a77dd",
   "metadata": {},
   "outputs": [
    {
     "name": "stdout",
     "output_type": "stream",
     "text": [
      "Help on built-in function count:\n",
      "\n",
      "count(...) method of builtins.str instance\n",
      "    S.count(sub[, start[, end]]) -> int\n",
      "\n",
      "    Return the number of non-overlapping occurrences of substring sub in\n",
      "    string S[start:end].  Optional arguments start and end are\n",
      "    interpreted as in slice notation.\n",
      "\n"
     ]
    }
   ],
   "source": [
    "help(name.count)\n",
    "    # python da HELP() komutu o methodu bize az da olsa açıklar."
   ]
  },
  {
   "cell_type": "code",
   "execution_count": 12,
   "id": "701ce5fb-bc4b-4d9f-805b-ea608441a429",
   "metadata": {},
   "outputs": [
    {
     "name": "stdout",
     "output_type": "stream",
     "text": [
      "Help on built-in function capitalize:\n",
      "\n",
      "capitalize() method of builtins.str instance\n",
      "    Return a capitalized version of the string.\n",
      "\n",
      "    More specifically, make the first character have upper case and the rest lower\n",
      "    case.\n",
      "\n"
     ]
    }
   ],
   "source": [
    "help(name.capitalize)"
   ]
  },
  {
   "cell_type": "code",
   "execution_count": 13,
   "id": "07d52ac1-b33a-4c19-8374-5031f5c8a10c",
   "metadata": {},
   "outputs": [],
   "source": [
    "# Bazı fonksiyonlar değerinizi değiştirirken bazıları ise değiştirmez sadece anlık olarak değişmiş halini gösterir\n",
    "# o anlık olarak değişmiş olanları kalıcı olarak değiştirmek için ise yeni değer atarız.\n",
    "new_name = name.capitalize()"
   ]
  },
  {
   "cell_type": "code",
   "execution_count": 14,
   "id": "d186f323-d5d4-4a90-8ad3-9caafb72bc75",
   "metadata": {},
   "outputs": [
    {
     "data": {
      "text/plain": [
       "'Mustafa'"
      ]
     },
     "execution_count": 14,
     "metadata": {},
     "output_type": "execute_result"
    }
   ],
   "source": [
    "new_name"
   ]
  },
  {
   "cell_type": "code",
   "execution_count": 15,
   "id": "727b3075-aa09-4728-a884-0d059ff357f3",
   "metadata": {},
   "outputs": [
    {
     "data": {
      "text/plain": [
       "'mustafa'"
      ]
     },
     "execution_count": 15,
     "metadata": {},
     "output_type": "execute_result"
    }
   ],
   "source": [
    "name"
   ]
  },
  {
   "cell_type": "code",
   "execution_count": 31,
   "id": "3208b7e5-2fd5-473c-8a37-179ecf0b84a4",
   "metadata": {},
   "outputs": [
    {
     "data": {
      "text/plain": [
       "7"
      ]
     },
     "execution_count": 31,
     "metadata": {},
     "output_type": "execute_result"
    }
   ],
   "source": [
    "len(name)"
   ]
  },
  {
   "cell_type": "code",
   "execution_count": 33,
   "id": "fa05788e-d286-4baf-b989-3e678f1286ca",
   "metadata": {},
   "outputs": [
    {
     "name": "stdout",
     "output_type": "stream",
     "text": [
      "mustafa\n",
      " utku\n"
     ]
    }
   ],
   "source": [
    "print(\"mustafa\\n utku\") # \\n -> new line demek alt alta iki satır şekilde yazdırabilirsin ve tırnağın içinde kullanılır."
   ]
  },
  {
   "cell_type": "code",
   "execution_count": 35,
   "id": "0b1a8c75-16d9-43c8-b96b-af981bfb198b",
   "metadata": {},
   "outputs": [],
   "source": [
    "# bunlara ESCAPE CHARACTERS deniyor "
   ]
  },
  {
   "cell_type": "code",
   "execution_count": 39,
   "id": "515f504f-0614-43ca-bbd7-45846ed1ab55",
   "metadata": {},
   "outputs": [
    {
     "name": "stdout",
     "output_type": "stream",
     "text": [
      "mustafa \t emir\n"
     ]
    }
   ],
   "source": [
    "# \\n -> tab bir tablık boşluk bırakıyor\n",
    "print (\"mustafa \\t emir\")"
   ]
  },
  {
   "cell_type": "markdown",
   "id": "94c0f14a-159e-4d4e-8de0-81665e0182c3",
   "metadata": {},
   "source": [
    "INDEX"
   ]
  },
  {
   "cell_type": "code",
   "execution_count": 7,
   "id": "cea9f6d0-f665-46dc-bb7f-66b3c99b1c27",
   "metadata": {},
   "outputs": [
    {
     "data": {
      "text/plain": [
       "'H'"
      ]
     },
     "execution_count": 7,
     "metadata": {},
     "output_type": "execute_result"
    }
   ],
   "source": [
    "myString = \"Hello Python\"\n",
    "#indexler '0' dan başlar ve o verinin hangi kısmını olduğunu belirtir. Boşluğunda bir indexi vardır.\n",
    "#köşeli parantez kullanırız.\n",
    "myString[0]"
   ]
  },
  {
   "cell_type": "code",
   "execution_count": 10,
   "id": "85d13bdb-d723-4232-a90c-9f703b6cdf0f",
   "metadata": {},
   "outputs": [
    {
     "data": {
      "text/plain": [
       "11"
      ]
     },
     "execution_count": 10,
     "metadata": {},
     "output_type": "execute_result"
    }
   ],
   "source": [
    "len(myString)\n",
    "# her zaman karakter uzunluğunu verir ise \n",
    "len(myString) - 1\n",
    "# ise her zaman indexinin son rakamını verir çünkü index 0 dan başlar."
   ]
  },
  {
   "cell_type": "code",
   "execution_count": 29,
   "id": "64585a68-bbae-4a7f-9622-c3c6a4c44dc0",
   "metadata": {},
   "outputs": [
    {
     "data": {
      "text/plain": [
       "'n'"
      ]
     },
     "execution_count": 29,
     "metadata": {},
     "output_type": "execute_result"
    }
   ],
   "source": [
    "#Python da index de '-' ile başlarsan sondan başlar\n",
    "myString[-1]"
   ]
  },
  {
   "cell_type": "code",
   "execution_count": 31,
   "id": "e7af11e6-8b64-4e00-836c-d1b265f5428b",
   "metadata": {},
   "outputs": [
    {
     "data": {
      "text/plain": [
       "'o'"
      ]
     },
     "execution_count": 31,
     "metadata": {},
     "output_type": "execute_result"
    }
   ],
   "source": [
    "myString[-2]"
   ]
  },
  {
   "cell_type": "markdown",
   "id": "50d0f9e1-7bd3-4ca9-91f9-a84cae9524a9",
   "metadata": {},
   "source": [
    "SLICING"
   ]
  },
  {
   "cell_type": "code",
   "execution_count": 34,
   "id": "266a5d60-2273-43fc-a91e-c28e06ed05fa",
   "metadata": {},
   "outputs": [
    {
     "data": {
      "text/plain": [
       "'AB'"
      ]
     },
     "execution_count": 34,
     "metadata": {},
     "output_type": "execute_result"
    }
   ],
   "source": [
    "barcode = \"ABCDE123456789\"\n",
    "#Python da stringlerde toplama işlemi yapılabilir bu da yan yana koymak anlamına gelir.\n",
    "\"A\"+\"B\""
   ]
  },
  {
   "cell_type": "code",
   "execution_count": 42,
   "id": "16b3730b-0722-45d3-9461-8bbf91cd5f5a",
   "metadata": {},
   "outputs": [
    {
     "data": {
      "text/plain": [
       "'ABCDE123456789ABCDE123456789ABCDE123456789'"
      ]
     },
     "execution_count": 42,
     "metadata": {},
     "output_type": "execute_result"
    }
   ],
   "source": [
    "# çarpma da yapılabilir bu da yan yana yazım anlamına gelir.\n",
    "barcode * 3\n",
    "# çıkarma ve bölme yapılmaz."
   ]
  },
  {
   "cell_type": "code",
   "execution_count": 44,
   "id": "95b042d6-31a5-42bb-bd68-9a65b4214563",
   "metadata": {},
   "outputs": [
    {
     "data": {
      "text/plain": [
       "'ABC'"
      ]
     },
     "execution_count": 44,
     "metadata": {},
     "output_type": "execute_result"
    }
   ],
   "source": [
    "barcode[0] + barcode[1] + barcode[2]"
   ]
  },
  {
   "cell_type": "code",
   "execution_count": 52,
   "id": "64e03caa-fb15-4410-925d-37fb244d836d",
   "metadata": {},
   "outputs": [],
   "source": [
    "# üsteki gibi yan yana yazmak yerine bunu kolaylaştıran Slicing işlemi kullanılarak daha rahat yapılır.\n",
    "# slicing, starting index, stopping index, stepping size (slicing dilimlemek demektir)"
   ]
  },
  {
   "cell_type": "code",
   "execution_count": 68,
   "id": "e2a970eb-6094-4bd4-b531-45996ab74098",
   "metadata": {},
   "outputs": [
    {
     "data": {
      "text/plain": [
       "'DE123456789'"
      ]
     },
     "execution_count": 68,
     "metadata": {},
     "output_type": "execute_result"
    }
   ],
   "source": [
    "#barcode[#starting index:#stopping index:#step size]\n",
    "# üçüncü indexi alarak başlamaktadır. (inclusive)\n",
    "barcode[3::]"
   ]
  },
  {
   "cell_type": "code",
   "execution_count": 64,
   "id": "c580d290-3a1c-44ff-965e-028296d7acc8",
   "metadata": {},
   "outputs": [
    {
     "data": {
      "text/plain": [
       "'ABC'"
      ]
     },
     "execution_count": 64,
     "metadata": {},
     "output_type": "execute_result"
    }
   ],
   "source": [
    "# üçüncü indexte durmaktadır o indexi almamaktadır. (exclusive)\n",
    "barcode[:3:]"
   ]
  },
  {
   "cell_type": "code",
   "execution_count": 70,
   "id": "ea1ac030-dffc-4956-af84-7e78e3e0e614",
   "metadata": {},
   "outputs": [
    {
     "data": {
      "text/plain": [
       "'ACE2468'"
      ]
     },
     "execution_count": 70,
     "metadata": {},
     "output_type": "execute_result"
    }
   ],
   "source": [
    "# 0 dan başlar 2 şer 2 şer atlayarak gider (0,2,4,6,8,10...)\n",
    "barcode[::2]"
   ]
  },
  {
   "cell_type": "code",
   "execution_count": 72,
   "id": "8a121bf1-3e7d-4ba6-8504-4e3fa7b60ea3",
   "metadata": {},
   "outputs": [
    {
     "data": {
      "text/plain": [
       "'DE'"
      ]
     },
     "execution_count": 72,
     "metadata": {},
     "output_type": "execute_result"
    }
   ],
   "source": [
    "#Başlangıç ve bitiş aynı anda yazılabilir.\n",
    "barcode[3:5:]"
   ]
  },
  {
   "cell_type": "code",
   "execution_count": 74,
   "id": "30a2400d-ebd2-4199-a73c-540726e761de",
   "metadata": {},
   "outputs": [
    {
     "data": {
      "text/plain": [
       "'DE'"
      ]
     },
     "execution_count": 74,
     "metadata": {},
     "output_type": "execute_result"
    }
   ],
   "source": [
    "#Başlangıç ve bitiş aynı anda yazılabilir ne kadar atlıyacağı da yazılmadan.\n",
    "# Aynı sonucu verir.\n",
    "barcode[3:5]"
   ]
  },
  {
   "cell_type": "code",
   "execution_count": 76,
   "id": "fc89bec2-6833-4bbd-b2de-200de9255564",
   "metadata": {},
   "outputs": [
    {
     "data": {
      "text/plain": [
       "'BD13'"
      ]
     },
     "execution_count": 76,
     "metadata": {},
     "output_type": "execute_result"
    }
   ],
   "source": [
    "#Hepsi aynı anda da kullanılabilir.\n",
    "barcode[1:9:2]"
   ]
  },
  {
   "cell_type": "code",
   "execution_count": 78,
   "id": "bc7712db-8322-46b9-b839-f277ea0fff2d",
   "metadata": {},
   "outputs": [
    {
     "data": {
      "text/plain": [
       "'987654321EDCBA'"
      ]
     },
     "execution_count": 78,
     "metadata": {},
     "output_type": "execute_result"
    }
   ],
   "source": [
    "# Sondan başlayarak 1 er 1 er gittiği için ters çevirme işlemi olur.\n",
    "barcode[::-1]"
   ]
  },
  {
   "cell_type": "code",
   "execution_count": 86,
   "id": "d9d21db9-cd70-47f7-81d5-1a3073eb64b3",
   "metadata": {},
   "outputs": [
    {
     "data": {
      "text/plain": [
       "3"
      ]
     },
     "execution_count": 86,
     "metadata": {},
     "output_type": "execute_result"
    }
   ],
   "source": [
    "# girilen harfin indexini verir. Eğer iki tane var ise ilk bulduğunu verir.\n",
    "barcode.index(\"D\")"
   ]
  },
  {
   "cell_type": "code",
   "execution_count": 90,
   "id": "e7de0879-5ba7-421e-a67a-007655b750ff",
   "metadata": {},
   "outputs": [
    {
     "data": {
      "text/plain": [
       "['ABCDE123456789']"
      ]
     },
     "execution_count": 90,
     "metadata": {},
     "output_type": "execute_result"
    }
   ],
   "source": [
    "# bir şey vermez iseniz boşluklardan böler burada boşluk olmadığı için bölmemiş gibi görünüyor.\n",
    "barcode.split()"
   ]
  },
  {
   "cell_type": "code",
   "execution_count": 92,
   "id": "ace0466c-251d-4171-be17-c420c59b8b8a",
   "metadata": {},
   "outputs": [
    {
     "data": {
      "text/plain": [
       "list"
      ]
     },
     "execution_count": 92,
     "metadata": {},
     "output_type": "execute_result"
    }
   ],
   "source": [
    "type(barcode.split())"
   ]
  },
  {
   "cell_type": "code",
   "execution_count": null,
   "id": "752ec853-d459-4268-ae9f-dc4e1eadeebf",
   "metadata": {},
   "outputs": [],
   "source": []
  }
 ],
 "metadata": {
  "kernelspec": {
   "display_name": "Python [conda env:base] *",
   "language": "python",
   "name": "conda-base-py"
  },
  "language_info": {
   "codemirror_mode": {
    "name": "ipython",
    "version": 3
   },
   "file_extension": ".py",
   "mimetype": "text/x-python",
   "name": "python",
   "nbconvert_exporter": "python",
   "pygments_lexer": "ipython3",
   "version": "3.12.7"
  }
 },
 "nbformat": 4,
 "nbformat_minor": 5
}
