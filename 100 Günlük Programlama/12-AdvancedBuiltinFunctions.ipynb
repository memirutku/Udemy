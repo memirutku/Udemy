{
 "cells": [
  {
   "cell_type": "code",
   "execution_count": 2,
   "id": "c25cccae-3ba0-49ef-ba52-b4e076e08935",
   "metadata": {},
   "outputs": [
    {
     "data": {
      "text/plain": [
       "range(0, 50)"
      ]
     },
     "execution_count": 2,
     "metadata": {},
     "output_type": "execute_result"
    }
   ],
   "source": [
    "#range\n",
    "range(0,50) #0 dan başlayıp 50 ye kadar bir kapsam oluşturur.(50 dahil değil)."
   ]
  },
  {
   "cell_type": "code",
   "execution_count": 4,
   "id": "bc829807-8674-4239-9551-15a2cf90bf3a",
   "metadata": {},
   "outputs": [
    {
     "data": {
      "text/plain": [
       "[0, 1, 2, 3, 4, 5, 6, 7, 8, 9]"
      ]
     },
     "execution_count": 4,
     "metadata": {},
     "output_type": "execute_result"
    }
   ],
   "source": [
    "list(range(10)) #0 dan 10 a kadar olan değerleri listeye koyar (10 dahil değil)"
   ]
  },
  {
   "cell_type": "code",
   "execution_count": 12,
   "id": "92b2f770-ecfc-4012-bdf7-668401435763",
   "metadata": {},
   "outputs": [
    {
     "name": "stdout",
     "output_type": "stream",
     "text": [
      "0\n",
      "2\n",
      "4\n",
      "6\n",
      "8\n",
      "10\n",
      "12\n",
      "14\n",
      "16\n",
      "18\n"
     ]
    }
   ],
   "source": [
    "for num in list(range(10)):\n",
    "    print(num*2)"
   ]
  },
  {
   "cell_type": "code",
   "execution_count": 14,
   "id": "41d19044-cebd-4279-a9a2-7e9e0c56ca39",
   "metadata": {},
   "outputs": [
    {
     "name": "stdout",
     "output_type": "stream",
     "text": [
      "10\n",
      "12\n",
      "14\n",
      "16\n",
      "18\n"
     ]
    }
   ],
   "source": [
    "for num in list(range(5,10)): # 5 den başlayıp 10 a kadar olan değerleri listeye atar\n",
    "    print(num*2)"
   ]
  },
  {
   "cell_type": "code",
   "execution_count": 16,
   "id": "2e496f1d-e3ea-430f-85ac-513d95c13a36",
   "metadata": {},
   "outputs": [
    {
     "data": {
      "text/plain": [
       "[5, 7, 9, 11, 13, 15, 17, 19, 21, 23]"
      ]
     },
     "execution_count": 16,
     "metadata": {},
     "output_type": "execute_result"
    }
   ],
   "source": [
    "list(range(5,25,2))# 5 den 25 e kadar 2 şer git demek."
   ]
  },
  {
   "cell_type": "code",
   "execution_count": 18,
   "id": "0ded68a3-c794-4923-be54-6ad6bd8fdbb3",
   "metadata": {},
   "outputs": [],
   "source": [
    "my_list=[20,30,40,50,60]"
   ]
  },
  {
   "cell_type": "code",
   "execution_count": 22,
   "id": "4ce33147-008f-45ab-9377-14c0c1a04ce5",
   "metadata": {},
   "outputs": [
    {
     "name": "stdout",
     "output_type": "stream",
     "text": [
      "20\n",
      "30\n",
      "40\n",
      "50\n",
      "60\n"
     ]
    }
   ],
   "source": [
    "for num in my_list:\n",
    "    print(num) #bize numaraları yazdırır\n",
    "# biz indexleri yazmak istiyoruz bunun iki yolu var"
   ]
  },
  {
   "cell_type": "code",
   "execution_count": 28,
   "id": "6ee58c66-231b-4358-8f48-79b598b65f4b",
   "metadata": {},
   "outputs": [
    {
     "name": "stdout",
     "output_type": "stream",
     "text": [
      "0\n",
      "1\n",
      "2\n",
      "3\n",
      "4\n"
     ]
    }
   ],
   "source": [
    "# burada len içinde kaç değer olduğunu gösterir.\n",
    "# range de 0 dan başladığı için (tıpkı indexler gibi) aslında index numaralarını sayı değeri olarak atar\n",
    "for ix in range(len(my_list)): \n",
    "    print(ix)"
   ]
  },
  {
   "cell_type": "code",
   "execution_count": 30,
   "id": "65a91681-09ee-4dc6-9a09-d6c0c31abb0d",
   "metadata": {},
   "outputs": [
    {
     "name": "stdout",
     "output_type": "stream",
     "text": [
      "20\n",
      "30\n",
      "40\n",
      "50\n",
      "60\n"
     ]
    }
   ],
   "source": [
    "for ix in range(len(my_list)):\n",
    "    print(my_list[ix]) #index üzerinden giderek de değerleri görebiliriz"
   ]
  },
  {
   "cell_type": "code",
   "execution_count": 32,
   "id": "614cb91a-6864-455f-8921-5bdbd84a65e1",
   "metadata": {},
   "outputs": [
    {
     "name": "stdout",
     "output_type": "stream",
     "text": [
      "0\n",
      "1\n",
      "2\n",
      "3\n",
      "4\n"
     ]
    }
   ],
   "source": [
    "for ix in my_list:\n",
    "    print(my_list.index(ix)) # bunda ise değerlerden indexi çağrırız."
   ]
  },
  {
   "cell_type": "code",
   "execution_count": 42,
   "id": "427c9833-a861-4450-bf22-a5fdf1760ff3",
   "metadata": {},
   "outputs": [
    {
     "data": {
      "text/plain": [
       "<enumerate at 0x13cec1da0>"
      ]
     },
     "execution_count": 42,
     "metadata": {},
     "output_type": "execute_result"
    }
   ],
   "source": [
    "#enumerate"
   ]
  },
  {
   "cell_type": "code",
   "execution_count": 36,
   "id": "176a4280-183b-40a2-a059-8355faa6a681",
   "metadata": {},
   "outputs": [
    {
     "name": "stdout",
     "output_type": "stream",
     "text": [
      "(0, 20)\n",
      "(1, 30)\n",
      "(2, 40)\n",
      "(3, 50)\n",
      "(4, 60)\n"
     ]
    }
   ],
   "source": [
    "#enumerate bizim listedeki indexleri ve değerleri görmemizi sağlar.\n",
    "for element in enumerate(my_list):\n",
    "    print(element)\n",
    "    #indexleri ve değerleri tuple olarak veriyor"
   ]
  },
  {
   "cell_type": "code",
   "execution_count": 38,
   "id": "eefe40ee-e3a4-4355-b43a-ef7f6d7f5459",
   "metadata": {},
   "outputs": [
    {
     "name": "stdout",
     "output_type": "stream",
     "text": [
      "20\n",
      "30\n",
      "40\n",
      "50\n",
      "60\n"
     ]
    }
   ],
   "source": [
    "for (ix,value) in enumerate(my_list):\n",
    "    print(value)"
   ]
  },
  {
   "cell_type": "code",
   "execution_count": 44,
   "id": "1c5c924f-1af6-4cc9-aeec-3f092da92696",
   "metadata": {},
   "outputs": [],
   "source": [
    "#random"
   ]
  },
  {
   "cell_type": "code",
   "execution_count": 46,
   "id": "55737e2f-facf-403b-938c-72e821c22f58",
   "metadata": {},
   "outputs": [
    {
     "data": {
      "text/plain": [
       "34"
      ]
     },
     "execution_count": 46,
     "metadata": {},
     "output_type": "execute_result"
    }
   ],
   "source": [
    "from random import randint \n",
    "#random diye kütüphane var bunun içinden randint isimli fonksiyonu import ediyoruz\n",
    "randint(0,100) #0 ile 100 arasında rastgele sayı veriyor bize (100 ve 0 dahil)"
   ]
  },
  {
   "cell_type": "code",
   "execution_count": 48,
   "id": "28a03370-1f83-46e5-933b-d76ba6f1a318",
   "metadata": {},
   "outputs": [],
   "source": [
    "from random import shuffle # shuffle karıştırmak"
   ]
  },
  {
   "cell_type": "code",
   "execution_count": 50,
   "id": "e27f6be5-bafe-4b3c-9d63-a8ce685b2365",
   "metadata": {},
   "outputs": [
    {
     "data": {
      "text/plain": [
       "[20, 30, 40, 50, 60]"
      ]
     },
     "execution_count": 50,
     "metadata": {},
     "output_type": "execute_result"
    }
   ],
   "source": [
    "my_list"
   ]
  },
  {
   "cell_type": "code",
   "execution_count": 52,
   "id": "48d17b9b-4aa7-48f9-9fc7-5227ab261318",
   "metadata": {},
   "outputs": [],
   "source": [
    "shuffle(my_list # rastgele karıştırır."
   ]
  },
  {
   "cell_type": "code",
   "execution_count": 54,
   "id": "5e9525f5-e2e5-4edc-9538-5ac888fa3c87",
   "metadata": {},
   "outputs": [
    {
     "data": {
      "text/plain": [
       "[50, 20, 30, 40, 60]"
      ]
     },
     "execution_count": 54,
     "metadata": {},
     "output_type": "execute_result"
    }
   ],
   "source": [
    "my_list"
   ]
  },
  {
   "cell_type": "code",
   "execution_count": 56,
   "id": "55a08835-bf4b-4faf-8251-f5af61fcb0f2",
   "metadata": {},
   "outputs": [],
   "source": [
    "my_list = [10,20,30,40,50,60,70]"
   ]
  },
  {
   "cell_type": "code",
   "execution_count": 58,
   "id": "d5070466-f2c9-4c59-80bc-6525bf44eb2a",
   "metadata": {},
   "outputs": [
    {
     "data": {
      "text/plain": [
       "5"
      ]
     },
     "execution_count": 58,
     "metadata": {},
     "output_type": "execute_result"
    }
   ],
   "source": [
    "randint(0,len(my_list))"
   ]
  },
  {
   "cell_type": "code",
   "execution_count": 78,
   "id": "5c51d737-ba26-433f-a04b-0a1c5eb51f24",
   "metadata": {},
   "outputs": [
    {
     "data": {
      "text/plain": [
       "7"
      ]
     },
     "execution_count": 78,
     "metadata": {},
     "output_type": "execute_result"
    }
   ],
   "source": [
    "len(my_list)"
   ]
  },
  {
   "cell_type": "code",
   "execution_count": 82,
   "id": "267bd4bc-96db-4f3c-9fc6-9200e5bff5aa",
   "metadata": {},
   "outputs": [
    {
     "data": {
      "text/plain": [
       "70"
      ]
     },
     "execution_count": 82,
     "metadata": {},
     "output_type": "execute_result"
    }
   ],
   "source": [
    "my_list[randint(0,len(my_list)-1)] # 7 len verdiğimiz için 7 yi de verebilir bize o da hata çıkarır\n",
    "# bu yüzden -1 yaparsak o hatadan kurtuluruz."
   ]
  },
  {
   "cell_type": "code",
   "execution_count": null,
   "id": "2751856d-46b5-4027-9c2e-fef24300952b",
   "metadata": {},
   "outputs": [],
   "source": []
  }
 ],
 "metadata": {
  "kernelspec": {
   "display_name": "Python [conda env:base] *",
   "language": "python",
   "name": "conda-base-py"
  },
  "language_info": {
   "codemirror_mode": {
    "name": "ipython",
    "version": 3
   },
   "file_extension": ".py",
   "mimetype": "text/x-python",
   "name": "python",
   "nbconvert_exporter": "python",
   "pygments_lexer": "ipython3",
   "version": "3.12.7"
  }
 },
 "nbformat": 4,
 "nbformat_minor": 5
}
