{
 "cells": [
  {
   "cell_type": "code",
   "execution_count": null,
   "id": "c25cccae-3ba0-49ef-ba52-b4e076e08935",
   "metadata": {},
   "outputs": [],
   "source": []
  }
 ],
 "metadata": {
  "kernelspec": {
   "display_name": "",
   "name": ""
  },
  "language_info": {
   "name": ""
  }
 },
 "nbformat": 4,
 "nbformat_minor": 5
}
