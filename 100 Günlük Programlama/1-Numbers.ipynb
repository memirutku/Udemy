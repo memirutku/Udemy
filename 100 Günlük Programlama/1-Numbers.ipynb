{
 "cells": [
  {
   "cell_type": "code",
   "execution_count": null,
   "id": "8a3aa98b-3489-48f4-8330-2432988ab1df",
   "metadata": {},
   "outputs": [],
   "source": [
    "# Numaralar - Numbers "
   ]
  },
  {
   "cell_type": "code",
   "execution_count": 2,
   "id": "ff6cfa6a-2a56-44b8-8ca3-581c1d9d1065",
   "metadata": {},
   "outputs": [
    {
     "data": {
      "text/plain": [
       "8"
      ]
     },
     "execution_count": 2,
     "metadata": {},
     "output_type": "execute_result"
    }
   ],
   "source": [
    "3+5"
   ]
  },
  {
   "cell_type": "code",
   "execution_count": 5,
   "id": "7a928f52-fc5b-4ad3-ba19-7330c4264e07",
   "metadata": {},
   "outputs": [
    {
     "data": {
      "text/plain": [
       "12"
      ]
     },
     "execution_count": 5,
     "metadata": {},
     "output_type": "execute_result"
    }
   ],
   "source": [
    "4*3"
   ]
  },
  {
   "cell_type": "code",
   "execution_count": 37,
   "id": "f50394fb-69f2-436d-9ce5-91400eeca1e3",
   "metadata": {},
   "outputs": [
    {
     "data": {
      "text/plain": [
       "128.57142857142858"
      ]
     },
     "execution_count": 37,
     "metadata": {},
     "output_type": "execute_result"
    }
   ],
   "source": [
    "900/7 # sonuç kesirli yani FLOAT dır"
   ]
  },
  {
   "cell_type": "code",
   "execution_count": 17,
   "id": "103f9134-f460-49d0-9d9f-af0ae830c279",
   "metadata": {},
   "outputs": [],
   "source": [
    "age = 20 "
   ]
  },
  {
   "cell_type": "code",
   "execution_count": 19,
   "id": "a2bd0fbc-4ee0-411f-b31d-f58d0237b1bd",
   "metadata": {},
   "outputs": [
    {
     "data": {
      "text/plain": [
       "10.0"
      ]
     },
     "execution_count": 19,
     "metadata": {},
     "output_type": "execute_result"
    }
   ],
   "source": [
    "age / 2 "
   ]
  },
  {
   "cell_type": "code",
   "execution_count": 21,
   "id": "f18b371b-1dc3-4d59-a7f5-5919acd7a8b4",
   "metadata": {},
   "outputs": [
    {
     "data": {
      "text/plain": [
       "type"
      ]
     },
     "execution_count": 21,
     "metadata": {},
     "output_type": "execute_result"
    }
   ],
   "source": [
    "type "
   ]
  },
  {
   "cell_type": "code",
   "execution_count": 23,
   "id": "6dc7ad0f-37a1-4a8a-ba3a-933ce9840d6c",
   "metadata": {},
   "outputs": [
    {
     "ename": "SyntaxError",
     "evalue": "invalid syntax (2186419568.py, line 1)",
     "output_type": "error",
     "traceback": [
      "\u001b[0;36m  Cell \u001b[0;32mIn[23], line 1\u001b[0;36m\u001b[0m\n\u001b[0;31m    type 3\u001b[0m\n\u001b[0m         ^\u001b[0m\n\u001b[0;31mSyntaxError\u001b[0m\u001b[0;31m:\u001b[0m invalid syntax\n"
     ]
    }
   ],
   "source": [
    "type 3 "
   ]
  },
  {
   "cell_type": "code",
   "execution_count": 25,
   "id": "3a34ff67-eba5-4939-977d-c37a3a8b3223",
   "metadata": {},
   "outputs": [
    {
     "data": {
      "text/plain": [
       "int"
      ]
     },
     "execution_count": 25,
     "metadata": {},
     "output_type": "execute_result"
    }
   ],
   "source": [
    "type (3)\n",
    "# içine girilen değerin tipinin ne olduğunu verir."
   ]
  },
  {
   "cell_type": "code",
   "execution_count": 27,
   "id": "4bbe02d5-baf4-4a54-9dea-ee1aa6f1a18a",
   "metadata": {},
   "outputs": [],
   "source": [
    "# camelCase\n",
    "# snake_case"
   ]
  },
  {
   "cell_type": "code",
   "execution_count": 29,
   "id": "bc95ac1a-a477-49bc-86b0-15e648a3335b",
   "metadata": {},
   "outputs": [],
   "source": [
    "# pythonda bölme işlemlerinin sonucu FLOAT dır. \n",
    "# Çarpma çıkarma toplama INT INT e işlem yapılırsa sonuç INT dir. "
   ]
  },
  {
   "cell_type": "code",
   "execution_count": 31,
   "id": "71e9cd7b-6d6d-4cb2-bc7e-c03da44c5e91",
   "metadata": {
    "scrolled": true
   },
   "outputs": [
    {
     "data": {
      "text/plain": [
       "32"
      ]
     },
     "execution_count": 31,
     "metadata": {},
     "output_type": "execute_result"
    }
   ],
   "source": [
    "2**5\n",
    "# 2 üzeri 5 demek "
   ]
  },
  {
   "cell_type": "code",
   "execution_count": 35,
   "id": "e7801a9c-29d7-4539-9de0-88a8b88c81c0",
   "metadata": {},
   "outputs": [
    {
     "data": {
      "text/plain": [
       "1"
      ]
     },
     "execution_count": 35,
     "metadata": {},
     "output_type": "execute_result"
    }
   ],
   "source": [
    "10 % 3 # 10 un 3 e bölümünden kalanını bulmak."
   ]
  }
 ],
 "metadata": {
  "kernelspec": {
   "display_name": "Python 3 (ipykernel)",
   "language": "python",
   "name": "python3"
  },
  "language_info": {
   "codemirror_mode": {
    "name": "ipython",
    "version": 3
   },
   "file_extension": ".py",
   "mimetype": "text/x-python",
   "name": "python",
   "nbconvert_exporter": "python",
   "pygments_lexer": "ipython3",
   "version": "3.12.7"
  }
 },
 "nbformat": 4,
 "nbformat_minor": 5
}
