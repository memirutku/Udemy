{
 "cells": [
  {
   "cell_type": "code",
   "execution_count": 2,
   "id": "c25cccae-3ba0-49ef-ba52-b4e076e08935",
   "metadata": {},
   "outputs": [
    {
     "data": {
      "text/plain": [
       "range(0, 50)"
      ]
     },
     "execution_count": 2,
     "metadata": {},
     "output_type": "execute_result"
    }
   ],
   "source": [
    "#range\n",
    "range(0,50) #0 dan başlayıp 50 ye kadar bir kapsam oluşturur.(50 dahil değil)."
   ]
  },
  {
   "cell_type": "code",
   "execution_count": 4,
   "id": "bc829807-8674-4239-9551-15a2cf90bf3a",
   "metadata": {},
   "outputs": [
    {
     "data": {
      "text/plain": [
       "[0, 1, 2, 3, 4, 5, 6, 7, 8, 9]"
      ]
     },
     "execution_count": 4,
     "metadata": {},
     "output_type": "execute_result"
    }
   ],
   "source": [
    "list(range(10)) #0 dan 10 a kadar olan değerleri listeye koyar (10 dahil değil)"
   ]
  },
  {
   "cell_type": "code",
   "execution_count": 12,
   "id": "92b2f770-ecfc-4012-bdf7-668401435763",
   "metadata": {},
   "outputs": [
    {
     "name": "stdout",
     "output_type": "stream",
     "text": [
      "0\n",
      "2\n",
      "4\n",
      "6\n",
      "8\n",
      "10\n",
      "12\n",
      "14\n",
      "16\n",
      "18\n"
     ]
    }
   ],
   "source": [
    "for num in list(range(10)):\n",
    "    print(num*2)"
   ]
  },
  {
   "cell_type": "code",
   "execution_count": 14,
   "id": "41d19044-cebd-4279-a9a2-7e9e0c56ca39",
   "metadata": {},
   "outputs": [
    {
     "name": "stdout",
     "output_type": "stream",
     "text": [
      "10\n",
      "12\n",
      "14\n",
      "16\n",
      "18\n"
     ]
    }
   ],
   "source": [
    "for num in list(range(5,10)): # 5 den başlayıp 10 a kadar olan değerleri listeye atar\n",
    "    print(num*2)"
   ]
  },
  {
   "cell_type": "code",
   "execution_count": 16,
   "id": "2e496f1d-e3ea-430f-85ac-513d95c13a36",
   "metadata": {},
   "outputs": [
    {
     "data": {
      "text/plain": [
       "[5, 7, 9, 11, 13, 15, 17, 19, 21, 23]"
      ]
     },
     "execution_count": 16,
     "metadata": {},
     "output_type": "execute_result"
    }
   ],
   "source": [
    "list(range(5,25,2))# 5 den 25 e kadar 2 şer git demek."
   ]
  },
  {
   "cell_type": "code",
   "execution_count": 18,
   "id": "0ded68a3-c794-4923-be54-6ad6bd8fdbb3",
   "metadata": {},
   "outputs": [],
   "source": [
    "my_list=[20,30,40,50,60]"
   ]
  },
  {
   "cell_type": "code",
   "execution_count": 22,
   "id": "4ce33147-008f-45ab-9377-14c0c1a04ce5",
   "metadata": {},
   "outputs": [
    {
     "name": "stdout",
     "output_type": "stream",
     "text": [
      "20\n",
      "30\n",
      "40\n",
      "50\n",
      "60\n"
     ]
    }
   ],
   "source": [
    "for num in my_list:\n",
    "    print(num) #bize numaraları yazdırır\n",
    "# biz indexleri yazmak istiyoruz bunun iki yolu var"
   ]
  },
  {
   "cell_type": "code",
   "execution_count": 28,
   "id": "6ee58c66-231b-4358-8f48-79b598b65f4b",
   "metadata": {},
   "outputs": [
    {
     "name": "stdout",
     "output_type": "stream",
     "text": [
      "0\n",
      "1\n",
      "2\n",
      "3\n",
      "4\n"
     ]
    }
   ],
   "source": [
    "# burada len içinde kaç değer olduğunu gösterir.\n",
    "# range de 0 dan başladığı için (tıpkı indexler gibi) aslında index numaralarını sayı değeri olarak atar\n",
    "for ix in range(len(my_list)): \n",
    "    print(ix)"
   ]
  },
  {
   "cell_type": "code",
   "execution_count": 30,
   "id": "65a91681-09ee-4dc6-9a09-d6c0c31abb0d",
   "metadata": {},
   "outputs": [
    {
     "name": "stdout",
     "output_type": "stream",
     "text": [
      "20\n",
      "30\n",
      "40\n",
      "50\n",
      "60\n"
     ]
    }
   ],
   "source": [
    "for ix in range(len(my_list)):\n",
    "    print(my_list[ix]) #index üzerinden giderek de değerleri görebiliriz"
   ]
  },
  {
   "cell_type": "code",
   "execution_count": 32,
   "id": "614cb91a-6864-455f-8921-5bdbd84a65e1",
   "metadata": {},
   "outputs": [
    {
     "name": "stdout",
     "output_type": "stream",
     "text": [
      "0\n",
      "1\n",
      "2\n",
      "3\n",
      "4\n"
     ]
    }
   ],
   "source": [
    "for ix in my_list:\n",
    "    print(my_list.index(ix)) # bunda ise değerlerden indexi çağrırız."
   ]
  },
  {
   "cell_type": "code",
   "execution_count": 42,
   "id": "427c9833-a861-4450-bf22-a5fdf1760ff3",
   "metadata": {},
   "outputs": [
    {
     "data": {
      "text/plain": [
       "<enumerate at 0x13cec1da0>"
      ]
     },
     "execution_count": 42,
     "metadata": {},
     "output_type": "execute_result"
    }
   ],
   "source": [
    "#enumerate"
   ]
  },
  {
   "cell_type": "code",
   "execution_count": 36,
   "id": "176a4280-183b-40a2-a059-8355faa6a681",
   "metadata": {},
   "outputs": [
    {
     "name": "stdout",
     "output_type": "stream",
     "text": [
      "(0, 20)\n",
      "(1, 30)\n",
      "(2, 40)\n",
      "(3, 50)\n",
      "(4, 60)\n"
     ]
    }
   ],
   "source": [
    "#enumerate bizim listedeki indexleri ve değerleri görmemizi sağlar.\n",
    "for element in enumerate(my_list):\n",
    "    print(element)\n",
    "    #indexleri ve değerleri tuple olarak veriyor"
   ]
  },
  {
   "cell_type": "code",
   "execution_count": 38,
   "id": "eefe40ee-e3a4-4355-b43a-ef7f6d7f5459",
   "metadata": {},
   "outputs": [
    {
     "name": "stdout",
     "output_type": "stream",
     "text": [
      "20\n",
      "30\n",
      "40\n",
      "50\n",
      "60\n"
     ]
    }
   ],
   "source": [
    "for (ix,value) in enumerate(my_list):\n",
    "    print(value)"
   ]
  },
  {
   "cell_type": "code",
   "execution_count": 44,
   "id": "1c5c924f-1af6-4cc9-aeec-3f092da92696",
   "metadata": {},
   "outputs": [],
   "source": [
    "#random"
   ]
  },
  {
   "cell_type": "code",
   "execution_count": 46,
   "id": "55737e2f-facf-403b-938c-72e821c22f58",
   "metadata": {},
   "outputs": [
    {
     "data": {
      "text/plain": [
       "34"
      ]
     },
     "execution_count": 46,
     "metadata": {},
     "output_type": "execute_result"
    }
   ],
   "source": [
    "from random import randint \n",
    "#random diye kütüphane var bunun içinden randint isimli fonksiyonu import ediyoruz\n",
    "randint(0,100) #0 ile 100 arasında rastgele sayı veriyor bize (100 ve 0 dahil)"
   ]
  },
  {
   "cell_type": "code",
   "execution_count": 48,
   "id": "28a03370-1f83-46e5-933b-d76ba6f1a318",
   "metadata": {},
   "outputs": [],
   "source": [
    "from random import shuffle # shuffle karıştırmak"
   ]
  },
  {
   "cell_type": "code",
   "execution_count": 50,
   "id": "e27f6be5-bafe-4b3c-9d63-a8ce685b2365",
   "metadata": {},
   "outputs": [
    {
     "data": {
      "text/plain": [
       "[20, 30, 40, 50, 60]"
      ]
     },
     "execution_count": 50,
     "metadata": {},
     "output_type": "execute_result"
    }
   ],
   "source": [
    "my_list"
   ]
  },
  {
   "cell_type": "code",
   "execution_count": 52,
   "id": "48d17b9b-4aa7-48f9-9fc7-5227ab261318",
   "metadata": {},
   "outputs": [],
   "source": [
    "shuffle(my_list # rastgele karıştırır."
   ]
  },
  {
   "cell_type": "code",
   "execution_count": 54,
   "id": "5e9525f5-e2e5-4edc-9538-5ac888fa3c87",
   "metadata": {},
   "outputs": [
    {
     "data": {
      "text/plain": [
       "[50, 20, 30, 40, 60]"
      ]
     },
     "execution_count": 54,
     "metadata": {},
     "output_type": "execute_result"
    }
   ],
   "source": [
    "my_list"
   ]
  },
  {
   "cell_type": "code",
   "execution_count": 56,
   "id": "55a08835-bf4b-4faf-8251-f5af61fcb0f2",
   "metadata": {},
   "outputs": [],
   "source": [
    "my_list = [10,20,30,40,50,60,70]"
   ]
  },
  {
   "cell_type": "code",
   "execution_count": 58,
   "id": "d5070466-f2c9-4c59-80bc-6525bf44eb2a",
   "metadata": {},
   "outputs": [
    {
     "data": {
      "text/plain": [
       "5"
      ]
     },
     "execution_count": 58,
     "metadata": {},
     "output_type": "execute_result"
    }
   ],
   "source": [
    "randint(0,len(my_list))"
   ]
  },
  {
   "cell_type": "code",
   "execution_count": 78,
   "id": "5c51d737-ba26-433f-a04b-0a1c5eb51f24",
   "metadata": {},
   "outputs": [
    {
     "data": {
      "text/plain": [
       "7"
      ]
     },
     "execution_count": 78,
     "metadata": {},
     "output_type": "execute_result"
    }
   ],
   "source": [
    "len(my_list)"
   ]
  },
  {
   "cell_type": "code",
   "execution_count": 82,
   "id": "267bd4bc-96db-4f3c-9fc6-9200e5bff5aa",
   "metadata": {},
   "outputs": [
    {
     "data": {
      "text/plain": [
       "70"
      ]
     },
     "execution_count": 82,
     "metadata": {},
     "output_type": "execute_result"
    }
   ],
   "source": [
    "my_list[randint(0,len(my_list)-1)] # 7 len verdiğimiz için 7 yi de verebilir bize o da hata çıkarır\n",
    "# bu yüzden -1 yaparsak o hatadan kurtuluruz."
   ]
  },
  {
   "cell_type": "code",
   "execution_count": 84,
   "id": "2751856d-46b5-4027-9c2e-fef24300952b",
   "metadata": {},
   "outputs": [],
   "source": [
    "#zip\n",
    "#birden fazla koleksiyonu ya da yapıyı birleştirmek sıkıştırmak"
   ]
  },
  {
   "cell_type": "code",
   "execution_count": 86,
   "id": "6de3fabe-d70e-419a-812e-666439a979ca",
   "metadata": {},
   "outputs": [],
   "source": [
    "food_list = [\"apple\",\"banana\",\"melon\"]"
   ]
  },
  {
   "cell_type": "code",
   "execution_count": 88,
   "id": "94daadb5-4c56-4be0-9e17-a8c3dda28390",
   "metadata": {},
   "outputs": [],
   "source": [
    "calories_list = [100,150,200]"
   ]
  },
  {
   "cell_type": "code",
   "execution_count": 90,
   "id": "343ca7b0-9ef9-4151-a1e7-164c2ef6b172",
   "metadata": {},
   "outputs": [],
   "source": [
    "day_list = [\"monday\",\"tuesday\",\"wednesday\"]"
   ]
  },
  {
   "cell_type": "code",
   "execution_count": 92,
   "id": "26bce235-357d-4ec3-acc1-334517e7a92d",
   "metadata": {},
   "outputs": [],
   "source": [
    "zipped_list = zip(food_list,calories_list,day_list)"
   ]
  },
  {
   "cell_type": "code",
   "execution_count": 94,
   "id": "be63e743-cd0f-4226-82f2-120e09d0c27b",
   "metadata": {},
   "outputs": [
    {
     "data": {
      "text/plain": [
       "<zip at 0x13d267ec0>"
      ]
     },
     "execution_count": 94,
     "metadata": {},
     "output_type": "execute_result"
    }
   ],
   "source": [
    "zipped_list"
   ]
  },
  {
   "cell_type": "code",
   "execution_count": 96,
   "id": "481202ad-fac9-4ad3-a972-18ca100894aa",
   "metadata": {},
   "outputs": [
    {
     "data": {
      "text/plain": [
       "zip"
      ]
     },
     "execution_count": 96,
     "metadata": {},
     "output_type": "execute_result"
    }
   ],
   "source": [
    "type(zipped_list)"
   ]
  },
  {
   "cell_type": "code",
   "execution_count": 98,
   "id": "35e1cfd1-b7e5-4263-86a6-e73c0a4dc243",
   "metadata": {},
   "outputs": [],
   "source": [
    "#gerçekten liste olarak görmek istiyorsak list() ile yazmalıyız\n",
    "zipped_list = list(zip(food_list,calories_list,day_list))\n"
   ]
  },
  {
   "cell_type": "code",
   "execution_count": 100,
   "id": "164c1e7f-93c0-4e12-965e-1fa6f1aa4350",
   "metadata": {},
   "outputs": [
    {
     "data": {
      "text/plain": [
       "[('apple', 100, 'monday'),\n",
       " ('banana', 150, 'tuesday'),\n",
       " ('melon', 200, 'wednesday')]"
      ]
     },
     "execution_count": 100,
     "metadata": {},
     "output_type": "execute_result"
    }
   ],
   "source": [
    "zipped_list\n",
    "#list içinde tuples olarak verir bize"
   ]
  },
  {
   "cell_type": "code",
   "execution_count": 104,
   "id": "900fc9d2-e5ad-4179-9ad4-a508978d8c17",
   "metadata": {},
   "outputs": [],
   "source": [
    "new_list = []\n",
    "my_string = \"metallica\"\n",
    "for element in my_string:\n",
    "    new_list.append(element)"
   ]
  },
  {
   "cell_type": "code",
   "execution_count": 106,
   "id": "546f1e77-8788-46eb-b9f5-c29de15e1645",
   "metadata": {},
   "outputs": [
    {
     "data": {
      "text/plain": [
       "['m', 'e', 't', 'a', 'l', 'l', 'i', 'c', 'a']"
      ]
     },
     "execution_count": 106,
     "metadata": {},
     "output_type": "execute_result"
    }
   ],
   "source": [
    "new_list"
   ]
  },
  {
   "cell_type": "code",
   "execution_count": 108,
   "id": "caa906ba-ea22-4ca6-92ee-359dca274e04",
   "metadata": {},
   "outputs": [],
   "source": [
    "#list comprehension (hemen üste yaptığımız örneğin daha basit hali)"
   ]
  },
  {
   "cell_type": "code",
   "execution_count": 110,
   "id": "6cceb812-4451-49c1-a2b8-ab2fdc90587d",
   "metadata": {},
   "outputs": [],
   "source": [
    "new_list = [element for element in my_string] \n",
    "# liste yapar gibi yapıp parantez içine listeye ekleyeceğimiz elemanların döngüsünü ekliyoruz\n",
    "# iki nokta ve tab kısmı yok.\n",
    "# new_list = [element (burası 1. parça) for element in my_string  (burası 2. parça)] \n",
    "# döngüden elementi alıp 1. parçadaki elemente koyuyor"
   ]
  },
  {
   "cell_type": "code",
   "execution_count": 112,
   "id": "b626fba6-5748-47e7-b664-f87cc7d73f80",
   "metadata": {},
   "outputs": [
    {
     "data": {
      "text/plain": [
       "['m', 'e', 't', 'a', 'l', 'l', 'i', 'c', 'a']"
      ]
     },
     "execution_count": 112,
     "metadata": {},
     "output_type": "execute_result"
    }
   ],
   "source": [
    "new_list"
   ]
  },
  {
   "cell_type": "code",
   "execution_count": 114,
   "id": "7b51baba-ea51-4ca8-8c9d-ec8c6079760d",
   "metadata": {},
   "outputs": [],
   "source": [
    "number_list = [10,20,30,40,50,60]"
   ]
  },
  {
   "cell_type": "code",
   "execution_count": 116,
   "id": "3bd5d278-de1e-4b88-8675-9c1637839f7d",
   "metadata": {},
   "outputs": [
    {
     "data": {
      "text/plain": [
       "[10, 20, 30, 40, 50, 60]"
      ]
     },
     "execution_count": 116,
     "metadata": {},
     "output_type": "execute_result"
    }
   ],
   "source": [
    "number_list"
   ]
  },
  {
   "cell_type": "code",
   "execution_count": 122,
   "id": "13e7a32a-7f6e-4178-82f0-6b0f7b4fccc8",
   "metadata": {},
   "outputs": [],
   "source": [
    "new_number_list = [number/2 for number in number_list]"
   ]
  },
  {
   "cell_type": "code",
   "execution_count": 124,
   "id": "e26ba16e-8b88-4a5e-a528-9b9ce58911b0",
   "metadata": {},
   "outputs": [
    {
     "data": {
      "text/plain": [
       "[5.0, 10.0, 15.0, 20.0, 25.0, 30.0]"
      ]
     },
     "execution_count": 124,
     "metadata": {},
     "output_type": "execute_result"
    }
   ],
   "source": [
    "new_number_list"
   ]
  },
  {
   "cell_type": "code",
   "execution_count": null,
   "id": "a8d45844-9ee3-4cc0-b69a-362cf64c1692",
   "metadata": {},
   "outputs": [],
   "source": []
  }
 ],
 "metadata": {
  "kernelspec": {
   "display_name": "Python [conda env:base] *",
   "language": "python",
   "name": "conda-base-py"
  },
  "language_info": {
   "codemirror_mode": {
    "name": "ipython",
    "version": 3
   },
   "file_extension": ".py",
   "mimetype": "text/x-python",
   "name": "python",
   "nbconvert_exporter": "python",
   "pygments_lexer": "ipython3",
   "version": "3.12.7"
  }
 },
 "nbformat": 4,
 "nbformat_minor": 5
}
