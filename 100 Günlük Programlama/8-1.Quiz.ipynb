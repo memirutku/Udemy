{
 "cells": [
  {
   "cell_type": "code",
   "execution_count": null,
   "id": "6e6bf993-091c-4b57-a3a9-e4c60d0ebfc9",
   "metadata": {},
   "outputs": [],
   "source": []
  }
 ],
 "metadata": {
  "kernelspec": {
   "display_name": "",
   "name": ""
  },
  "language_info": {
   "name": ""
  }
 },
 "nbformat": 4,
 "nbformat_minor": 5
}
