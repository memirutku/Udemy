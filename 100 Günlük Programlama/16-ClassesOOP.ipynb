{
 "cells": [
  {
   "cell_type": "code",
   "execution_count": 2,
   "id": "39709fb2-d3f5-49d9-8989-bb7add1f3474",
   "metadata": {},
   "outputs": [],
   "source": [
    "firstName=\"Mustafa\""
   ]
  },
  {
   "cell_type": "code",
   "execution_count": 4,
   "id": "a3e67d98-dd42-4a58-a182-3301e3400cbd",
   "metadata": {},
   "outputs": [],
   "source": [
    "firstAge = 24"
   ]
  },
  {
   "cell_type": "code",
   "execution_count": 6,
   "id": "9ea84a63-96f4-44d6-9d24-a69b5bf7e6a7",
   "metadata": {},
   "outputs": [],
   "source": [
    "firstGender = \"Male\""
   ]
  },
  {
   "cell_type": "code",
   "execution_count": 190,
   "id": "48eb164a-4b38-40bb-bf62-4a11f59ecaa4",
   "metadata": {},
   "outputs": [],
   "source": [
    "#Sınıflar üsteki gibi tek tek dağınık değişken tutmak yerine\n",
    "#Sınıflar planlı yapı içinde tutar.\n",
    "#Sınıflar genellikle ilk harfi büyük harfle tanımlanır.\n",
    "#Bu sınıftan farklı farklı objeler oluşturacağız.\n",
    "class Person():\n",
    "    \n",
    "    #property\n",
    "    #name = \"\" # bazı programlama dillerinde bunları yazmak zorunlu\n",
    "    #age=0 # python da bunları yazmak zorunlı değil\n",
    "    #gender = \"\" # init de yazdıklarımızdan anlayabiliyor.\n",
    "    #job =\"\" #zorunlu olmaz init e yazmadık çünkü değişikilk de yapabiliriz.\n",
    "#zorunlu tutmak istediklerimizi init e yazarken zorunlu tutmak istemediklerimizi buraya yazabiliriz.\n",
    "#içine değer atarsak da default bir değer atamış oluruz.\n",
    "    job =\"Student\" #job değeri girilmeden oluşturulan herkes student olur.\n",
    "\n",
    "    #kişi bilgilerini zorunlu yapabilmek için özel bir fonksiyon yazabiliriz.\n",
    "#sınıf içindeki fonksiyonlara method deniyor.\n",
    "#özel fonksiyonlar \"__\" ile başlayacak şekilde yazılır.\n",
    "    # initializer method(ilk oluşturmak değerini atamak)\n",
    "    #Herbir obje oluşturulurken bu fonksiyon çalışacak.\n",
    "    #sınıf içinde bir method tanımlıyorsak self keywordunu tanımlamamız lazım\n",
    "    #tanımladığımız yere zorunlu girmesini istediğimiz şeyleri keyword olarak tanımlayabiliriz.\n",
    "    #bir sınıftan bir obje oluşturulduğunda çağırılacak ilk methodlardan __init__\n",
    "    \n",
    "    #def __init__(self):\n",
    "    #    print(\"init executed\")\n",
    "\n",
    "    #bir parametre alıyorsak buraya yazıyoruz. buradan gelen verileri de içindeki özelliklere eşitliyoruz.\n",
    "    #kafa karışıklığı olmasın diye de sınıfa referans veren keyword vardır.\n",
    "    # bu python da self dir orn java da this. gibi gibi\n",
    "    \n",
    "    def __init__(self,name,age,gender):\n",
    "        self.name = name # sağ taraftaki keyword olan name age gender\n",
    "        self.age = age # sol taraftaki asıl self. lar ise yukarıda tanımlı olanlar.\n",
    "        self.gender = gender\n",
    "        print(\"init executed\")\n",
    "# önlerine \"self.\" koymak üsteki name age ve gendere referans vereceğini ve aynı zamanda bu sınıftan oluşturulan objelerin bu özelliğini değiştireceğini söylüyor\n",
    "\n",
    "#sadece init de değil başka bir method tanımlayınca da hiç bir parametre almayacak olsa bile\n",
    "#self keywordunu kullanırız.\n",
    "    #method\n",
    "    def test (self):\n",
    "        print (\"test\")\n",
    "    # ulaşmak istesek de ulaşmak istemesek de self koymak zorunludur.\n",
    "    def printName(self):\n",
    "        print(self.name) # print(name) yaparsak burada böyle bir şey tanımlı değil deyip hata verecek\n",
    "\n"
   ]
  },
  {
   "cell_type": "code",
   "execution_count": 192,
   "id": "8d49e6f1-7d11-481d-a2b2-e158ccff7528",
   "metadata": {},
   "outputs": [
    {
     "name": "stdout",
     "output_type": "stream",
     "text": [
      "init executed\n"
     ]
    }
   ],
   "source": [
    "#emir = Person() #Böyle çalıştırısak hata alırız artık bizden input isteyecek\n",
    "emir = Person (\"mustafa emir\",24,\"Male\")"
   ]
  },
  {
   "cell_type": "code",
   "execution_count": 194,
   "id": "934280ff-da8d-4a52-b49f-00960af21b99",
   "metadata": {},
   "outputs": [
    {
     "data": {
      "text/plain": [
       "__main__.Person"
      ]
     },
     "execution_count": 194,
     "metadata": {},
     "output_type": "execute_result"
    }
   ],
   "source": [
    "type(emir)"
   ]
  },
  {
   "cell_type": "code",
   "execution_count": 196,
   "id": "7657c59b-01b1-4b9b-b0f9-20e71f490dc5",
   "metadata": {},
   "outputs": [],
   "source": [
    "#mustafa = Person()"
   ]
  },
  {
   "cell_type": "code",
   "execution_count": 198,
   "id": "a9ac722d-7191-4f48-a7cc-d39730cd5cbc",
   "metadata": {},
   "outputs": [
    {
     "data": {
      "text/plain": [
       "__main__.Person"
      ]
     },
     "execution_count": 198,
     "metadata": {},
     "output_type": "execute_result"
    }
   ],
   "source": [
    "type(mustafa)"
   ]
  },
  {
   "cell_type": "code",
   "execution_count": 200,
   "id": "e6c12e06-3e7f-4ffd-b0d0-4252e85b3c11",
   "metadata": {},
   "outputs": [],
   "source": [
    "#tab e bastığımızda Person sınıfının içindekiler geliyor.\n",
    "emir.age = 35"
   ]
  },
  {
   "cell_type": "code",
   "execution_count": 202,
   "id": "ab22d94e-9363-4c2f-8390-11362a293b70",
   "metadata": {},
   "outputs": [
    {
     "data": {
      "text/plain": [
       "35"
      ]
     },
     "execution_count": 202,
     "metadata": {},
     "output_type": "execute_result"
    }
   ],
   "source": [
    "emir.age"
   ]
  },
  {
   "cell_type": "code",
   "execution_count": 204,
   "id": "977b6feb-0440-4738-85c8-a95e61be7d78",
   "metadata": {},
   "outputs": [],
   "source": [
    "##emir.name = \"Mustafa Emir Utku\""
   ]
  },
  {
   "cell_type": "code",
   "execution_count": 206,
   "id": "3a99b3f9-6011-42e8-87b1-170377d21d5b",
   "metadata": {},
   "outputs": [
    {
     "data": {
      "text/plain": [
       "'mustafa emir'"
      ]
     },
     "execution_count": 206,
     "metadata": {},
     "output_type": "execute_result"
    }
   ],
   "source": [
    "emir.name"
   ]
  },
  {
   "cell_type": "code",
   "execution_count": 208,
   "id": "8f49cecc-1990-47ee-b8c3-a0caf44702ba",
   "metadata": {},
   "outputs": [
    {
     "data": {
      "text/plain": [
       "35"
      ]
     },
     "execution_count": 208,
     "metadata": {},
     "output_type": "execute_result"
    }
   ],
   "source": [
    "emir.age"
   ]
  },
  {
   "cell_type": "code",
   "execution_count": 210,
   "id": "4d4b1753-4fb5-4891-98d7-f525da93a4d2",
   "metadata": {},
   "outputs": [
    {
     "data": {
      "text/plain": [
       "'Male'"
      ]
     },
     "execution_count": 210,
     "metadata": {},
     "output_type": "execute_result"
    }
   ],
   "source": [
    "emir.gender"
   ]
  },
  {
   "cell_type": "code",
   "execution_count": 212,
   "id": "365024e5-a7ea-43cf-a3f6-a42942e21cc3",
   "metadata": {},
   "outputs": [],
   "source": [
    "#emir = Person (\"mustafa emir\",24,\"Male\") bu şekilde yapmamıza rağmen üst kısımlarda böyle dönmedi\n",
    "#burada ki self sınıfın kendisine referans veriyor. Karmaşa olmasın diye oluşturulmuş\n",
    "#önlerine \"self.\" koyunca düzelir.\n"
   ]
  },
  {
   "cell_type": "code",
   "execution_count": 214,
   "id": "4a7426e0-7d73-474f-b463-98c72756b510",
   "metadata": {},
   "outputs": [
    {
     "name": "stdout",
     "output_type": "stream",
     "text": [
      "mustafa emir\n"
     ]
    }
   ],
   "source": [
    "emir.printName()"
   ]
  },
  {
   "cell_type": "code",
   "execution_count": 216,
   "id": "bedb23ad-3811-4640-9864-7f7929692cb7",
   "metadata": {},
   "outputs": [],
   "source": [
    "#emir.job=\"Developer\" değer atamak istiyorsak direkt eşitlik yapabiliyoruz."
   ]
  },
  {
   "cell_type": "code",
   "execution_count": 218,
   "id": "83f20d0f-7587-429d-9ccc-e68e0801f118",
   "metadata": {},
   "outputs": [
    {
     "data": {
      "text/plain": [
       "'Student'"
      ]
     },
     "execution_count": 218,
     "metadata": {},
     "output_type": "execute_result"
    }
   ],
   "source": [
    "emir.job"
   ]
  },
  {
   "cell_type": "code",
   "execution_count": 220,
   "id": "c9786da2-f4e1-43be-b1cb-2abe1c3b6dca",
   "metadata": {},
   "outputs": [],
   "source": [
    "emir.job=\"Developer\" "
   ]
  },
  {
   "cell_type": "code",
   "execution_count": 222,
   "id": "1af22234-f9b8-4a0b-8a76-a9c4400a5614",
   "metadata": {},
   "outputs": [
    {
     "data": {
      "text/plain": [
       "'Developer'"
      ]
     },
     "execution_count": 222,
     "metadata": {},
     "output_type": "execute_result"
    }
   ],
   "source": [
    "emir.job"
   ]
  },
  {
   "cell_type": "code",
   "execution_count": 2,
   "id": "e908fc51-9b51-4bdf-8ebc-fec288b97dcb",
   "metadata": {},
   "outputs": [],
   "source": [
    "#######"
   ]
  },
  {
   "cell_type": "code",
   "execution_count": 40,
   "id": "4ba54f7e-d5e5-46e7-931d-6a66e519b6cf",
   "metadata": {},
   "outputs": [],
   "source": [
    "class Dog():\n",
    "    year = 7\n",
    "    def __init__(self,age):\n",
    "        self.age = age\n",
    "    def humanAge(self):\n",
    "        return self.age * Dog.year   #self.year yerine Dog.year şeklinde de yazabiliriz\n",
    "                                    # bu sayıyı sabit olarak koymak istemez isek direkt sınıfın içine koyup değiştiririz.(ki öyle daha mantıklı)\n",
    "                                    #yerine koyarken \"self.\" ları unutma "
   ]
  },
  {
   "cell_type": "code",
   "execution_count": 42,
   "id": "0bda3f0e-7af3-4a52-bf10-b4fbe7922167",
   "metadata": {},
   "outputs": [],
   "source": [
    "myDog= Dog(3)"
   ]
  },
  {
   "cell_type": "code",
   "execution_count": 12,
   "id": "68d1402b-f4ff-497f-aea9-0b524b6bae26",
   "metadata": {},
   "outputs": [],
   "source": [
    "# köpeğin insan yaşını hesaplamamız 2 farklı şekilde olabilir.\n",
    "# a. class a yeni bir method yazmak\n",
    "#"
   ]
  },
  {
   "cell_type": "code",
   "execution_count": 46,
   "id": "9c0fec64-2be9-4c1a-b45e-4187600817be",
   "metadata": {},
   "outputs": [
    {
     "data": {
      "text/plain": [
       "3"
      ]
     },
     "execution_count": 46,
     "metadata": {},
     "output_type": "execute_result"
    }
   ],
   "source": [
    "myDog.age"
   ]
  },
  {
   "cell_type": "code",
   "execution_count": 48,
   "id": "6c50af63-d028-4192-a708-5a59cffbf26a",
   "metadata": {},
   "outputs": [
    {
     "data": {
      "text/plain": [
       "21"
      ]
     },
     "execution_count": 48,
     "metadata": {},
     "output_type": "execute_result"
    }
   ],
   "source": [
    "myDog.humanAge()"
   ]
  },
  {
   "cell_type": "code",
   "execution_count": null,
   "id": "8fa8cc03-fe1f-480e-b2ed-7aa175bd9cb9",
   "metadata": {},
   "outputs": [],
   "source": []
  }
 ],
 "metadata": {
  "kernelspec": {
   "display_name": "Python [conda env:base] *",
   "language": "python",
   "name": "conda-base-py"
  },
  "language_info": {
   "codemirror_mode": {
    "name": "ipython",
    "version": 3
   },
   "file_extension": ".py",
   "mimetype": "text/x-python",
   "name": "python",
   "nbconvert_exporter": "python",
   "pygments_lexer": "ipython3",
   "version": "3.12.7"
  }
 },
 "nbformat": 4,
 "nbformat_minor": 5
}
