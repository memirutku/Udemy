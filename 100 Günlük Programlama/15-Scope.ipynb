{
 "cells": [
  {
   "cell_type": "code",
   "execution_count": 2,
   "id": "19305be6-9820-4e34-9f45-834255cbc393",
   "metadata": {},
   "outputs": [],
   "source": [
    "x=20\n",
    "def multiply(num):\n",
    "    x = 5\n",
    "    return num * x"
   ]
  },
  {
   "cell_type": "code",
   "execution_count": 4,
   "id": "329f4c05-e102-438a-9413-86d519f68448",
   "metadata": {},
   "outputs": [
    {
     "data": {
      "text/plain": [
       "50"
      ]
     },
     "execution_count": 4,
     "metadata": {},
     "output_type": "execute_result"
    }
   ],
   "source": [
    "multiply(10)"
   ]
  },
  {
   "cell_type": "code",
   "execution_count": 6,
   "id": "6539dbec-f665-427d-986e-bc5ac5893ec7",
   "metadata": {},
   "outputs": [
    {
     "data": {
      "text/plain": [
       "20"
      ]
     },
     "execution_count": 6,
     "metadata": {},
     "output_type": "execute_result"
    }
   ],
   "source": [
    "x"
   ]
  },
  {
   "cell_type": "code",
   "execution_count": 8,
   "id": "a549580c-6191-4e83-93a7-bbe7189d2606",
   "metadata": {},
   "outputs": [],
   "source": [
    "# fonksiyonu çağırırken x=5 olurken \n",
    "# neden daha sonra x=20 oldu\n",
    "#bunun nedeni kapsamdan dolayı\n",
    "# çünkü dışarıdaki x ile içeride ki x farklı aslında\n",
    "# herşeyin bir kapsamı var (scope)\n",
    "# ikinci x fonksiyonun içinde olduğu için aslında o x oraya ait \n",
    "# ilk x ise fonksiyondan ayrı olduğu için x çağırdığımızda fonksiyonu çağırmadığımız için x = 20 oluyor"
   ]
  },
  {
   "cell_type": "code",
   "execution_count": 10,
   "id": "b394a6ce-ad0e-4890-ba35-dcf4a5b9a29d",
   "metadata": {},
   "outputs": [],
   "source": [
    "x=20\n",
    "def multiply(num):\n",
    "    x = 5\n",
    "    return num * x\n",
    "x=10"
   ]
  },
  {
   "cell_type": "code",
   "execution_count": 12,
   "id": "a150e235-ee0a-4373-8cb4-dd574d55bc23",
   "metadata": {},
   "outputs": [
    {
     "data": {
      "text/plain": [
       "10"
      ]
     },
     "execution_count": 12,
     "metadata": {},
     "output_type": "execute_result"
    }
   ],
   "source": [
    "x\n",
    "# 3.x artık fonksiyonun dışında olduğu için 20 nin yerine geçer değeri ve 10 olur "
   ]
  },
  {
   "cell_type": "code",
   "execution_count": 14,
   "id": "16dc2338-ce56-4a75-a86a-43b113692c73",
   "metadata": {},
   "outputs": [
    {
     "data": {
      "text/plain": [
       "25"
      ]
     },
     "execution_count": 14,
     "metadata": {},
     "output_type": "execute_result"
    }
   ],
   "source": [
    "multiply(5)"
   ]
  },
  {
   "cell_type": "code",
   "execution_count": 16,
   "id": "0625f143-a5ed-4adf-ac63-42cadb69ccdf",
   "metadata": {},
   "outputs": [],
   "source": [
    "x=20\n",
    "def multiply(num):\n",
    "    return num * x"
   ]
  },
  {
   "cell_type": "code",
   "execution_count": 18,
   "id": "5a2506af-92a8-4514-8e41-e6e6fa3b5a06",
   "metadata": {},
   "outputs": [
    {
     "data": {
      "text/plain": [
       "200"
      ]
     },
     "execution_count": 18,
     "metadata": {},
     "output_type": "execute_result"
    }
   ],
   "source": [
    "multiply(10)"
   ]
  },
  {
   "cell_type": "markdown",
   "id": "86c72149-4950-4998-902f-70e0a24c527b",
   "metadata": {},
   "source": [
    "# LEGB L -> Local, E -> Enclosing, G -> Global, B -> Built-In"
   ]
  },
  {
   "cell_type": "code",
   "execution_count": 26,
   "id": "4ad904fc-679a-4fa1-8196-cc51aa2f2761",
   "metadata": {},
   "outputs": [],
   "source": [
    "# pythonun bu konudaki karar verme mekanizması LEGB dir\n",
    "#Hep"
   ]
  },
  {
   "cell_type": "code",
   "execution_count": 50,
   "id": "54f1aeb4-e615-4ee3-944b-695a42ac5e45",
   "metadata": {},
   "outputs": [],
   "source": [
    "#Hepsi kendi kapsamında çalışıyor aslında\n",
    "\n",
    "#burası Global\n",
    "myString=\"Mustafa\"\n",
    "\n",
    "def myFunction():\n",
    "    \n",
    "    #Burası Enclosing\n",
    "    myString = \"Mustafa2\"\n",
    "    print(myString)\n",
    "    \n",
    "    def myFunction2():\n",
    "        \n",
    "        #Burası Local\n",
    "        myString= \"Mustafa3\"\n",
    "        print(myString)\n",
    "    \n",
    "    myFunction2()   # myFunctionu çağırdığımızda myFunction2() yi de çağırsın diye böyle yapıyoruz.\n",
    "\n",
    "#aslında durum şöyle hangi bölgeyi çalıştıracak isek ilk oraya bakıyor \n",
    "#eğer o bölgede yoksa bir üst bölgeye gidiyor asla alt bölgeye değil\n",
    "#bulamaz ise de hata veriyor.\n",
    "#Built-in ise globelde yok ise başka bir yerde daha tanımlımı diye bakıyor"
   ]
  },
  {
   "cell_type": "code",
   "execution_count": 30,
   "id": "18805700-3307-497f-ae3d-74b6f72c6a5e",
   "metadata": {},
   "outputs": [
    {
     "data": {
      "text/plain": [
       "'Mustafa'"
      ]
     },
     "execution_count": 30,
     "metadata": {},
     "output_type": "execute_result"
    }
   ],
   "source": [
    "myString"
   ]
  },
  {
   "cell_type": "code",
   "execution_count": 44,
   "id": "34911cf0-6468-40f0-be9f-88f282e20fd9",
   "metadata": {},
   "outputs": [
    {
     "name": "stdout",
     "output_type": "stream",
     "text": [
      "Mustafa2\n",
      "Mustafa3\n"
     ]
    }
   ],
   "source": [
    "myFunction()"
   ]
  },
  {
   "cell_type": "code",
   "execution_count": 34,
   "id": "1480ae6c-ff0f-420f-ae10-d3acb3ebbbab",
   "metadata": {},
   "outputs": [
    {
     "data": {
      "text/plain": [
       "'Mustafa'"
      ]
     },
     "execution_count": 34,
     "metadata": {},
     "output_type": "execute_result"
    }
   ],
   "source": [
    "myString"
   ]
  },
  {
   "cell_type": "code",
   "execution_count": null,
   "id": "49f16d13-dbca-4591-bd1f-ba49684d3f8e",
   "metadata": {},
   "outputs": [],
   "source": []
  }
 ],
 "metadata": {
  "kernelspec": {
   "display_name": "Python [conda env:base] *",
   "language": "python",
   "name": "conda-base-py"
  },
  "language_info": {
   "codemirror_mode": {
    "name": "ipython",
    "version": 3
   },
   "file_extension": ".py",
   "mimetype": "text/x-python",
   "name": "python",
   "nbconvert_exporter": "python",
   "pygments_lexer": "ipython3",
   "version": "3.12.7"
  }
 },
 "nbformat": 4,
 "nbformat_minor": 5
}
