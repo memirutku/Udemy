{
 "cells": [
  {
   "cell_type": "code",
   "execution_count": 2,
   "id": "171425a3-efb4-4523-b3c9-386dbc985089",
   "metadata": {},
   "outputs": [],
   "source": [
    "# yeni gelen bir özellik python 3.10 ile"
   ]
  },
  {
   "cell_type": "code",
   "execution_count": 4,
   "id": "cd1efc93-5dfc-49d3-a0ed-eea0fcce2b12",
   "metadata": {},
   "outputs": [],
   "source": [
    "name : str = \"Mustafa\" #Hiçbir etkisi yok sadece sonradan kod okumak için etkili"
   ]
  },
  {
   "cell_type": "code",
   "execution_count": 6,
   "id": "eb2a1b97-c0ef-49a4-8ad4-3b9fe8928c44",
   "metadata": {},
   "outputs": [
    {
     "data": {
      "text/plain": [
       "str"
      ]
     },
     "execution_count": 6,
     "metadata": {},
     "output_type": "execute_result"
    }
   ],
   "source": [
    "type(name)"
   ]
  },
  {
   "cell_type": "code",
   "execution_count": 12,
   "id": "d803ce96-b687-4475-9062-270f57ddee3f",
   "metadata": {},
   "outputs": [],
   "source": [
    "surname : str = 20 # farkettiysen değiştirmedi nedeni ise komut satırı gibi etkisi yok sadece belirtiyor"
   ]
  },
  {
   "cell_type": "code",
   "execution_count": 14,
   "id": "bb5b57f9-0fe4-4dcd-985c-86ed7758384e",
   "metadata": {},
   "outputs": [
    {
     "data": {
      "text/plain": [
       "int"
      ]
     },
     "execution_count": 14,
     "metadata": {},
     "output_type": "execute_result"
    }
   ],
   "source": [
    "type(surname)"
   ]
  },
  {
   "cell_type": "code",
   "execution_count": 16,
   "id": "3475828f-d6ff-4fca-acd6-a17925bd7e2c",
   "metadata": {},
   "outputs": [],
   "source": [
    "name : str = \"Mustafa\"\n",
    "age : int = 30\n",
    "is_student : bool = False"
   ]
  },
  {
   "cell_type": "code",
   "execution_count": 22,
   "id": "772962f2-3eed-4a85-bd08-8332986a1465",
   "metadata": {},
   "outputs": [],
   "source": [
    "def add_numbers(a : int ,b : int) -> int:  #sakın a=3,b=3 ile karıştırma \n",
    "    # -> int geriye int değeri döndüreceğini söyler \n",
    "    return a + b \n",
    "#fonksiyonlarda kullanmak daha mantıklı/verimli oluyor"
   ]
  },
  {
   "cell_type": "code",
   "execution_count": 24,
   "id": "d05ce18f-e517-4a9f-a06c-c7b0a8bdc859",
   "metadata": {},
   "outputs": [
    {
     "data": {
      "text/plain": [
       "'ab'"
      ]
     },
     "execution_count": 24,
     "metadata": {},
     "output_type": "execute_result"
    }
   ],
   "source": [
    "add_numbers(\"a\",\"b\") # farkettiysen  o kadar int yazdık etki etmedi çünkü sadece sonradan okuyunca bu değerler girilecek gibi"
   ]
  },
  {
   "cell_type": "code",
   "execution_count": 28,
   "id": "9077a377-3808-4b18-acc4-160d62b056ff",
   "metadata": {},
   "outputs": [
    {
     "data": {
      "text/plain": [
       "5"
      ]
     },
     "execution_count": 28,
     "metadata": {},
     "output_type": "execute_result"
    }
   ],
   "source": [
    "add_numbers(2,3)"
   ]
  },
  {
   "cell_type": "code",
   "execution_count": 34,
   "id": "b7a156c9-2035-4d98-8955-c85347b2ab5f",
   "metadata": {},
   "outputs": [],
   "source": [
    "#python 3.10\n",
    "def process_value(value: int| str) -> str: # value değeri ya int ya da str dir diyorsun \"|\" \"ya da\" demek \"||\" \"ve\" demek\n",
    "    if isinstance(value, int): # isinstance() ise hazır bir fonksiyon ve value değeri int olup olmadığını döndürüyor(true or false)\n",
    "        return f\"procesed integer: {value}\"\n",
    "    else:\n",
    "        return f\"procesed string: {value}\""
   ]
  },
  {
   "cell_type": "code",
   "execution_count": 36,
   "id": "e89ff6a1-bc61-4b12-97b6-deee317183ef",
   "metadata": {},
   "outputs": [
    {
     "data": {
      "text/plain": [
       "'procesed integer: 50'"
      ]
     },
     "execution_count": 36,
     "metadata": {},
     "output_type": "execute_result"
    }
   ],
   "source": [
    "process_value(50)"
   ]
  },
  {
   "cell_type": "code",
   "execution_count": 38,
   "id": "d39f3f31-1181-4d2c-bc32-5f63dd9c2e0c",
   "metadata": {},
   "outputs": [
    {
     "data": {
      "text/plain": [
       "'procesed string: sdfsds'"
      ]
     },
     "execution_count": 38,
     "metadata": {},
     "output_type": "execute_result"
    }
   ],
   "source": [
    "process_value(\"sdfsds\")"
   ]
  },
  {
   "cell_type": "code",
   "execution_count": 40,
   "id": "2c927f91-bc19-4ca9-af15-f71019c98da1",
   "metadata": {},
   "outputs": [
    {
     "data": {
      "text/plain": [
       "'procesed string: [10, 20, 30]'"
      ]
     },
     "execution_count": 40,
     "metadata": {},
     "output_type": "execute_result"
    }
   ],
   "source": [
    "process_value([10,20,30])"
   ]
  },
  {
   "cell_type": "code",
   "execution_count": 58,
   "id": "e306c9b6-3b06-4bb1-af21-ce986eefd472",
   "metadata": {},
   "outputs": [],
   "source": [
    "#python 3.9\n",
    "from typing import List\n",
    "\n",
    "def sum_list(numbers: List[int]) -> int: # burada ise listenin ne alıcağını göstermiş oluyoruz sadece listtenin içinde int olacak returnu int olacak gibi\n",
    "    return sum(numbers)"
   ]
  },
  {
   "cell_type": "code",
   "execution_count": 64,
   "id": "0948e82e-8343-409f-af8e-f18cb89030de",
   "metadata": {},
   "outputs": [],
   "source": [
    "numbers = [1,2,3,4]\n",
    "\n",
    "total = sum_list(numbers)"
   ]
  },
  {
   "cell_type": "code",
   "execution_count": 62,
   "id": "e311af12-bbfb-4f28-b3d8-36d971aeff0a",
   "metadata": {},
   "outputs": [
    {
     "data": {
      "text/plain": [
       "10"
      ]
     },
     "execution_count": 62,
     "metadata": {},
     "output_type": "execute_result"
    }
   ],
   "source": [
    "total"
   ]
  },
  {
   "cell_type": "code",
   "execution_count": 66,
   "id": "82c030f9-a7c8-4a53-bd33-5bac43892265",
   "metadata": {},
   "outputs": [],
   "source": [
    "names = [\"mustafa\",\"emir\",\"utku\"]"
   ]
  },
  {
   "cell_type": "code",
   "execution_count": 70,
   "id": "bea7c448-a43e-4639-8376-761a228eaba8",
   "metadata": {},
   "outputs": [],
   "source": [
    "#all_names = sum_list(names)"
   ]
  },
  {
   "cell_type": "code",
   "execution_count": null,
   "id": "e8e38ad4-a03b-48da-a4cb-2bc8a9bfa406",
   "metadata": {},
   "outputs": [],
   "source": []
  }
 ],
 "metadata": {
  "kernelspec": {
   "display_name": "Python [conda env:base] *",
   "language": "python",
   "name": "conda-base-py"
  },
  "language_info": {
   "codemirror_mode": {
    "name": "ipython",
    "version": 3
   },
   "file_extension": ".py",
   "mimetype": "text/x-python",
   "name": "python",
   "nbconvert_exporter": "python",
   "pygments_lexer": "ipython3",
   "version": "3.12.7"
  }
 },
 "nbformat": 4,
 "nbformat_minor": 5
}
