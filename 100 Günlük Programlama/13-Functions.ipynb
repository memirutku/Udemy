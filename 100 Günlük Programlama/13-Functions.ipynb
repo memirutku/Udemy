{
 "cells": [
  {
   "cell_type": "code",
   "execution_count": null,
   "id": "6554064b-e0be-40c0-aaca-560ad2faf862",
   "metadata": {},
   "outputs": [],
   "source": []
  }
 ],
 "metadata": {
  "kernelspec": {
   "display_name": "",
   "name": ""
  },
  "language_info": {
   "name": ""
  }
 },
 "nbformat": 4,
 "nbformat_minor": 5
}
