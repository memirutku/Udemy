{
 "cells": [
  {
   "cell_type": "code",
   "execution_count": 4,
   "id": "04067811-98e7-4f47-b042-44e8745dca66",
   "metadata": {},
   "outputs": [],
   "source": [
    "#Pythondaki Hazır Fonksiyonlar"
   ]
  },
  {
   "cell_type": "code",
   "execution_count": 6,
   "id": "d1a644c9-beba-411f-a5e3-e34be6ad8c2b",
   "metadata": {},
   "outputs": [],
   "source": [
    "def divideNumber(number):\n",
    "    return number/2"
   ]
  },
  {
   "cell_type": "code",
   "execution_count": 8,
   "id": "727bdcde-fdbe-46c0-93c7-3df3b6e10cd6",
   "metadata": {},
   "outputs": [
    {
     "data": {
      "text/plain": [
       "10.0"
      ]
     },
     "execution_count": 8,
     "metadata": {},
     "output_type": "execute_result"
    }
   ],
   "source": [
    "divideNumber(20)"
   ]
  },
  {
   "cell_type": "code",
   "execution_count": 10,
   "id": "97272659-0865-4f66-a114-e8986968d53e",
   "metadata": {},
   "outputs": [],
   "source": [
    "myList = [3,4,5,7,10,20,30]"
   ]
  },
  {
   "cell_type": "code",
   "execution_count": 12,
   "id": "21431bef-13c0-4181-a59d-5be694cd1b87",
   "metadata": {},
   "outputs": [],
   "source": [
    "myResultList = []\n",
    "for x in myList:\n",
    "    myResultList.append(divideNumber(x))\n",
    "    "
   ]
  },
  {
   "cell_type": "code",
   "execution_count": 14,
   "id": "70275473-b416-4b24-b009-d3c34cb31df0",
   "metadata": {},
   "outputs": [
    {
     "data": {
      "text/plain": [
       "[1.5, 2.0, 2.5, 3.5, 5.0, 10.0, 15.0]"
      ]
     },
     "execution_count": 14,
     "metadata": {},
     "output_type": "execute_result"
    }
   ],
   "source": [
    "myResultList"
   ]
  },
  {
   "cell_type": "markdown",
   "id": "71f7c9a0-84c6-45a8-8132-d02ae5a3a73b",
   "metadata": {},
   "source": [
    "MAP"
   ]
  },
  {
   "cell_type": "code",
   "execution_count": 17,
   "id": "d7fc44c5-e24a-4cfa-9d1c-2c147fd00035",
   "metadata": {},
   "outputs": [],
   "source": [
    "#map bir listeyi ya da bir koleksiyonu alıp ona bağzı işlemler uyguluyor.\n",
    "#ve farklı halini yeni bir listeye kaydediyor."
   ]
  },
  {
   "cell_type": "code",
   "execution_count": 19,
   "id": "9703f61e-e5cd-42b6-be3b-aea78f4985b1",
   "metadata": {},
   "outputs": [
    {
     "name": "stdout",
     "output_type": "stream",
     "text": [
      "Help on class map in module builtins:\n",
      "\n",
      "class map(object)\n",
      " |  map(func, *iterables) --> map object\n",
      " |\n",
      " |  Make an iterator that computes the function using arguments from\n",
      " |  each of the iterables.  Stops when the shortest iterable is exhausted.\n",
      " |\n",
      " |  Methods defined here:\n",
      " |\n",
      " |  __getattribute__(self, name, /)\n",
      " |      Return getattr(self, name).\n",
      " |\n",
      " |  __iter__(self, /)\n",
      " |      Implement iter(self).\n",
      " |\n",
      " |  __next__(self, /)\n",
      " |      Implement next(self).\n",
      " |\n",
      " |  __reduce__(...)\n",
      " |      Return state information for pickling.\n",
      " |\n",
      " |  ----------------------------------------------------------------------\n",
      " |  Static methods defined here:\n",
      " |\n",
      " |  __new__(*args, **kwargs)\n",
      " |      Create and return a new object.  See help(type) for accurate signature.\n",
      "\n"
     ]
    }
   ],
   "source": [
    "help(map)"
   ]
  },
  {
   "cell_type": "code",
   "execution_count": 21,
   "id": "84c9f799-c79f-4fe9-a4f7-467a84d2785a",
   "metadata": {},
   "outputs": [],
   "source": [
    "#map aslında bir sınıftır.\n",
    "# ama içine herhangi bir obje verirsek\n",
    "# ya da içine fonksiyonu ve koleksiyonu(üzerinde gezinebildiğimiz koleksiyonlar) verirsek bizim için o objeleri tek tek haritalıyor\n",
    "#o fonksiyonu içerisine uyguluyor."
   ]
  },
  {
   "cell_type": "code",
   "execution_count": 23,
   "id": "31427337-a2c8-45aa-8dd3-6153b03ee601",
   "metadata": {},
   "outputs": [
    {
     "data": {
      "text/plain": [
       "<map at 0x12759c880>"
      ]
     },
     "execution_count": 23,
     "metadata": {},
     "output_type": "execute_result"
    }
   ],
   "source": [
    "#map (func, *iterables)\n",
    "#en başta yaptığımız for döngüsünün kısa hali\n",
    "map(divideNumber,myList)\n",
    "# bu hafızaya kaydediyor 0x12759c880 hafızada herhangi bir yerin pointeri"
   ]
  },
  {
   "cell_type": "code",
   "execution_count": 25,
   "id": "00a937b6-aac3-4bd4-b5ff-8c7392201354",
   "metadata": {},
   "outputs": [
    {
     "data": {
      "text/plain": [
       "[1.5, 2.0, 2.5, 3.5, 5.0, 10.0, 15.0]"
      ]
     },
     "execution_count": 25,
     "metadata": {},
     "output_type": "execute_result"
    }
   ],
   "source": [
    "#list çevirirsek görebiliriz\n",
    "#koleksiyona çevirirsek görebiliriz (list,tuple gibi gibi)\n",
    "list(map(divideNumber,myList))"
   ]
  },
  {
   "cell_type": "code",
   "execution_count": 27,
   "id": "7d4ce059-1991-4523-99f7-f2c43bd916cf",
   "metadata": {},
   "outputs": [],
   "source": [
    "#sadece çarpma bölme gibi şeylerde değil\n",
    "#herhangi birşeyde kullanabiliriz."
   ]
  },
  {
   "cell_type": "code",
   "execution_count": 29,
   "id": "dccdc654-87a9-45b7-99ce-cc58f16e8df5",
   "metadata": {},
   "outputs": [],
   "source": [
    "def controlString(string):\n",
    "    return \"mustafa\" in string"
   ]
  },
  {
   "cell_type": "code",
   "execution_count": 33,
   "id": "fff3e004-91a3-42fa-8901-b975ee34e1db",
   "metadata": {},
   "outputs": [
    {
     "data": {
      "text/plain": [
       "True"
      ]
     },
     "execution_count": 33,
     "metadata": {},
     "output_type": "execute_result"
    }
   ],
   "source": [
    "controlString(\"mustafa emir\")"
   ]
  },
  {
   "cell_type": "code",
   "execution_count": 35,
   "id": "e583f298-a512-4dbc-af68-ada20d02f7be",
   "metadata": {},
   "outputs": [
    {
     "data": {
      "text/plain": [
       "False"
      ]
     },
     "execution_count": 35,
     "metadata": {},
     "output_type": "execute_result"
    }
   ],
   "source": [
    "controlString(\"emir\")"
   ]
  },
  {
   "cell_type": "code",
   "execution_count": 37,
   "id": "f7a0412e-d123-41bf-a122-0f20088c923a",
   "metadata": {},
   "outputs": [],
   "source": [
    "myStringList = [\"mustafa\",\"Emir\",\"Utku\",\"mustafa emir\"]"
   ]
  },
  {
   "cell_type": "code",
   "execution_count": 43,
   "id": "b39eb2cd-2918-47e7-ba77-8531c0718149",
   "metadata": {},
   "outputs": [
    {
     "data": {
      "text/plain": [
       "[True, False, False, True]"
      ]
     },
     "execution_count": 43,
     "metadata": {},
     "output_type": "execute_result"
    }
   ],
   "source": [
    "#map yazarken ilk fonksiyon sonra liste\n",
    "list(map(controlString,myStringList))"
   ]
  },
  {
   "cell_type": "markdown",
   "id": "27640eb4-a61e-4b47-acc5-dee6d6f70e81",
   "metadata": {},
   "source": [
    "FİLTER\n"
   ]
  },
  {
   "cell_type": "code",
   "execution_count": 49,
   "id": "72466929-3233-4976-8e9d-73af0eba83e7",
   "metadata": {},
   "outputs": [],
   "source": [
    "#filter\n",
    "#sadece istediklerimi bana göstermeye yarar."
   ]
  },
  {
   "cell_type": "code",
   "execution_count": 51,
   "id": "e6b1c0e9-0561-4108-8f36-932a03d4d3d9",
   "metadata": {},
   "outputs": [
    {
     "data": {
      "text/plain": [
       "<filter at 0x12759e5c0>"
      ]
     },
     "execution_count": 51,
     "metadata": {},
     "output_type": "execute_result"
    }
   ],
   "source": [
    "#kullanımı map ile aynıdır.\n",
    "filter(controlString,myStringList)"
   ]
  },
  {
   "cell_type": "code",
   "execution_count": 53,
   "id": "01dab52c-87c7-495a-8855-f0a4be20327f",
   "metadata": {},
   "outputs": [
    {
     "data": {
      "text/plain": [
       "['mustafa', 'mustafa emir']"
      ]
     },
     "execution_count": 53,
     "metadata": {},
     "output_type": "execute_result"
    }
   ],
   "source": [
    "#sadece truleri getiriyor o da aslında sonuçlar onlar olduğu için\n",
    "list(filter(controlString,myStringList))"
   ]
  },
  {
   "cell_type": "markdown",
   "id": "b341b353-197c-46bd-803a-d6cc8a7edaa4",
   "metadata": {},
   "source": [
    "LAMBDA"
   ]
  },
  {
   "cell_type": "code",
   "execution_count": 57,
   "id": "5623e59e-9ba6-4c89-b73a-9f664452d303",
   "metadata": {},
   "outputs": [],
   "source": [
    "#anonim fonksiyonlar ve tek satırda sonradan kullanmamıza gerek kalmayacak \n",
    "#def keywordunu bile kullanmamıza gerek kalmayacak fonksiyonlar için kullanabiliriz."
   ]
  },
  {
   "cell_type": "code",
   "execution_count": 59,
   "id": "308a1b3a-b430-432f-9960-befc5bd8ba5f",
   "metadata": {},
   "outputs": [],
   "source": [
    "#burada sana verilen numara verilirse o numarayı 3 ile çarp return et anlamına gelir.\n",
    "#num = num * 3\n",
    "#return num\n",
    "# gibi düşünebilirsin\n",
    "multiplyLambda = lambda num : num * 3 "
   ]
  },
  {
   "cell_type": "code",
   "execution_count": 63,
   "id": "57ed4043-6357-4952-b2fe-8736320ba728",
   "metadata": {},
   "outputs": [
    {
     "data": {
      "text/plain": [
       "function"
      ]
     },
     "execution_count": 63,
     "metadata": {},
     "output_type": "execute_result"
    }
   ],
   "source": [
    "type(multiplyLambda)\n",
    "#fonksiyondur "
   ]
  },
  {
   "cell_type": "code",
   "execution_count": 65,
   "id": "ca2b61b6-7f0d-410c-aec4-e7baf0d80aae",
   "metadata": {},
   "outputs": [
    {
     "data": {
      "text/plain": [
       "180"
      ]
     },
     "execution_count": 65,
     "metadata": {},
     "output_type": "execute_result"
    }
   ],
   "source": [
    "multiplyLambda(60)"
   ]
  },
  {
   "cell_type": "code",
   "execution_count": 67,
   "id": "66136885-5deb-4b9b-946f-6f8caf5cca8c",
   "metadata": {},
   "outputs": [],
   "source": [
    "result = multiplyLambda(60)"
   ]
  },
  {
   "cell_type": "code",
   "execution_count": 69,
   "id": "6e7055d3-d28d-492f-ab87-d469f9e8d2a7",
   "metadata": {},
   "outputs": [
    {
     "data": {
      "text/plain": [
       "180"
      ]
     },
     "execution_count": 69,
     "metadata": {},
     "output_type": "execute_result"
    }
   ],
   "source": [
    "result\n",
    "# geri de döndürür yani return eder yani değer atar"
   ]
  },
  {
   "cell_type": "code",
   "execution_count": 71,
   "id": "72fd1a25-323f-4f49-a740-237ef62a59f1",
   "metadata": {},
   "outputs": [],
   "source": [
    "numList = [10,20,30,40,50]"
   ]
  },
  {
   "cell_type": "code",
   "execution_count": 75,
   "id": "a1256180-23b4-4bed-9d34-3cd960f47253",
   "metadata": {},
   "outputs": [
    {
     "data": {
      "text/plain": [
       "[2.5, 5.0, 7.5, 10.0, 12.5]"
      ]
     },
     "execution_count": 75,
     "metadata": {},
     "output_type": "execute_result"
    }
   ],
   "source": [
    "#anonim fonksiyon kullanma şekli\n",
    "# burada 4 e bölecek fonksiyonumuz yok ve\n",
    "#sadece fonksiyonu burada kullanacağımız için fonksiyon da oluşturmak istemiyoruz\n",
    "#numlisteki değerler teker teker lambda da ki num a gider ve öyle işlem yapar\n",
    "list(map(lambda num:num/4,numList))"
   ]
  },
  {
   "cell_type": "code",
   "execution_count": null,
   "id": "431fcd98-ed3e-4576-88b1-f0258b750158",
   "metadata": {},
   "outputs": [],
   "source": []
  }
 ],
 "metadata": {
  "kernelspec": {
   "display_name": "Python [conda env:base] *",
   "language": "python",
   "name": "conda-base-py"
  },
  "language_info": {
   "codemirror_mode": {
    "name": "ipython",
    "version": 3
   },
   "file_extension": ".py",
   "mimetype": "text/x-python",
   "name": "python",
   "nbconvert_exporter": "python",
   "pygments_lexer": "ipython3",
   "version": "3.12.7"
  }
 },
 "nbformat": 4,
 "nbformat_minor": 5
}
