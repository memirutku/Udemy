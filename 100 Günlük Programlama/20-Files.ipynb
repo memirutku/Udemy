{
 "cells": [
  {
   "cell_type": "code",
   "execution_count": 4,
   "id": "dcbca306-84d0-4dfb-89b4-faf00f5eb7e0",
   "metadata": {},
   "outputs": [
    {
     "name": "stdout",
     "output_type": "stream",
     "text": [
      "Writing myfile.txt\n"
     ]
    }
   ],
   "source": [
    "%%writefile myfile.txt\n",
    "test 1 \n",
    "test 2\n",
    "test 3 "
   ]
  },
  {
   "cell_type": "code",
   "execution_count": 10,
   "id": "a54751ba-2ba9-4a63-9b26-6594c3f4ac17",
   "metadata": {},
   "outputs": [],
   "source": [
    "#bu sadece jupyter notebook da geçerli myfile.txt oluşturup içine test 1 test 2 test 3 yazıyor\n",
    "#çalıştırılan python dosyasının olduğu yerde oluşur"
   ]
  },
  {
   "cell_type": "code",
   "execution_count": 3,
   "id": "32e0a3b2-18cb-4056-8ef7-381937abb8b0",
   "metadata": {},
   "outputs": [],
   "source": [
    "#zor yol\n",
    "#aynı klasörün içinde olduğu için böyle yazabiliyoruz\n",
    "# aynı klasörde olmasaydı tek tek yolunu yazmak gerekiyordu /Users/documents/myfile.txt gibi\n",
    "myFile = open(\"myfile.txt\")"
   ]
  },
  {
   "cell_type": "code",
   "execution_count": 5,
   "id": "78a24ac1-e278-4cde-982b-5045cef17139",
   "metadata": {},
   "outputs": [
    {
     "data": {
      "text/plain": [
       "_io.TextIOWrapper"
      ]
     },
     "execution_count": 5,
     "metadata": {},
     "output_type": "execute_result"
    }
   ],
   "source": [
    "type(myFile)\n",
    "#io input outpu işlemleri için kullanılan genel bir isim"
   ]
  },
  {
   "cell_type": "code",
   "execution_count": 9,
   "id": "84b0f11f-678a-4ea1-b55c-99b184fbc7fe",
   "metadata": {},
   "outputs": [
    {
     "data": {
      "text/plain": [
       "'test 1 \\ntest 2\\ntest 3 \\n'"
      ]
     },
     "execution_count": 9,
     "metadata": {},
     "output_type": "execute_result"
    }
   ],
   "source": [
    "#myFile. dan sonra TAB a basarsak methodlar çıkar\n",
    "myFile.read()\n",
    "# \"/n\" yeni satır demek Bir aşağı satıra geçer"
   ]
  },
  {
   "cell_type": "code",
   "execution_count": 11,
   "id": "9088c491-c5a9-4f21-a08f-7cf44a4f34c1",
   "metadata": {},
   "outputs": [
    {
     "data": {
      "text/plain": [
       "''"
      ]
     },
     "execution_count": 11,
     "metadata": {},
     "output_type": "execute_result"
    }
   ],
   "source": [
    "myFile.read()\n",
    "#tekrar yazdığımızda boş gösteriyor \n",
    "#olay şöyle yazıyor read yazdığımız zaman okuma biz kapatmadan kapanmıyor\n",
    "# biz bir kere yazdığımızda okuma kısmı okuduktan sonra son kısımda kalıyor kapanmadığı için\n",
    "# son kısımdan sonra da bir şey yazmadığı için bize boş dönüyor"
   ]
  },
  {
   "cell_type": "code",
   "execution_count": 21,
   "id": "8b999032-4bec-41e7-be59-027af8e14aab",
   "metadata": {},
   "outputs": [
    {
     "data": {
      "text/plain": [
       "0"
      ]
     },
     "execution_count": 21,
     "metadata": {},
     "output_type": "execute_result"
    }
   ],
   "source": [
    "myFile.seek(0)\n",
    "#.seek(0) ile okuma kısmı en başına alıyoruz böylece boş dönmüyor\n",
    "# burada ki 0 bağayı listedeki 0 değeri gibi en baştan başlıyor 1 dersek \"t\" yi almıyor mesela"
   ]
  },
  {
   "cell_type": "code",
   "execution_count": 23,
   "id": "4474e2bd-53a4-4483-9923-26bcf36cb447",
   "metadata": {},
   "outputs": [
    {
     "data": {
      "text/plain": [
       "'test 1 \\ntest 2\\ntest 3 \\n'"
      ]
     },
     "execution_count": 23,
     "metadata": {},
     "output_type": "execute_result"
    }
   ],
   "source": [
    "myFile.read()"
   ]
  },
  {
   "cell_type": "code",
   "execution_count": null,
   "id": "5a20215e-f01a-4ee3-ab8f-30db0634df71",
   "metadata": {},
   "outputs": [],
   "source": []
  }
 ],
 "metadata": {
  "kernelspec": {
   "display_name": "Python [conda env:base] *",
   "language": "python",
   "name": "conda-base-py"
  },
  "language_info": {
   "codemirror_mode": {
    "name": "ipython",
    "version": 3
   },
   "file_extension": ".py",
   "mimetype": "text/x-python",
   "name": "python",
   "nbconvert_exporter": "python",
   "pygments_lexer": "ipython3",
   "version": "3.12.7"
  }
 },
 "nbformat": 4,
 "nbformat_minor": 5
}
