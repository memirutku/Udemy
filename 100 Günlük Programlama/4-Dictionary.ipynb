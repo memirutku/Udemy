{
 "cells": [
  {
   "cell_type": "code",
   "execution_count": 2,
   "id": "7aa6efd8-2914-4a87-9404-6cb08fe2afc0",
   "metadata": {},
   "outputs": [],
   "source": [
    "#key - value pairing\n",
    "# listeler gibidir ama anahtar - değer eşleşmesi vardır."
   ]
  },
  {
   "cell_type": "code",
   "execution_count": 6,
   "id": "f36de6f8-d27e-404b-ae71-ab320a76d0dc",
   "metadata": {},
   "outputs": [],
   "source": [
    "#snake yazı tipine de elimiz alışsın diye böyle yaptık\n",
    "fruit_list = [\"banana\",\"apple\"]"
   ]
  },
  {
   "cell_type": "code",
   "execution_count": 8,
   "id": "29701d38-0db6-43f4-8b2d-25bb7807a425",
   "metadata": {},
   "outputs": [],
   "source": [
    "calorie_list = [100,150]"
   ]
  },
  {
   "cell_type": "code",
   "execution_count": 10,
   "id": "709de94c-ee45-437d-b525-e7a2b56ca66c",
   "metadata": {},
   "outputs": [
    {
     "data": {
      "text/plain": [
       "'banana'"
      ]
     },
     "execution_count": 10,
     "metadata": {},
     "output_type": "execute_result"
    }
   ],
   "source": [
    "fruit_list[0]"
   ]
  },
  {
   "cell_type": "code",
   "execution_count": 12,
   "id": "ef103fe2-ca23-45bb-813b-47c387493ff3",
   "metadata": {},
   "outputs": [
    {
     "data": {
      "text/plain": [
       "100"
      ]
     },
     "execution_count": 12,
     "metadata": {},
     "output_type": "execute_result"
    }
   ],
   "source": [
    "calorie_list[0]"
   ]
  },
  {
   "cell_type": "code",
   "execution_count": 14,
   "id": "4d531dac-bb05-4368-bbc8-65cf8bad3516",
   "metadata": {},
   "outputs": [],
   "source": [
    "#böyle ayrı ayrı yazmak yerine (çünkü veri çok oldunca bozulabilir.)\n",
    "#Bu ikisini sözlükler ile beraber birleştirebiliyoruz"
   ]
  },
  {
   "cell_type": "code",
   "execution_count": 32,
   "id": "5ef08232-0355-49c8-b7d3-5f3c729360e5",
   "metadata": {},
   "outputs": [],
   "source": [
    "# sözlük oluştururken süslü parantez kullanıyoruz.\n",
    "# söyle hatırlayabilirsin sanki sözlükte bir kelime açıklaması var o yüzden \":\" kullanılıyor.\n",
    "fitness_dictionary = {\"banana\":100,\n",
    "\"apple\":150}\n",
    "# sol taraf key dir arama kısmına o yazılır. \n",
    "# sağ taraf ise valuedir aramanın sonucu olarak o gelir"
   ]
  },
  {
   "cell_type": "code",
   "execution_count": 24,
   "id": "fc084106-fe99-410a-8613-9733e97ce76a",
   "metadata": {},
   "outputs": [
    {
     "data": {
      "text/plain": [
       "dict"
      ]
     },
     "execution_count": 24,
     "metadata": {},
     "output_type": "execute_result"
    }
   ],
   "source": [
    "type(fitness_dictionary)\n",
    "# dictionary liste değildir kendisi ayrı bir yapıdır."
   ]
  },
  {
   "cell_type": "code",
   "execution_count": 34,
   "id": "c9a25bb1-7afa-4532-9a59-623fcf79e573",
   "metadata": {},
   "outputs": [
    {
     "data": {
      "text/plain": [
       "100"
      ]
     },
     "execution_count": 34,
     "metadata": {},
     "output_type": "execute_result"
    }
   ],
   "source": [
    "# \" fitness_dictionary[0] \" bunu yaparsak hata verir. Çünkü index mantığı yoktur.\n",
    "# Onun yerine key - value mantığı vardır.\n",
    "fitness_dictionary[\"banana\"]\n",
    "# sadece anahtar(burada banana) ile sonuç alırsın value yazarsan sonuç alamazsın (100)"
   ]
  },
  {
   "cell_type": "code",
   "execution_count": 37,
   "id": "393b851f-f455-47ea-8b7a-03fb2f3694b9",
   "metadata": {},
   "outputs": [
    {
     "data": {
      "text/plain": [
       "dict_keys(['banana', 'apple'])"
      ]
     },
     "execution_count": 37,
     "metadata": {},
     "output_type": "execute_result"
    }
   ],
   "source": [
    "#fitness_dictionary.keys() sadece anahtarları döner.\n",
    "fitness_dictionary.keys()"
   ]
  },
  {
   "cell_type": "code",
   "execution_count": 41,
   "id": "d09982a3-1cd9-458b-b5f1-555b56a0f391",
   "metadata": {},
   "outputs": [
    {
     "data": {
      "text/plain": [
       "dict_values([100, 150])"
      ]
     },
     "execution_count": 41,
     "metadata": {},
     "output_type": "execute_result"
    }
   ],
   "source": [
    "#fitness_dictionary.values() sadece değerleri döner.\n",
    "fitness_dictionary.values()"
   ]
  },
  {
   "cell_type": "code",
   "execution_count": 43,
   "id": "efe0889d-ed8d-4307-a911-4ee9ac1a2620",
   "metadata": {},
   "outputs": [
    {
     "data": {
      "text/plain": [
       "dict_values"
      ]
     },
     "execution_count": 43,
     "metadata": {},
     "output_type": "execute_result"
    }
   ],
   "source": [
    "type(fitness_dictionary.values())"
   ]
  },
  {
   "cell_type": "code",
   "execution_count": 47,
   "id": "6fb4afd7-97b1-4cd3-9e13-af9913188242",
   "metadata": {},
   "outputs": [
    {
     "data": {
      "text/plain": [
       "[100, 150]"
      ]
     },
     "execution_count": 47,
     "metadata": {},
     "output_type": "execute_result"
    }
   ],
   "source": [
    "list(fitness_dictionary.values())\n",
    "# liste çevirerek içinde indexli arama yapabiliriz."
   ]
  },
  {
   "cell_type": "code",
   "execution_count": 53,
   "id": "80428ce9-7194-4ff0-8a3a-9ad9dba8c688",
   "metadata": {},
   "outputs": [],
   "source": [
    "fitness_dictionary[\"banana\"] = 200\n",
    "# eşitlik ile direkt değerini değiştirebiliriz."
   ]
  },
  {
   "cell_type": "code",
   "execution_count": 51,
   "id": "8645d8be-68c1-4515-9ebf-f92abec0c95d",
   "metadata": {},
   "outputs": [
    {
     "data": {
      "text/plain": [
       "{'banana': 200, 'apple': 150}"
      ]
     },
     "execution_count": 51,
     "metadata": {},
     "output_type": "execute_result"
    }
   ],
   "source": [
    "fitness_dictionary"
   ]
  },
  {
   "cell_type": "code",
   "execution_count": 59,
   "id": "3774999c-dc33-4a56-956f-54f1813d401e",
   "metadata": {},
   "outputs": [],
   "source": [
    "fitness_dictionary[\"melon\"] = 300\n",
    "# eşleme ile direkt sözlüklere ekleme yapabiliriz.\n",
    "# sözlüğün sonuna ekler."
   ]
  },
  {
   "cell_type": "code",
   "execution_count": 57,
   "id": "285721f8-780d-401e-9e8b-1daaf59e8245",
   "metadata": {},
   "outputs": [
    {
     "data": {
      "text/plain": [
       "{'banana': 200, 'apple': 150, 'melon': 300}"
      ]
     },
     "execution_count": 57,
     "metadata": {},
     "output_type": "execute_result"
    }
   ],
   "source": [
    "fitness_dictionary"
   ]
  },
  {
   "cell_type": "code",
   "execution_count": 63,
   "id": "44a9c3e6-112e-4225-8483-9254e445a300",
   "metadata": {},
   "outputs": [
    {
     "name": "stdout",
     "output_type": "stream",
     "text": [
      "Help on built-in function get:\n",
      "\n",
      "get(key, default=None, /) method of builtins.dict instance\n",
      "    Return the value for key if key is in the dictionary, else default.\n",
      "\n"
     ]
    }
   ],
   "source": [
    "help(fitness_dictionary.get)\n",
    "# gel ile bir değer aratabiliyorum ama aradığım değer sözlükte yok ise \n",
    "# default bir değer girip o değeri ekrana verebiliyorum.\n",
    "# hatayı kullanıcıya vermek yerine kullanılıyor."
   ]
  },
  {
   "cell_type": "code",
   "execution_count": 67,
   "id": "0a9f0f71-3f16-4b9c-86ed-f29c4aa24666",
   "metadata": {},
   "outputs": [
    {
     "data": {
      "text/plain": [
       "0"
      ]
     },
     "execution_count": 67,
     "metadata": {},
     "output_type": "execute_result"
    }
   ],
   "source": [
    "fitness_dictionary.get(\"appl\", 0)"
   ]
  },
  {
   "cell_type": "code",
   "execution_count": null,
   "id": "8176edaa-1c56-46c1-a8dd-53db7282486e",
   "metadata": {},
   "outputs": [],
   "source": []
  }
 ],
 "metadata": {
  "kernelspec": {
   "display_name": "Python [conda env:base] *",
   "language": "python",
   "name": "conda-base-py"
  },
  "language_info": {
   "codemirror_mode": {
    "name": "ipython",
    "version": 3
   },
   "file_extension": ".py",
   "mimetype": "text/x-python",
   "name": "python",
   "nbconvert_exporter": "python",
   "pygments_lexer": "ipython3",
   "version": "3.12.7"
  }
 },
 "nbformat": 4,
 "nbformat_minor": 5
}
