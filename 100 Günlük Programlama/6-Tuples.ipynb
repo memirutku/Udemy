{
 "cells": [
  {
   "cell_type": "code",
   "execution_count": 1,
   "id": "1067760a-d460-4179-ab02-c7c946ecb7da",
   "metadata": {},
   "outputs": [],
   "source": [
    "#neredeyse liste ile aynı şey "
   ]
  },
  {
   "cell_type": "code",
   "execution_count": 3,
   "id": "45d11564-1012-44d3-9090-8a0be4487ebb",
   "metadata": {},
   "outputs": [],
   "source": [
    "myList = [10,\"a\",\"b\",3.14]"
   ]
  },
  {
   "cell_type": "code",
   "execution_count": 5,
   "id": "996f5b04-afa9-44a8-b59a-a961733ac67c",
   "metadata": {},
   "outputs": [
    {
     "data": {
      "text/plain": [
       "10"
      ]
     },
     "execution_count": 5,
     "metadata": {},
     "output_type": "execute_result"
    }
   ],
   "source": [
    "myList[0]"
   ]
  },
  {
   "cell_type": "code",
   "execution_count": 7,
   "id": "b0c487c0-ca5a-4356-ba52-084c1a196608",
   "metadata": {},
   "outputs": [],
   "source": [
    "myList[0] = 100"
   ]
  },
  {
   "cell_type": "code",
   "execution_count": 9,
   "id": "2072b5f2-65e5-443b-8b4a-653d8a45d9a7",
   "metadata": {},
   "outputs": [
    {
     "data": {
      "text/plain": [
       "[100, 'a', 'b', 3.14]"
      ]
     },
     "execution_count": 9,
     "metadata": {},
     "output_type": "execute_result"
    }
   ],
   "source": [
    "myList"
   ]
  },
  {
   "cell_type": "code",
   "execution_count": 11,
   "id": "f2f3b535-2ca1-4ab8-b7f4-cbc81e7984ba",
   "metadata": {},
   "outputs": [],
   "source": [
    "#tuple"
   ]
  },
  {
   "cell_type": "code",
   "execution_count": 13,
   "id": "4091a941-fe00-47ef-b46e-7304e152302e",
   "metadata": {},
   "outputs": [],
   "source": [
    "myTuple = (10,\"a\",\"b\",3.14)\n",
    "# tuple normal parantez ile oluşturulur.\n",
    "#index mantığı vardır."
   ]
  },
  {
   "cell_type": "code",
   "execution_count": 15,
   "id": "2a3b7f3c-4b78-4541-a7dd-ebbbe9968f6b",
   "metadata": {},
   "outputs": [
    {
     "data": {
      "text/plain": [
       "tuple"
      ]
     },
     "execution_count": 15,
     "metadata": {},
     "output_type": "execute_result"
    }
   ],
   "source": [
    "type(myTuple)"
   ]
  },
  {
   "cell_type": "code",
   "execution_count": 17,
   "id": "5e0e9535-2638-4add-b1cf-5d678cc9c275",
   "metadata": {},
   "outputs": [
    {
     "data": {
      "text/plain": [
       "10"
      ]
     },
     "execution_count": 17,
     "metadata": {},
     "output_type": "execute_result"
    }
   ],
   "source": [
    "myTuple[0]"
   ]
  },
  {
   "cell_type": "code",
   "execution_count": 21,
   "id": "664f1dc5-b599-48d2-951e-393711c68373",
   "metadata": {},
   "outputs": [],
   "source": [
    "# myTuple[0] = 100\n",
    "# hata verir çünkü tupleler değişmez immutability özelliği vardır. (değiştirilemez)\n",
    "# tuple tanımladıktan sonra ne yeni bir şey ekleyebilirim. ne içindeki elemanı değiştirebilirim.\n"
   ]
  },
  {
   "cell_type": "code",
   "execution_count": 23,
   "id": "1021dd00-6f35-4150-839a-7fed9b71085a",
   "metadata": {},
   "outputs": [
    {
     "data": {
      "text/plain": [
       "1"
      ]
     },
     "execution_count": 23,
     "metadata": {},
     "output_type": "execute_result"
    }
   ],
   "source": [
    "myTuple.count(\"a\")"
   ]
  },
  {
   "cell_type": "code",
   "execution_count": 25,
   "id": "e168d877-a1bd-47f6-8f38-4ee23e2bfe62",
   "metadata": {},
   "outputs": [
    {
     "data": {
      "text/plain": [
       "1"
      ]
     },
     "execution_count": 25,
     "metadata": {},
     "output_type": "execute_result"
    }
   ],
   "source": [
    "myTuple.index(\"a\")"
   ]
  },
  {
   "cell_type": "code",
   "execution_count": 27,
   "id": "e88c2e1b-cb5f-49cc-8505-e9ef47c9c083",
   "metadata": {},
   "outputs": [],
   "source": [
    "# sadece bu iki method kullanılabiliyor."
   ]
  },
  {
   "cell_type": "code",
   "execution_count": null,
   "id": "d60231b7-cb1c-4cf9-bb1c-e5caf99060ae",
   "metadata": {},
   "outputs": [],
   "source": [
    "#kütüphaneler (import ettiğimiz) çok fazla tuple kullanıyor."
   ]
  }
 ],
 "metadata": {
  "kernelspec": {
   "display_name": "Python [conda env:base] *",
   "language": "python",
   "name": "conda-base-py"
  },
  "language_info": {
   "codemirror_mode": {
    "name": "ipython",
    "version": 3
   },
   "file_extension": ".py",
   "mimetype": "text/x-python",
   "name": "python",
   "nbconvert_exporter": "python",
   "pygments_lexer": "ipython3",
   "version": "3.12.7"
  }
 },
 "nbformat": 4,
 "nbformat_minor": 5
}
