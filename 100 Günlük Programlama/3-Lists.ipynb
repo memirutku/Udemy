{
 "cells": [
  {
   "cell_type": "code",
   "execution_count": 2,
   "id": "f0d0822b-84d8-48a6-b788-2ad222929184",
   "metadata": {},
   "outputs": [],
   "source": [
    "myString = \"Hello Python\""
   ]
  },
  {
   "cell_type": "code",
   "execution_count": 4,
   "id": "1e1a4d0d-d2b9-4cfb-aa6a-2fe298093e08",
   "metadata": {},
   "outputs": [
    {
     "data": {
      "text/plain": [
       "['Hello', 'Python']"
      ]
     },
     "execution_count": 4,
     "metadata": {},
     "output_type": "execute_result"
    }
   ],
   "source": [
    "myString.split()"
   ]
  },
  {
   "cell_type": "code",
   "execution_count": 6,
   "id": "95084bf9-895f-44f4-9040-48094c16a3d2",
   "metadata": {},
   "outputs": [],
   "source": [
    "#listeler veri yapısıdır koleksiyon olarak geçer birden fazla veriyi tutmaya yarar."
   ]
  },
  {
   "cell_type": "code",
   "execution_count": 14,
   "id": "b6720e17-c140-4bdb-ac63-fb5042072a7e",
   "metadata": {},
   "outputs": [],
   "source": [
    "#myString[0]= \"a\"\n",
    "#string objeleri bir elemanın değiştirmesini desteklemez\n",
    "#immutable - immutability denir buna\n",
    "#myString =\"mustafa\"\n",
    "#bu zaman olur."
   ]
  },
  {
   "cell_type": "markdown",
   "id": "a7139e88-a542-4e4e-8ac5-49ad074e88c7",
   "metadata": {},
   "source": [
    "LIST"
   ]
  },
  {
   "cell_type": "code",
   "execution_count": 17,
   "id": "876dce8b-2979-44eb-93e4-82de0cc30ae4",
   "metadata": {},
   "outputs": [],
   "source": [
    "#listelerde bu özellik yok listeler değiştirilebilir. içinde ne istiyorsak tutabiliriz."
   ]
  },
  {
   "cell_type": "code",
   "execution_count": 19,
   "id": "6487979b-2327-4f60-bb20-bbc05e3134cd",
   "metadata": {},
   "outputs": [],
   "source": [
    "myList = [10,20,30]\n",
    "# bu şekilde liste oluşturabiliriz."
   ]
  },
  {
   "cell_type": "code",
   "execution_count": 21,
   "id": "4a4c743e-8840-473f-a591-3f7cd6702adf",
   "metadata": {},
   "outputs": [
    {
     "data": {
      "text/plain": [
       "list"
      ]
     },
     "execution_count": 21,
     "metadata": {},
     "output_type": "execute_result"
    }
   ],
   "source": [
    "type(myList)"
   ]
  },
  {
   "cell_type": "code",
   "execution_count": 23,
   "id": "d3bff192-ce06-4300-be1d-aa84926d4266",
   "metadata": {},
   "outputs": [],
   "source": [
    "x = 10\n",
    "y = 20\n",
    "z = 30"
   ]
  },
  {
   "cell_type": "code",
   "execution_count": 29,
   "id": "7a561d23-22f7-4b4e-8f8b-7da69705cdb3",
   "metadata": {},
   "outputs": [],
   "source": [
    "myList = [x,y,z]\n",
    "# listenin içindeki değerleri başka yerde tanımlayıp öyle de liste oluşturabiliriz."
   ]
  },
  {
   "cell_type": "code",
   "execution_count": 27,
   "id": "c524fb80-8690-4ab7-8576-5380b71a4190",
   "metadata": {},
   "outputs": [
    {
     "data": {
      "text/plain": [
       "[10, 20, 30]"
      ]
     },
     "execution_count": 27,
     "metadata": {},
     "output_type": "execute_result"
    }
   ],
   "source": [
    "myList"
   ]
  },
  {
   "cell_type": "code",
   "execution_count": 31,
   "id": "3da2050f-eac9-4f6e-bdda-a6ed226c1254",
   "metadata": {},
   "outputs": [
    {
     "data": {
      "text/plain": [
       "int"
      ]
     },
     "execution_count": 31,
     "metadata": {},
     "output_type": "execute_result"
    }
   ],
   "source": [
    "type(myList[0])"
   ]
  },
  {
   "cell_type": "code",
   "execution_count": 33,
   "id": "5a761463-e43a-411a-bdb2-9a18c2fa2ea3",
   "metadata": {},
   "outputs": [
    {
     "data": {
      "text/plain": [
       "10"
      ]
     },
     "execution_count": 33,
     "metadata": {},
     "output_type": "execute_result"
    }
   ],
   "source": [
    "myList[0]"
   ]
  },
  {
   "cell_type": "code",
   "execution_count": 35,
   "id": "c94a23fd-ed21-4180-bbf7-649f7fa3427e",
   "metadata": {},
   "outputs": [],
   "source": [
    "myList[0] = 100"
   ]
  },
  {
   "cell_type": "code",
   "execution_count": 37,
   "id": "ef38142d-3c11-427f-bbeb-ebcbc00fc0d8",
   "metadata": {},
   "outputs": [
    {
     "data": {
      "text/plain": [
       "100"
      ]
     },
     "execution_count": 37,
     "metadata": {},
     "output_type": "execute_result"
    }
   ],
   "source": [
    "myList[0]\n",
    "# listeler mutable - mutability yani eklenilebilir değiştirilebilirdir."
   ]
  },
  {
   "cell_type": "code",
   "execution_count": 39,
   "id": "d91b6ba5-40e8-4a25-ac60-76a9c98ed2e0",
   "metadata": {},
   "outputs": [
    {
     "data": {
      "text/plain": [
       "[100, 20, 30]"
      ]
     },
     "execution_count": 39,
     "metadata": {},
     "output_type": "execute_result"
    }
   ],
   "source": [
    "myList"
   ]
  },
  {
   "cell_type": "code",
   "execution_count": 41,
   "id": "256a7836-78b3-4f1a-8670-d12c3d1ae2c8",
   "metadata": {},
   "outputs": [
    {
     "data": {
      "text/plain": [
       "3"
      ]
     },
     "execution_count": 41,
     "metadata": {},
     "output_type": "execute_result"
    }
   ],
   "source": [
    "len(myList)"
   ]
  },
  {
   "cell_type": "code",
   "execution_count": 45,
   "id": "8338a8b8-de85-48a6-84d3-1e6dc3e79b27",
   "metadata": {},
   "outputs": [
    {
     "data": {
      "text/plain": [
       "30"
      ]
     },
     "execution_count": 45,
     "metadata": {},
     "output_type": "execute_result"
    }
   ],
   "source": [
    "myList[len(myList)-1]\n",
    "#bunun ile listenin son indexine gidebiliriz.\n",
    "#index 0 dan başladığı için -1 çıkararak son indexi bulduk"
   ]
  },
  {
   "cell_type": "code",
   "execution_count": 47,
   "id": "4af6351d-b4e2-42ff-ac7f-63952ac06271",
   "metadata": {},
   "outputs": [],
   "source": [
    "#myList. yaptığımızda karşımıza başka  methodlar çıkacaktır\n",
    "myList.append(80)\n",
    "#Append ekleme işlemi yapar sona ekler."
   ]
  },
  {
   "cell_type": "code",
   "execution_count": 49,
   "id": "f3a88f0a-7524-4c7a-bfd5-3b79a6a3891c",
   "metadata": {},
   "outputs": [
    {
     "data": {
      "text/plain": [
       "[100, 20, 30, 80]"
      ]
     },
     "execution_count": 49,
     "metadata": {},
     "output_type": "execute_result"
    }
   ],
   "source": [
    "myList"
   ]
  },
  {
   "cell_type": "code",
   "execution_count": 51,
   "id": "32a1c920-1133-4a53-86aa-0e1deb940026",
   "metadata": {},
   "outputs": [
    {
     "data": {
      "text/plain": [
       "1"
      ]
     },
     "execution_count": 51,
     "metadata": {},
     "output_type": "execute_result"
    }
   ],
   "source": [
    "myList.count(20)\n",
    "#dediğimizde içinde kaç tane 20 var onu bize verir."
   ]
  },
  {
   "cell_type": "code",
   "execution_count": 57,
   "id": "5fd9f3c2-ccd2-4167-8624-5bc45df2cbbe",
   "metadata": {},
   "outputs": [
    {
     "data": {
      "text/plain": [
       "2"
      ]
     },
     "execution_count": 57,
     "metadata": {},
     "output_type": "execute_result"
    }
   ],
   "source": [
    "myList.index(30)\n",
    "#Bize 30 rakamının ilk index noktasını verir."
   ]
  },
  {
   "cell_type": "code",
   "execution_count": 53,
   "id": "fdb94378-453c-408b-9ad4-55afb5b61b40",
   "metadata": {},
   "outputs": [
    {
     "name": "stdout",
     "output_type": "stream",
     "text": [
      "Help on built-in function insert:\n",
      "\n",
      "insert(index, object, /) method of builtins.list instance\n",
      "    Insert object before index.\n",
      "\n"
     ]
    }
   ],
   "source": [
    "help(myList.insert)"
   ]
  },
  {
   "cell_type": "code",
   "execution_count": 63,
   "id": "1d0e9f9f-6798-4b9a-a3bc-939f3bbc1a38",
   "metadata": {},
   "outputs": [],
   "source": [
    "#append sona eklerken insert istediğimiz indexe ekleyebiliyoruz\n",
    "myList.insert(1,15)\n",
    "#1.indexe 15 rakamını ekledi."
   ]
  },
  {
   "cell_type": "code",
   "execution_count": 61,
   "id": "64e23278-f7f9-4c2c-8b2c-c21975686049",
   "metadata": {},
   "outputs": [
    {
     "data": {
      "text/plain": [
       "[100, 15, 20, 30, 80]"
      ]
     },
     "execution_count": 61,
     "metadata": {},
     "output_type": "execute_result"
    }
   ],
   "source": [
    "myList"
   ]
  },
  {
   "cell_type": "code",
   "execution_count": 65,
   "id": "be0bab1b-31d3-4e86-84a3-23f0420d3ea5",
   "metadata": {},
   "outputs": [],
   "source": [
    "#myList.pop() son elemanı çıkarır.\n",
    "#myList.remove(15) neyi çıkarmak istersek onu çıkarır.\n",
    "#myList.reverse() terse çevirir.\n",
    "#myList.sort() küçükten büyüğe sıralar."
   ]
  },
  {
   "cell_type": "code",
   "execution_count": 67,
   "id": "4f5b217d-72c2-4d98-9b70-46eabfbd98fe",
   "metadata": {},
   "outputs": [
    {
     "name": "stdin",
     "output_type": "stream",
     "text": [
      " 10\n"
     ]
    }
   ],
   "source": [
    "x= input()\n",
    "#input() ile kullanıcıdan veri alırız. \n",
    "#Kullanıcıya input mesajı gösterecek isek input(\"Rakam giriniz.\") şeklinde parantez içine yazaarız."
   ]
  },
  {
   "cell_type": "code",
   "execution_count": 73,
   "id": "3747d808-5e86-4064-bddb-4127b9662efc",
   "metadata": {},
   "outputs": [
    {
     "data": {
      "text/plain": [
       "str"
      ]
     },
     "execution_count": 73,
     "metadata": {},
     "output_type": "execute_result"
    }
   ],
   "source": [
    "type(x)\n",
    "#girilen verinin değeri string dir her zaman"
   ]
  },
  {
   "cell_type": "code",
   "execution_count": 75,
   "id": "32163f6f-3d84-4be8-b521-0c03f6523b9d",
   "metadata": {},
   "outputs": [],
   "source": [
    "inputList = []\n",
    "# boş liste tanımlayıp içine kullanıcıdan gelecek veriler atanabilir."
   ]
  },
  {
   "cell_type": "code",
   "execution_count": 77,
   "id": "ebf93827-fc9d-4398-8295-f9a41db331d8",
   "metadata": {},
   "outputs": [
    {
     "name": "stdin",
     "output_type": "stream",
     "text": [
      "X değerini giriniz: 15\n"
     ]
    }
   ],
   "source": [
    "x= input(\"X değerini giriniz:\")"
   ]
  },
  {
   "cell_type": "code",
   "execution_count": 79,
   "id": "6540cee2-fe0c-4021-ac50-91945852432e",
   "metadata": {},
   "outputs": [
    {
     "name": "stdin",
     "output_type": "stream",
     "text": [
      "Y değerini giriniz: 26\n"
     ]
    }
   ],
   "source": [
    "y= input(\"Y değerini giriniz:\")"
   ]
  },
  {
   "cell_type": "code",
   "execution_count": 81,
   "id": "088f4f52-0aad-4234-a86e-4a5954d1e0e4",
   "metadata": {},
   "outputs": [
    {
     "name": "stdin",
     "output_type": "stream",
     "text": [
      "Z değerini giriniz: 39\n"
     ]
    }
   ],
   "source": [
    "z= input(\"Z değerini giriniz:\")"
   ]
  },
  {
   "cell_type": "code",
   "execution_count": 89,
   "id": "009cc65b-cb4e-4d0d-b272-94d101656cc4",
   "metadata": {},
   "outputs": [],
   "source": [
    "inputList.append(x)\n",
    "inputList.append(y)\n",
    "inputList.append(z)\n",
    "# append de sadece bir değer atanabiliyor başka değer için appendin tekrar çalışması lazım."
   ]
  },
  {
   "cell_type": "code",
   "execution_count": 87,
   "id": "fdd1556a-ce6f-40d8-a32f-288b3fbaee5d",
   "metadata": {},
   "outputs": [
    {
     "data": {
      "text/plain": [
       "['15', '26', '39']"
      ]
     },
     "execution_count": 87,
     "metadata": {},
     "output_type": "execute_result"
    }
   ],
   "source": [
    "inputList"
   ]
  },
  {
   "cell_type": "code",
   "execution_count": 91,
   "id": "d5c5ab9e-43cb-43e5-a89c-1e05caf08c50",
   "metadata": {},
   "outputs": [
    {
     "data": {
      "text/plain": [
       "'2626'"
      ]
     },
     "execution_count": 91,
     "metadata": {},
     "output_type": "execute_result"
    }
   ],
   "source": [
    "inputList[1]*2"
   ]
  },
  {
   "cell_type": "code",
   "execution_count": 93,
   "id": "358ac680-18a6-4d0b-89d0-42aa268e8598",
   "metadata": {},
   "outputs": [
    {
     "data": {
      "text/plain": [
       "str"
      ]
     },
     "execution_count": 93,
     "metadata": {},
     "output_type": "execute_result"
    }
   ],
   "source": [
    "type(inputList[1])"
   ]
  },
  {
   "cell_type": "code",
   "execution_count": 95,
   "id": "d51da665-906c-41b3-8b6f-9df0f7020ecf",
   "metadata": {},
   "outputs": [
    {
     "data": {
      "text/plain": [
       "52"
      ]
     },
     "execution_count": 95,
     "metadata": {},
     "output_type": "execute_result"
    }
   ],
   "source": [
    "int(inputList[1]) *2 \n",
    "# integere çevirir . \n",
    "#Kalıcı değildir. Kalıcı yapmak için yeni bir değere eşlememiz lazım.\n",
    "#harfleri integere çeviremez"
   ]
  },
  {
   "cell_type": "code",
   "execution_count": 97,
   "id": "c21d87a5-89b8-4853-aa42-778067f5ba69",
   "metadata": {},
   "outputs": [],
   "source": [
    "myInteger = 50"
   ]
  },
  {
   "cell_type": "code",
   "execution_count": 105,
   "id": "d3db1a3e-f545-4bb5-afac-1f8fe5330afc",
   "metadata": {},
   "outputs": [
    {
     "data": {
      "text/plain": [
       "'50'"
      ]
     },
     "execution_count": 105,
     "metadata": {},
     "output_type": "execute_result"
    }
   ],
   "source": [
    "str(myInteger)\n",
    "#str() stringe çevirir. \n",
    "#Kalıcı değildir.Kalıcı yapmak için yeni bir değere eşlememiz lazım.\n",
    "# Herşey stringe çevirilir."
   ]
  },
  {
   "cell_type": "code",
   "execution_count": 101,
   "id": "ab2cf34d-68f1-46f2-824f-21e1e238f725",
   "metadata": {},
   "outputs": [
    {
     "data": {
      "text/plain": [
       "int"
      ]
     },
     "execution_count": 101,
     "metadata": {},
     "output_type": "execute_result"
    }
   ],
   "source": [
    "type(myInteger)"
   ]
  },
  {
   "cell_type": "code",
   "execution_count": 103,
   "id": "c08c5748-7c94-4943-9ea9-6ce82e46648b",
   "metadata": {},
   "outputs": [
    {
     "data": {
      "text/plain": [
       "50.0"
      ]
     },
     "execution_count": 103,
     "metadata": {},
     "output_type": "execute_result"
    }
   ],
   "source": [
    "float(myInteger)\n",
    "#float () Floata çevirir. \n",
    "#Kalıcı değildir.Kalıcı yapmak için yeni bir değere eşlememiz lazım.\n",
    "#harfleri integere çeviremez"
   ]
  },
  {
   "cell_type": "code",
   "execution_count": 109,
   "id": "4b42cd87-2d8d-407d-af60-33326d8de1e0",
   "metadata": {},
   "outputs": [],
   "source": [
    "# sadece number list değil string, float... listler de yapılabilir.\n",
    "nameList=[\"mustafa\",\"emir\",\"adana\",\"antep\"]"
   ]
  },
  {
   "cell_type": "code",
   "execution_count": 111,
   "id": "db5e0e0e-30ab-4eb8-9ace-07d2f9eab668",
   "metadata": {},
   "outputs": [],
   "source": [
    "floatList=[10.2,10.5,2.4,2.8]"
   ]
  },
  {
   "cell_type": "code",
   "execution_count": 113,
   "id": "5458069e-e037-498a-869e-66903b5b2f20",
   "metadata": {},
   "outputs": [
    {
     "data": {
      "text/plain": [
       "list"
      ]
     },
     "execution_count": 113,
     "metadata": {},
     "output_type": "execute_result"
    }
   ],
   "source": [
    "type(floatList)"
   ]
  },
  {
   "cell_type": "code",
   "execution_count": 115,
   "id": "a7704c1d-fccd-427f-b742-a24f8f225b6a",
   "metadata": {},
   "outputs": [],
   "source": [
    "#python da aynı anda hem integer hem float hem de string dolu liste yapılabilir.\n",
    "mixedList = [\"mustafa\",10,4.5,\"emir\",21,100.0,180.9]"
   ]
  },
  {
   "cell_type": "code",
   "execution_count": 117,
   "id": "a5d2ffd9-3ded-4181-91ae-440c5e119590",
   "metadata": {},
   "outputs": [
    {
     "data": {
      "text/plain": [
       "list"
      ]
     },
     "execution_count": 117,
     "metadata": {},
     "output_type": "execute_result"
    }
   ],
   "source": [
    "type(mixedList)"
   ]
  },
  {
   "cell_type": "code",
   "execution_count": 119,
   "id": "4389cb3c-fc5c-4abf-9916-6223fd4856d0",
   "metadata": {},
   "outputs": [],
   "source": [
    "list1 = [10,20,30]"
   ]
  },
  {
   "cell_type": "code",
   "execution_count": 121,
   "id": "1cd89333-4cc2-417d-98a5-7fb67701044d",
   "metadata": {},
   "outputs": [],
   "source": [
    "list2 = [40,50,60]"
   ]
  },
  {
   "cell_type": "code",
   "execution_count": 123,
   "id": "d3ed2138-17c7-4bc4-b7b0-48acd79df9b6",
   "metadata": {},
   "outputs": [
    {
     "data": {
      "text/plain": [
       "[10, 20, 30, 40, 50, 60]"
      ]
     },
     "execution_count": 123,
     "metadata": {},
     "output_type": "execute_result"
    }
   ],
   "source": [
    "list1 + list2\n",
    "# listeleri toplama işlemlerinde sonuna ekler "
   ]
  },
  {
   "cell_type": "code",
   "execution_count": 131,
   "id": "536f20a7-09bc-4970-a3b9-bd1d7e7105d7",
   "metadata": {},
   "outputs": [
    {
     "data": {
      "text/plain": [
       "[10, 20, 30, 10, 20, 30, 10, 20, 30]"
      ]
     },
     "execution_count": 131,
     "metadata": {},
     "output_type": "execute_result"
    }
   ],
   "source": [
    "list1 * 3\n",
    "#listelerde çarpma işlemi yapılabilir aynısından bir tane daha ekler."
   ]
  },
  {
   "cell_type": "code",
   "execution_count": 133,
   "id": "78cfea1a-e073-4a92-9cda-a91b50497913",
   "metadata": {},
   "outputs": [
    {
     "data": {
      "text/plain": [
       "['mustafa', 10, 4.5, 'emir', 21, 100.0, 180.9]"
      ]
     },
     "execution_count": 133,
     "metadata": {},
     "output_type": "execute_result"
    }
   ],
   "source": [
    "mixedList"
   ]
  },
  {
   "cell_type": "code",
   "execution_count": 135,
   "id": "6211da1a-d09b-48ab-ad4c-7dca6e95b75d",
   "metadata": {},
   "outputs": [
    {
     "data": {
      "text/plain": [
       "int"
      ]
     },
     "execution_count": 135,
     "metadata": {},
     "output_type": "execute_result"
    }
   ],
   "source": [
    "type(mixedList[1])"
   ]
  },
  {
   "cell_type": "code",
   "execution_count": 139,
   "id": "039d4b48-0024-4ec3-889f-aa87af58200d",
   "metadata": {},
   "outputs": [
    {
     "data": {
      "text/plain": [
       "str"
      ]
     },
     "execution_count": 139,
     "metadata": {},
     "output_type": "execute_result"
    }
   ],
   "source": [
    "type(mixedList[0])\n",
    "# çoğu programlama dili karışık bir şekilde tuttuğunda içindeki verinin typenin ne olduğunu bilmez.\n",
    "# ama python da bu bilinir."
   ]
  },
  {
   "cell_type": "markdown",
   "id": "a4158535-fe8d-4216-bd4f-30eacab75f6a",
   "metadata": {},
   "source": [
    "NESTED LİST (iç içe geçmiş listeler)"
   ]
  },
  {
   "cell_type": "code",
   "execution_count": 142,
   "id": "ffe6f6e1-46c8-430c-9a7e-0e91f72aaa94",
   "metadata": {},
   "outputs": [],
   "source": [
    "myNestedList = ['mustafa', 10, 180.9,[1,2,3]\n",
    "#listenin içide başka bir liste eleman olarak barınabilir."
   ]
  },
  {
   "cell_type": "code",
   "execution_count": 152,
   "id": "1fac053a-f555-46a5-9cdb-1d1458ecc385",
   "metadata": {},
   "outputs": [
    {
     "data": {
      "text/plain": [
       "list"
      ]
     },
     "execution_count": 152,
     "metadata": {},
     "output_type": "execute_result"
    }
   ],
   "source": [
    "type(myNestedList[3])"
   ]
  },
  {
   "cell_type": "code",
   "execution_count": 150,
   "id": "32396c9f-ea64-4566-971a-4bfe9825f11a",
   "metadata": {},
   "outputs": [
    {
     "data": {
      "text/plain": [
       "[1, 2, 3]"
      ]
     },
     "execution_count": 150,
     "metadata": {},
     "output_type": "execute_result"
    }
   ],
   "source": [
    "myNestedList[3]"
   ]
  },
  {
   "cell_type": "code",
   "execution_count": 156,
   "id": "6f325f8f-c320-46a0-8c89-aa17f645ca08",
   "metadata": {},
   "outputs": [
    {
     "data": {
      "text/plain": [
       "1"
      ]
     },
     "execution_count": 156,
     "metadata": {},
     "output_type": "execute_result"
    }
   ],
   "source": [
    "myNestedList[3][0]\n",
    "#listenin içinde ki listeye gitmek için ikinci bir köşeli parantez ile ararız."
   ]
  },
  {
   "cell_type": "code",
   "execution_count": 160,
   "id": "7194c273-0ac6-409f-b2e3-7bfc83cd632c",
   "metadata": {},
   "outputs": [
    {
     "data": {
      "text/plain": [
       "4"
      ]
     },
     "execution_count": 160,
     "metadata": {},
     "output_type": "execute_result"
    }
   ],
   "source": [
    "len(myNestedList)\n",
    "#liste içinde ki listeler tek başına bir elemandır \n",
    "#içindeki elemanlar içinde olduğu elemanın büyüklüğünden sayılmaz."
   ]
  },
  {
   "cell_type": "code",
   "execution_count": 162,
   "id": "36456d8e-dddc-4882-a991-28a27fd0c192",
   "metadata": {},
   "outputs": [],
   "source": [
    "#listelerde slacing işlemi yapılabilir.\n",
    "firstList = [10,20,30,40,50,60,70,80,90]"
   ]
  },
  {
   "cell_type": "code",
   "execution_count": 164,
   "id": "469b13b2-2b99-437c-9fbd-ad45c3c586cc",
   "metadata": {},
   "outputs": [
    {
     "data": {
      "text/plain": [
       "[30, 40, 50, 60, 70, 80, 90]"
      ]
     },
     "execution_count": 164,
     "metadata": {},
     "output_type": "execute_result"
    }
   ],
   "source": [
    "firstList[2::]"
   ]
  },
  {
   "cell_type": "code",
   "execution_count": 166,
   "id": "19006d55-542b-4eff-a0e5-51e653a1ac3a",
   "metadata": {},
   "outputs": [
    {
     "data": {
      "text/plain": [
       "[10, 20, 30, 40, 50]"
      ]
     },
     "execution_count": 166,
     "metadata": {},
     "output_type": "execute_result"
    }
   ],
   "source": [
    "firstList[:5:]"
   ]
  },
  {
   "cell_type": "code",
   "execution_count": 168,
   "id": "2b12414e-332e-4b5c-93d8-6c8585789e0d",
   "metadata": {},
   "outputs": [
    {
     "data": {
      "text/plain": [
       "[10, 30, 50, 70, 90]"
      ]
     },
     "execution_count": 168,
     "metadata": {},
     "output_type": "execute_result"
    }
   ],
   "source": [
    "firstList[::2]"
   ]
  },
  {
   "cell_type": "code",
   "execution_count": 170,
   "id": "e50473c1-a598-4615-9011-d9116317b7d8",
   "metadata": {},
   "outputs": [
    {
     "data": {
      "text/plain": [
       "[20, 40, 60]"
      ]
     },
     "execution_count": 170,
     "metadata": {},
     "output_type": "execute_result"
    }
   ],
   "source": [
    "firstList[1:6:2]"
   ]
  },
  {
   "cell_type": "code",
   "execution_count": null,
   "id": "d163d506-7c27-4553-994d-8d3ce42628f6",
   "metadata": {},
   "outputs": [],
   "source": []
  }
 ],
 "metadata": {
  "kernelspec": {
   "display_name": "Python [conda env:base] *",
   "language": "python",
   "name": "conda-base-py"
  },
  "language_info": {
   "codemirror_mode": {
    "name": "ipython",
    "version": 3
   },
   "file_extension": ".py",
   "mimetype": "text/x-python",
   "name": "python",
   "nbconvert_exporter": "python",
   "pygments_lexer": "ipython3",
   "version": "3.12.7"
  }
 },
 "nbformat": 4,
 "nbformat_minor": 5
}
